{
 "cells": [
  {
   "cell_type": "markdown",
   "source": [
    "# 07: Sample Cities\n",
    "\n",
    "Data from: [https://simplemaps.com/data/world-cities](https://simplemaps.com/data/world-cities)\n",
    "\n",
    "Sample cities to pull images off of from Google Earth Engine."
   ],
   "metadata": {
    "collapsed": false,
    "pycharm": {
     "name": "#%% md\n"
    }
   }
  },
  {
   "cell_type": "code",
   "execution_count": 10,
   "outputs": [],
   "source": [
    "import pandas as pd\n",
    "import numpy as np"
   ],
   "metadata": {
    "collapsed": false,
    "pycharm": {
     "name": "#%%\n"
    }
   }
  },
  {
   "cell_type": "code",
   "execution_count": 2,
   "outputs": [],
   "source": [
    "world_cities = pd.read_csv('../data/worldcities.csv')"
   ],
   "metadata": {
    "collapsed": false,
    "pycharm": {
     "name": "#%%\n"
    }
   }
  },
  {
   "cell_type": "code",
   "execution_count": 3,
   "outputs": [
    {
     "data": {
      "text/plain": "        city city_ascii      lat       lng      country iso2 iso3 admin_name  \\\n0      Tokyo      Tokyo  35.6839  139.7744        Japan   JP  JPN      Tōkyō   \n1    Jakarta    Jakarta  -6.2146  106.8451    Indonesia   ID  IDN    Jakarta   \n2      Delhi      Delhi  28.6667   77.2167        India   IN  IND      Delhi   \n3     Manila     Manila  14.6000  120.9833  Philippines   PH  PHL     Manila   \n4  São Paulo  Sao Paulo -23.5504  -46.6339       Brazil   BR  BRA  São Paulo   \n\n   capital  population          id  \n0  primary  39105000.0  1392685764  \n1  primary  35362000.0  1360771077  \n2    admin  31870000.0  1356872604  \n3  primary  23971000.0  1608618140  \n4    admin  22495000.0  1076532519  ",
      "text/html": "<div>\n<style scoped>\n    .dataframe tbody tr th:only-of-type {\n        vertical-align: middle;\n    }\n\n    .dataframe tbody tr th {\n        vertical-align: top;\n    }\n\n    .dataframe thead th {\n        text-align: right;\n    }\n</style>\n<table border=\"1\" class=\"dataframe\">\n  <thead>\n    <tr style=\"text-align: right;\">\n      <th></th>\n      <th>city</th>\n      <th>city_ascii</th>\n      <th>lat</th>\n      <th>lng</th>\n      <th>country</th>\n      <th>iso2</th>\n      <th>iso3</th>\n      <th>admin_name</th>\n      <th>capital</th>\n      <th>population</th>\n      <th>id</th>\n    </tr>\n  </thead>\n  <tbody>\n    <tr>\n      <th>0</th>\n      <td>Tokyo</td>\n      <td>Tokyo</td>\n      <td>35.6839</td>\n      <td>139.7744</td>\n      <td>Japan</td>\n      <td>JP</td>\n      <td>JPN</td>\n      <td>Tōkyō</td>\n      <td>primary</td>\n      <td>39105000.0</td>\n      <td>1392685764</td>\n    </tr>\n    <tr>\n      <th>1</th>\n      <td>Jakarta</td>\n      <td>Jakarta</td>\n      <td>-6.2146</td>\n      <td>106.8451</td>\n      <td>Indonesia</td>\n      <td>ID</td>\n      <td>IDN</td>\n      <td>Jakarta</td>\n      <td>primary</td>\n      <td>35362000.0</td>\n      <td>1360771077</td>\n    </tr>\n    <tr>\n      <th>2</th>\n      <td>Delhi</td>\n      <td>Delhi</td>\n      <td>28.6667</td>\n      <td>77.2167</td>\n      <td>India</td>\n      <td>IN</td>\n      <td>IND</td>\n      <td>Delhi</td>\n      <td>admin</td>\n      <td>31870000.0</td>\n      <td>1356872604</td>\n    </tr>\n    <tr>\n      <th>3</th>\n      <td>Manila</td>\n      <td>Manila</td>\n      <td>14.6000</td>\n      <td>120.9833</td>\n      <td>Philippines</td>\n      <td>PH</td>\n      <td>PHL</td>\n      <td>Manila</td>\n      <td>primary</td>\n      <td>23971000.0</td>\n      <td>1608618140</td>\n    </tr>\n    <tr>\n      <th>4</th>\n      <td>São Paulo</td>\n      <td>Sao Paulo</td>\n      <td>-23.5504</td>\n      <td>-46.6339</td>\n      <td>Brazil</td>\n      <td>BR</td>\n      <td>BRA</td>\n      <td>São Paulo</td>\n      <td>admin</td>\n      <td>22495000.0</td>\n      <td>1076532519</td>\n    </tr>\n  </tbody>\n</table>\n</div>"
     },
     "execution_count": 3,
     "metadata": {},
     "output_type": "execute_result"
    }
   ],
   "source": [
    "world_cities.head()"
   ],
   "metadata": {
    "collapsed": false,
    "pycharm": {
     "name": "#%%\n"
    }
   }
  },
  {
   "cell_type": "code",
   "execution_count": 4,
   "outputs": [
    {
     "data": {
      "text/plain": "(42905, 11)"
     },
     "execution_count": 4,
     "metadata": {},
     "output_type": "execute_result"
    }
   ],
   "source": [
    "world_cities.shape"
   ],
   "metadata": {
    "collapsed": false,
    "pycharm": {
     "name": "#%%\n"
    }
   }
  },
  {
   "cell_type": "markdown",
   "source": [
    "Population has a very long right tail, so it may be more informative to view on log scale."
   ],
   "metadata": {
    "collapsed": false,
    "pycharm": {
     "name": "#%% md\n"
    }
   }
  },
  {
   "cell_type": "code",
   "execution_count": 49,
   "outputs": [
    {
     "data": {
      "text/plain": "(42900, 11)"
     },
     "execution_count": 49,
     "metadata": {},
     "output_type": "execute_result"
    }
   ],
   "source": [
    "world_cities_filtered = world_cities[world_cities['population'] != 0]\n",
    "world_cities_filtered.shape"
   ],
   "metadata": {
    "collapsed": false,
    "pycharm": {
     "name": "#%%\n"
    }
   }
  },
  {
   "cell_type": "code",
   "execution_count": 50,
   "outputs": [
    {
     "data": {
      "text/plain": "<AxesSubplot:ylabel='Frequency'>"
     },
     "execution_count": 50,
     "metadata": {},
     "output_type": "execute_result"
    },
    {
     "data": {
      "text/plain": "<Figure size 432x288 with 1 Axes>",
      "image/png": "[encoded data removed]"
     },
     "metadata": {
      "needs_background": "light"
     },
     "output_type": "display_data"
    }
   ],
   "source": [
    "world_cities_filtered['population'].plot.hist()"
   ],
   "metadata": {
    "collapsed": false,
    "pycharm": {
     "name": "#%%\n"
    }
   }
  },
  {
   "cell_type": "code",
   "execution_count": 101,
   "outputs": [
    {
     "data": {
      "text/plain": "<AxesSubplot:ylabel='Frequency'>"
     },
     "execution_count": 101,
     "metadata": {},
     "output_type": "execute_result"
    },
    {
     "data": {
      "text/plain": "<Figure size 432x288 with 1 Axes>",
      "image/png": "[encoded data removed]"
     },
     "metadata": {
      "needs_background": "light"
     },
     "output_type": "display_data"
    }
   ],
   "source": [
    "world_cities_filtered[world_cities_filtered['population'] < 1e6].population.plot.hist()"
   ],
   "metadata": {
    "collapsed": false,
    "pycharm": {
     "name": "#%%\n"
    }
   }
  },
  {
   "cell_type": "code",
   "execution_count": 102,
   "outputs": [
    {
     "data": {
      "text/plain": "<AxesSubplot:ylabel='Frequency'>"
     },
     "execution_count": 102,
     "metadata": {},
     "output_type": "execute_result"
    },
    {
     "data": {
      "text/plain": "<Figure size 432x288 with 1 Axes>",
      "image/png": "[encoded data removed]"
     },
     "metadata": {
      "needs_background": "light"
     },
     "output_type": "display_data"
    }
   ],
   "source": [
    "world_cities_filtered[world_cities_filtered['population'] > 1e6].population.plot.hist()"
   ],
   "metadata": {
    "collapsed": false,
    "pycharm": {
     "name": "#%%\n"
    }
   }
  },
  {
   "cell_type": "code",
   "execution_count": 51,
   "outputs": [
    {
     "data": {
      "text/plain": "<AxesSubplot:ylabel='Frequency'>"
     },
     "execution_count": 51,
     "metadata": {},
     "output_type": "execute_result"
    },
    {
     "data": {
      "text/plain": "<Figure size 432x288 with 1 Axes>",
      "image/png": "[encoded data removed]"
     },
     "metadata": {
      "needs_background": "light"
     },
     "output_type": "display_data"
    }
   ],
   "source": [
    "np.log(world_cities_filtered['population']).plot.hist()"
   ],
   "metadata": {
    "collapsed": false,
    "pycharm": {
     "name": "#%%\n"
    }
   }
  },
  {
   "cell_type": "markdown",
   "source": [
    "- Divide population into 5 bins\n",
    "- Randomly sample from each bin\n",
    "    - We can get census data for years 2000, 2005 and 2010\n",
    "    - To get roughly 100 samples for each bin, we can start with sampling 40 countries in each bin\n",
    "    - 40 * 3 = 120 images for each bin, total of 600 images"
   ],
   "metadata": {
    "collapsed": false,
    "pycharm": {
     "name": "#%% md\n"
    }
   }
  },
  {
   "cell_type": "code",
   "execution_count": 60,
   "outputs": [
    {
     "name": "stderr",
     "output_type": "stream",
     "text": [
      "/tmp/ipykernel_1207370/2828231853.py:1: SettingWithCopyWarning: \n",
      "A value is trying to be set on a copy of a slice from a DataFrame.\n",
      "Try using .loc[row_indexer,col_indexer] = value instead\n",
      "\n",
      "See the caveats in the documentation: https://pandas.pydata.org/pandas-docs/stable/user_guide/indexing.html#returning-a-view-versus-a-copy\n",
      "  world_cities_filtered['log_population'] = np.log(world_cities_filtered['population'])\n",
      "/tmp/ipykernel_1207370/2828231853.py:2: SettingWithCopyWarning: \n",
      "A value is trying to be set on a copy of a slice from a DataFrame\n",
      "\n",
      "See the caveats in the documentation: https://pandas.pydata.org/pandas-docs/stable/user_guide/indexing.html#returning-a-view-versus-a-copy\n",
      "  world_cities_filtered.sort_values(by = 'log_population', inplace=True)\n"
     ]
    }
   ],
   "source": [
    "world_cities_filtered['log_population'] = np.log(world_cities_filtered['population'])\n",
    "world_cities_filtered.sort_values(by = 'log_population', inplace=True)\n",
    "world_cities_filtered.reset_index(inplace = True)"
   ],
   "metadata": {
    "collapsed": false,
    "pycharm": {
     "name": "#%%\n"
    }
   }
  },
  {
   "cell_type": "code",
   "execution_count": 61,
   "outputs": [
    {
     "data": {
      "text/plain": "   index        city  city_ascii      lat       lng  country iso2 iso3  \\\n0   9401  Mawlamyine  Mawlamyine  16.4847   97.6258  Myanmar   MM  MMR   \n1  42282   Ambarchik   Ambarchik  69.6167  162.2833   Russia   RU  RUS   \n2  42871      Zillah      Zillah  28.5504   17.5834    Libya   LY  LBY   \n3  42870   Puca Urco   Puca Urco  -2.3328  -71.9167     Peru   PE  PER   \n4  42869      Andoas      Andoas  -2.9021  -76.4025     Peru   PE  PER   \n\n         admin_name capital  population          id  log_population  \n0         Mon State   admin         2.0  1104530702        0.693147  \n1  Sakha (Yakutiya)     NaN         4.0  1643739159        1.386294  \n2         Al Jufrah     NaN        10.0  1434245699        2.302585  \n3            Loreto     NaN        10.0  1604085670        2.302585  \n4            Loreto     NaN        10.0  1604038416        2.302585  ",
      "text/html": "<div>\n<style scoped>\n    .dataframe tbody tr th:only-of-type {\n        vertical-align: middle;\n    }\n\n    .dataframe tbody tr th {\n        vertical-align: top;\n    }\n\n    .dataframe thead th {\n        text-align: right;\n    }\n</style>\n<table border=\"1\" class=\"dataframe\">\n  <thead>\n    <tr style=\"text-align: right;\">\n      <th></th>\n      <th>index</th>\n      <th>city</th>\n      <th>city_ascii</th>\n      <th>lat</th>\n      <th>lng</th>\n      <th>country</th>\n      <th>iso2</th>\n      <th>iso3</th>\n      <th>admin_name</th>\n      <th>capital</th>\n      <th>population</th>\n      <th>id</th>\n      <th>log_population</th>\n    </tr>\n  </thead>\n  <tbody>\n    <tr>\n      <th>0</th>\n      <td>9401</td>\n      <td>Mawlamyine</td>\n      <td>Mawlamyine</td>\n      <td>16.4847</td>\n      <td>97.6258</td>\n      <td>Myanmar</td>\n      <td>MM</td>\n      <td>MMR</td>\n      <td>Mon State</td>\n      <td>admin</td>\n      <td>2.0</td>\n      <td>1104530702</td>\n      <td>0.693147</td>\n    </tr>\n    <tr>\n      <th>1</th>\n      <td>42282</td>\n      <td>Ambarchik</td>\n      <td>Ambarchik</td>\n      <td>69.6167</td>\n      <td>162.2833</td>\n      <td>Russia</td>\n      <td>RU</td>\n      <td>RUS</td>\n      <td>Sakha (Yakutiya)</td>\n      <td>NaN</td>\n      <td>4.0</td>\n      <td>1643739159</td>\n      <td>1.386294</td>\n    </tr>\n    <tr>\n      <th>2</th>\n      <td>42871</td>\n      <td>Zillah</td>\n      <td>Zillah</td>\n      <td>28.5504</td>\n      <td>17.5834</td>\n      <td>Libya</td>\n      <td>LY</td>\n      <td>LBY</td>\n      <td>Al Jufrah</td>\n      <td>NaN</td>\n      <td>10.0</td>\n      <td>1434245699</td>\n      <td>2.302585</td>\n    </tr>\n    <tr>\n      <th>3</th>\n      <td>42870</td>\n      <td>Puca Urco</td>\n      <td>Puca Urco</td>\n      <td>-2.3328</td>\n      <td>-71.9167</td>\n      <td>Peru</td>\n      <td>PE</td>\n      <td>PER</td>\n      <td>Loreto</td>\n      <td>NaN</td>\n      <td>10.0</td>\n      <td>1604085670</td>\n      <td>2.302585</td>\n    </tr>\n    <tr>\n      <th>4</th>\n      <td>42869</td>\n      <td>Andoas</td>\n      <td>Andoas</td>\n      <td>-2.9021</td>\n      <td>-76.4025</td>\n      <td>Peru</td>\n      <td>PE</td>\n      <td>PER</td>\n      <td>Loreto</td>\n      <td>NaN</td>\n      <td>10.0</td>\n      <td>1604038416</td>\n      <td>2.302585</td>\n    </tr>\n  </tbody>\n</table>\n</div>"
     },
     "execution_count": 61,
     "metadata": {},
     "output_type": "execute_result"
    }
   ],
   "source": [
    "world_cities_filtered.head()"
   ],
   "metadata": {
    "collapsed": false,
    "pycharm": {
     "name": "#%%\n"
    }
   }
  },
  {
   "cell_type": "code",
   "execution_count": 63,
   "outputs": [
    {
     "data": {
      "text/plain": "(42900, 13)"
     },
     "execution_count": 63,
     "metadata": {},
     "output_type": "execute_result"
    }
   ],
   "source": [
    "world_cities_filtered.shape"
   ],
   "metadata": {
    "collapsed": false,
    "pycharm": {
     "name": "#%%\n"
    }
   }
  },
  {
   "cell_type": "code",
   "execution_count": 103,
   "outputs": [
    {
     "data": {
      "text/plain": "     population  log_population\n0.0         2.0        0.693147\n0.2      7308.8        8.896834\n0.4     11867.0        9.381517\n0.6     21653.4        9.982918\n0.8     52364.6       10.865986\n1.0  39105000.0       17.481761",
      "text/html": "<div>\n<style scoped>\n    .dataframe tbody tr th:only-of-type {\n        vertical-align: middle;\n    }\n\n    .dataframe tbody tr th {\n        vertical-align: top;\n    }\n\n    .dataframe thead th {\n        text-align: right;\n    }\n</style>\n<table border=\"1\" class=\"dataframe\">\n  <thead>\n    <tr style=\"text-align: right;\">\n      <th></th>\n      <th>population</th>\n      <th>log_population</th>\n    </tr>\n  </thead>\n  <tbody>\n    <tr>\n      <th>0.0</th>\n      <td>2.0</td>\n      <td>0.693147</td>\n    </tr>\n    <tr>\n      <th>0.2</th>\n      <td>7308.8</td>\n      <td>8.896834</td>\n    </tr>\n    <tr>\n      <th>0.4</th>\n      <td>11867.0</td>\n      <td>9.381517</td>\n    </tr>\n    <tr>\n      <th>0.6</th>\n      <td>21653.4</td>\n      <td>9.982918</td>\n    </tr>\n    <tr>\n      <th>0.8</th>\n      <td>52364.6</td>\n      <td>10.865986</td>\n    </tr>\n    <tr>\n      <th>1.0</th>\n      <td>39105000.0</td>\n      <td>17.481761</td>\n    </tr>\n  </tbody>\n</table>\n</div>"
     },
     "execution_count": 103,
     "metadata": {},
     "output_type": "execute_result"
    }
   ],
   "source": [
    "# Get min and max population\n",
    "pop_quantiles = world_cities_filtered[['population', 'log_population']].quantile([0, 0.2, 0.4, 0.6, 0.8, 1])\n",
    "pop_quantiles"
   ],
   "metadata": {
    "collapsed": false,
    "pycharm": {
     "name": "#%%\n"
    }
   }
  },
  {
   "cell_type": "code",
   "execution_count": 104,
   "outputs": [],
   "source": [
    "sample0 = world_cities_filtered[world_cities_filtered['population'] <= pop_quantiles.population[0.2]].sample(40, random_state=10)\n",
    "sample1 = world_cities_filtered[world_cities_filtered['population'] <= pop_quantiles.population[0.4]].sample(40, random_state=10)\n",
    "sample2 = world_cities_filtered[world_cities_filtered['population'] <= pop_quantiles.population[0.6]].sample(40, random_state=10)\n",
    "sample3 = world_cities_filtered[world_cities_filtered['population'] <= pop_quantiles.population[0.8]].sample(40, random_state=10)\n",
    "sample4 = world_cities_filtered[world_cities_filtered['population'] <= pop_quantiles.population[1.0]].sample(40, random_state=10)"
   ],
   "metadata": {
    "collapsed": false,
    "pycharm": {
     "name": "#%%\n"
    }
   }
  },
  {
   "cell_type": "code",
   "execution_count": 117,
   "outputs": [],
   "source": [
    "sample = pd.concat([sample0, sample1, sample2, sample3, sample4]).drop('index', axis = 1)"
   ],
   "metadata": {
    "collapsed": false,
    "pycharm": {
     "name": "#%%\n"
    }
   }
  },
  {
   "cell_type": "code",
   "execution_count": 118,
   "outputs": [
    {
     "data": {
      "text/plain": "               city     city_ascii      lat       lng        country iso2  \\\n3223         Taiuva         Taiuva -21.1239  -48.4519         Brazil   BR   \n775          Agnone         Agnone  41.8104   14.3785          Italy   IT   \n1469  San Francisco  San Francisco  20.5333 -102.5000         Mexico   MX   \n7650         Buziaş         Buzias  45.6500   21.6000        Romania   RO   \n116   Čučer-Sandevo  Cucer-Sandevo  42.0975   21.3877      Macedonia   MK   \n4545    La Primaube    La Primaube  44.3139    2.5350         France   FR   \n5242        Wilkins        Wilkins  40.4265  -79.8230  United States   US   \n4533           Waki           Waki  34.2022  132.2203          Japan   JP   \n7023     Erval Sêco     Erval Seco -27.5489  -53.5039         Brazil   BR   \n930      Bāndhkhola     Bandhkhola  24.2542   87.9880          India   IN   \n\n     iso3         admin_name capital  population          id  log_population  \n3223  BRA          São Paulo     NaN      5605.0  1076764363        8.631414  \n775   ITA             Molise     NaN      5008.0  1380842283        8.518792  \n1469  MEX            Jalisco     NaN      5167.0  1484609468        8.550048  \n7650  ROU              Timiş     NaN      7023.0  1642000046        8.856946  \n116   MKD      Čučer-Sandevo   admin       274.0  1807969277        5.613128  \n4545  FRA          Occitanie     NaN      5987.0  1250003343        8.697346  \n5242  USA       Pennsylvania     NaN      6204.0  1840150316        8.732950  \n4533  JPN          Hiroshima     NaN      5984.0  1392843750        8.696845  \n7023  BRA  Rio Grande do Sul     NaN      6802.0  1076284730        8.824972  \n930   IND        West Bengal     NaN      5042.0  1356958521        8.525558  ",
      "text/html": "<div>\n<style scoped>\n    .dataframe tbody tr th:only-of-type {\n        vertical-align: middle;\n    }\n\n    .dataframe tbody tr th {\n        vertical-align: top;\n    }\n\n    .dataframe thead th {\n        text-align: right;\n    }\n</style>\n<table border=\"1\" class=\"dataframe\">\n  <thead>\n    <tr style=\"text-align: right;\">\n      <th></th>\n      <th>city</th>\n      <th>city_ascii</th>\n      <th>lat</th>\n      <th>lng</th>\n      <th>country</th>\n      <th>iso2</th>\n      <th>iso3</th>\n      <th>admin_name</th>\n      <th>capital</th>\n      <th>population</th>\n      <th>id</th>\n      <th>log_population</th>\n    </tr>\n  </thead>\n  <tbody>\n    <tr>\n      <th>3223</th>\n      <td>Taiuva</td>\n      <td>Taiuva</td>\n      <td>-21.1239</td>\n      <td>-48.4519</td>\n      <td>Brazil</td>\n      <td>BR</td>\n      <td>BRA</td>\n      <td>São Paulo</td>\n      <td>NaN</td>\n      <td>5605.0</td>\n      <td>1076764363</td>\n      <td>8.631414</td>\n    </tr>\n    <tr>\n      <th>775</th>\n      <td>Agnone</td>\n      <td>Agnone</td>\n      <td>41.8104</td>\n      <td>14.3785</td>\n      <td>Italy</td>\n      <td>IT</td>\n      <td>ITA</td>\n      <td>Molise</td>\n      <td>NaN</td>\n      <td>5008.0</td>\n      <td>1380842283</td>\n      <td>8.518792</td>\n    </tr>\n    <tr>\n      <th>1469</th>\n      <td>San Francisco</td>\n      <td>San Francisco</td>\n      <td>20.5333</td>\n      <td>-102.5000</td>\n      <td>Mexico</td>\n      <td>MX</td>\n      <td>MEX</td>\n      <td>Jalisco</td>\n      <td>NaN</td>\n      <td>5167.0</td>\n      <td>1484609468</td>\n      <td>8.550048</td>\n    </tr>\n    <tr>\n      <th>7650</th>\n      <td>Buziaş</td>\n      <td>Buzias</td>\n      <td>45.6500</td>\n      <td>21.6000</td>\n      <td>Romania</td>\n      <td>RO</td>\n      <td>ROU</td>\n      <td>Timiş</td>\n      <td>NaN</td>\n      <td>7023.0</td>\n      <td>1642000046</td>\n      <td>8.856946</td>\n    </tr>\n    <tr>\n      <th>116</th>\n      <td>Čučer-Sandevo</td>\n      <td>Cucer-Sandevo</td>\n      <td>42.0975</td>\n      <td>21.3877</td>\n      <td>Macedonia</td>\n      <td>MK</td>\n      <td>MKD</td>\n      <td>Čučer-Sandevo</td>\n      <td>admin</td>\n      <td>274.0</td>\n      <td>1807969277</td>\n      <td>5.613128</td>\n    </tr>\n    <tr>\n      <th>4545</th>\n      <td>La Primaube</td>\n      <td>La Primaube</td>\n      <td>44.3139</td>\n      <td>2.5350</td>\n      <td>France</td>\n      <td>FR</td>\n      <td>FRA</td>\n      <td>Occitanie</td>\n      <td>NaN</td>\n      <td>5987.0</td>\n      <td>1250003343</td>\n      <td>8.697346</td>\n    </tr>\n    <tr>\n      <th>5242</th>\n      <td>Wilkins</td>\n      <td>Wilkins</td>\n      <td>40.4265</td>\n      <td>-79.8230</td>\n      <td>United States</td>\n      <td>US</td>\n      <td>USA</td>\n      <td>Pennsylvania</td>\n      <td>NaN</td>\n      <td>6204.0</td>\n      <td>1840150316</td>\n      <td>8.732950</td>\n    </tr>\n    <tr>\n      <th>4533</th>\n      <td>Waki</td>\n      <td>Waki</td>\n      <td>34.2022</td>\n      <td>132.2203</td>\n      <td>Japan</td>\n      <td>JP</td>\n      <td>JPN</td>\n      <td>Hiroshima</td>\n      <td>NaN</td>\n      <td>5984.0</td>\n      <td>1392843750</td>\n      <td>8.696845</td>\n    </tr>\n    <tr>\n      <th>7023</th>\n      <td>Erval Sêco</td>\n      <td>Erval Seco</td>\n      <td>-27.5489</td>\n      <td>-53.5039</td>\n      <td>Brazil</td>\n      <td>BR</td>\n      <td>BRA</td>\n      <td>Rio Grande do Sul</td>\n      <td>NaN</td>\n      <td>6802.0</td>\n      <td>1076284730</td>\n      <td>8.824972</td>\n    </tr>\n    <tr>\n      <th>930</th>\n      <td>Bāndhkhola</td>\n      <td>Bandhkhola</td>\n      <td>24.2542</td>\n      <td>87.9880</td>\n      <td>India</td>\n      <td>IN</td>\n      <td>IND</td>\n      <td>West Bengal</td>\n      <td>NaN</td>\n      <td>5042.0</td>\n      <td>1356958521</td>\n      <td>8.525558</td>\n    </tr>\n  </tbody>\n</table>\n</div>"
     },
     "execution_count": 118,
     "metadata": {},
     "output_type": "execute_result"
    }
   ],
   "source": [
    "sample.head(10)"
   ],
   "metadata": {
    "collapsed": false,
    "pycharm": {
     "name": "#%%\n"
    }
   }
  },
  {
   "cell_type": "code",
   "execution_count": 107,
   "outputs": [
    {
     "data": {
      "text/plain": "(200, 13)"
     },
     "execution_count": 107,
     "metadata": {},
     "output_type": "execute_result"
    }
   ],
   "source": [
    "sample.shape"
   ],
   "metadata": {
    "collapsed": false,
    "pycharm": {
     "name": "#%%\n"
    }
   }
  },
  {
   "cell_type": "code",
   "execution_count": 108,
   "outputs": [
    {
     "data": {
      "text/plain": "<AxesSubplot:ylabel='Frequency'>"
     },
     "execution_count": 108,
     "metadata": {},
     "output_type": "execute_result"
    },
    {
     "data": {
      "text/plain": "<Figure size 432x288 with 1 Axes>",
      "image/png": "[encoded data removed]"
     },
     "metadata": {
      "needs_background": "light"
     },
     "output_type": "display_data"
    }
   ],
   "source": [
    "sample['population'].plot.hist()"
   ],
   "metadata": {
    "collapsed": false,
    "pycharm": {
     "name": "#%%\n"
    }
   }
  },
  {
   "cell_type": "code",
   "execution_count": 109,
   "outputs": [
    {
     "data": {
      "text/plain": "<AxesSubplot:ylabel='Frequency'>"
     },
     "execution_count": 109,
     "metadata": {},
     "output_type": "execute_result"
    },
    {
     "data": {
      "text/plain": "<Figure size 432x288 with 1 Axes>",
      "image/png": "[encoded data removed]"
     },
     "metadata": {
      "needs_background": "light"
     },
     "output_type": "display_data"
    }
   ],
   "source": [
    "sample['log_population'].plot.hist()"
   ],
   "metadata": {
    "collapsed": false,
    "pycharm": {
     "name": "#%%\n"
    }
   }
  },
  {
   "cell_type": "markdown",
   "source": [
    "There are slightly more countries relatively in this sample with low/high populations, but the distribution still looks very skewed to bin in the middle. In order to train the model, I would want to have enough samples of low and high population images. I may have to take a different sample later, but we'll start with this for now.\n",
    "\n",
    "Additionally, I'll be taking an image around the city (not just the city) so these population numbers will only serve as a proxy for what the actual population distribution will look like."
   ],
   "metadata": {
    "collapsed": false,
    "pycharm": {
     "name": "#%% md\n"
    }
   }
  },
  {
   "cell_type": "code",
   "execution_count": 120,
   "outputs": [],
   "source": [
    "sample.to_csv('../data/city_samples_0.csv', index = False)"
   ],
   "metadata": {
    "collapsed": false,
    "pycharm": {
     "name": "#%%\n"
    }
   }
  },
  {
   "cell_type": "code",
   "execution_count": 119,
   "outputs": [
    {
     "data": {
      "text/plain": "               city     city_ascii      lat       lng    country iso2 iso3  \\\n3223         Taiuva         Taiuva -21.1239  -48.4519     Brazil   BR  BRA   \n775          Agnone         Agnone  41.8104   14.3785      Italy   IT  ITA   \n1469  San Francisco  San Francisco  20.5333 -102.5000     Mexico   MX  MEX   \n7650         Buziaş         Buzias  45.6500   21.6000    Romania   RO  ROU   \n116   Čučer-Sandevo  Cucer-Sandevo  42.0975   21.3877  Macedonia   MK  MKD   \n\n         admin_name capital  population          id  log_population  \n3223      São Paulo     NaN      5605.0  1076764363        8.631414  \n775          Molise     NaN      5008.0  1380842283        8.518792  \n1469        Jalisco     NaN      5167.0  1484609468        8.550048  \n7650          Timiş     NaN      7023.0  1642000046        8.856946  \n116   Čučer-Sandevo   admin       274.0  1807969277        5.613128  ",
      "text/html": "<div>\n<style scoped>\n    .dataframe tbody tr th:only-of-type {\n        vertical-align: middle;\n    }\n\n    .dataframe tbody tr th {\n        vertical-align: top;\n    }\n\n    .dataframe thead th {\n        text-align: right;\n    }\n</style>\n<table border=\"1\" class=\"dataframe\">\n  <thead>\n    <tr style=\"text-align: right;\">\n      <th></th>\n      <th>city</th>\n      <th>city_ascii</th>\n      <th>lat</th>\n      <th>lng</th>\n      <th>country</th>\n      <th>iso2</th>\n      <th>iso3</th>\n      <th>admin_name</th>\n      <th>capital</th>\n      <th>population</th>\n      <th>id</th>\n      <th>log_population</th>\n    </tr>\n  </thead>\n  <tbody>\n    <tr>\n      <th>3223</th>\n      <td>Taiuva</td>\n      <td>Taiuva</td>\n      <td>-21.1239</td>\n      <td>-48.4519</td>\n      <td>Brazil</td>\n      <td>BR</td>\n      <td>BRA</td>\n      <td>São Paulo</td>\n      <td>NaN</td>\n      <td>5605.0</td>\n      <td>1076764363</td>\n      <td>8.631414</td>\n    </tr>\n    <tr>\n      <th>775</th>\n      <td>Agnone</td>\n      <td>Agnone</td>\n      <td>41.8104</td>\n      <td>14.3785</td>\n      <td>Italy</td>\n      <td>IT</td>\n      <td>ITA</td>\n      <td>Molise</td>\n      <td>NaN</td>\n      <td>5008.0</td>\n      <td>1380842283</td>\n      <td>8.518792</td>\n    </tr>\n    <tr>\n      <th>1469</th>\n      <td>San Francisco</td>\n      <td>San Francisco</td>\n      <td>20.5333</td>\n      <td>-102.5000</td>\n      <td>Mexico</td>\n      <td>MX</td>\n      <td>MEX</td>\n      <td>Jalisco</td>\n      <td>NaN</td>\n      <td>5167.0</td>\n      <td>1484609468</td>\n      <td>8.550048</td>\n    </tr>\n    <tr>\n      <th>7650</th>\n      <td>Buziaş</td>\n      <td>Buzias</td>\n      <td>45.6500</td>\n      <td>21.6000</td>\n      <td>Romania</td>\n      <td>RO</td>\n      <td>ROU</td>\n      <td>Timiş</td>\n      <td>NaN</td>\n      <td>7023.0</td>\n      <td>1642000046</td>\n      <td>8.856946</td>\n    </tr>\n    <tr>\n      <th>116</th>\n      <td>Čučer-Sandevo</td>\n      <td>Cucer-Sandevo</td>\n      <td>42.0975</td>\n      <td>21.3877</td>\n      <td>Macedonia</td>\n      <td>MK</td>\n      <td>MKD</td>\n      <td>Čučer-Sandevo</td>\n      <td>admin</td>\n      <td>274.0</td>\n      <td>1807969277</td>\n      <td>5.613128</td>\n    </tr>\n  </tbody>\n</table>\n</div>"
     },
     "execution_count": 119,
     "metadata": {},
     "output_type": "execute_result"
    }
   ],
   "source": [
    "sample.head()"
   ],
   "metadata": {
    "collapsed": false,
    "pycharm": {
     "name": "#%%\n"
    }
   }
  }
 ],
 "metadata": {
  "kernelspec": {
   "name": "nightlights",
   "language": "python",
   "display_name": "NightLights"
  },
  "language_info": {
   "codemirror_mode": {
    "name": "ipython",
    "version": 2
   },
   "file_extension": ".py",
   "mimetype": "text/x-python",
   "name": "python",
   "nbconvert_exporter": "python",
   "pygments_lexer": "ipython2",
   "version": "2.7.6"
  }
 },
 "nbformat": 4,
 "nbformat_minor": 0
}