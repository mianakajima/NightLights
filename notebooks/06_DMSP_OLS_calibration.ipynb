{
 "cells": [
  {
   "cell_type": "markdown",
   "source": [
    "# 06: Calibrate DMSP-OLS data\n",
    "\n",
    "Following calibration here: https://worldbank.github.io/OpenNightLights/tutorials/mod5_1_DMSP-OLS_intercalibration.html#id3"
   ],
   "metadata": {
    "collapsed": false,
    "pycharm": {
     "name": "#%% md\n"
    }
   }
  },
  {
   "cell_type": "code",
   "execution_count": 70,
   "outputs": [],
   "source": [
    "import ee\n",
    "import pandas as pd\n",
    "import geemap\n",
    "import matplotlib.pyplot as plt\n",
    "import seaborn as sns"
   ],
   "metadata": {
    "collapsed": false,
    "pycharm": {
     "name": "#%%\n"
    }
   }
  },
  {
   "cell_type": "code",
   "execution_count": 4,
   "outputs": [],
   "source": [
    "try:\n",
    "    ee.Initialize()\n",
    "except Exception as e:\n",
    "    ee.Authenticate()\n",
    "    ee.Initialize()"
   ],
   "metadata": {
    "collapsed": false,
    "pycharm": {
     "name": "#%%\n"
    }
   }
  },
  {
   "cell_type": "code",
   "execution_count": 6,
   "outputs": [],
   "source": [
    "collection = ee.ImageCollection(\"NOAA/DMSP-OLS/NIGHTTIME_LIGHTS\").select('stable_lights')"
   ],
   "metadata": {
    "collapsed": false,
    "pycharm": {
     "name": "#%%\n"
    }
   }
  },
  {
   "cell_type": "code",
   "execution_count": 97,
   "outputs": [],
   "source": [
    "lights_2007 = collection.filterDate('2007-01-01', '2007-12-31')"
   ],
   "metadata": {
    "collapsed": false,
    "pycharm": {
     "name": "#%%\n"
    }
   }
  },
  {
   "cell_type": "code",
   "execution_count": 127,
   "outputs": [
    {
     "data": {
      "text/plain": "{'type': 'Image',\n 'bands': [{'id': 'stable_lights',\n   'data_type': {'type': 'PixelType',\n    'precision': 'int',\n    'min': 0,\n    'max': 255},\n   'dimensions': [43201, 16801],\n   'crs': 'EPSG:4326',\n   'crs_transform': [0.0083333333,\n    0,\n    -180.00416666665,\n    0,\n    -0.0083333333,\n    75.00416666665]}],\n 'version': 1504844069669030.0,\n 'id': 'NOAA/DMSP-OLS/NIGHTTIME_LIGHTS/F162007',\n 'properties': {'system:time_start': 1167609600000,\n  'system:time_end': 1199145600000,\n  'system:asset_size': 1481938457,\n  'system:index': 'F162007'}}"
     },
     "execution_count": 127,
     "metadata": {},
     "output_type": "execute_result"
    }
   ],
   "source": [
    "lights_2007.sort('system:index', False).first().getInfo()"
   ],
   "metadata": {
    "collapsed": false,
    "pycharm": {
     "name": "#%%\n"
    }
   }
  },
  {
   "cell_type": "code",
   "execution_count": 93,
   "outputs": [],
   "source": [
    "id = lights_2007.getInfo()['id']"
   ],
   "metadata": {
    "collapsed": false,
    "pycharm": {
     "name": "#%%\n"
    }
   }
  },
  {
   "cell_type": "code",
   "execution_count": 94,
   "outputs": [
    {
     "data": {
      "text/plain": "'NOAA/DMSP-OLS/NIGHTTIME_LIGHTS/F152008'"
     },
     "execution_count": 94,
     "metadata": {},
     "output_type": "execute_result"
    }
   ],
   "source": [
    "id"
   ],
   "metadata": {
    "collapsed": false,
    "pycharm": {
     "name": "#%%\n"
    }
   }
  },
  {
   "cell_type": "code",
   "execution_count": 77,
   "outputs": [
    {
     "data": {
      "text/plain": "'F15'"
     },
     "execution_count": 77,
     "metadata": {},
     "output_type": "execute_result"
    }
   ],
   "source": [
    "id[-7:-4]"
   ],
   "metadata": {
    "collapsed": false,
    "pycharm": {
     "name": "#%%\n"
    }
   }
  },
  {
   "cell_type": "code",
   "execution_count": 78,
   "outputs": [],
   "source": [
    "calibration = pd.read_csv('../data/Elvidge_DMSP_intercalib_coef.csv')"
   ],
   "metadata": {
    "collapsed": false,
    "pycharm": {
     "name": "#%%\n"
    }
   }
  },
  {
   "cell_type": "code",
   "execution_count": 79,
   "outputs": [
    {
     "data": {
      "text/plain": "   satellite  year      c0      c1      c2\n23       F15  2007  1.3606  1.2974 -0.0045",
      "text/html": "<div>\n<style scoped>\n    .dataframe tbody tr th:only-of-type {\n        vertical-align: middle;\n    }\n\n    .dataframe tbody tr th {\n        vertical-align: top;\n    }\n\n    .dataframe thead th {\n        text-align: right;\n    }\n</style>\n<table border=\"1\" class=\"dataframe\">\n  <thead>\n    <tr style=\"text-align: right;\">\n      <th></th>\n      <th>satellite</th>\n      <th>year</th>\n      <th>c0</th>\n      <th>c1</th>\n      <th>c2</th>\n    </tr>\n  </thead>\n  <tbody>\n    <tr>\n      <th>23</th>\n      <td>F15</td>\n      <td>2007</td>\n      <td>1.3606</td>\n      <td>1.2974</td>\n      <td>-0.0045</td>\n    </tr>\n  </tbody>\n</table>\n</div>"
     },
     "execution_count": 79,
     "metadata": {},
     "output_type": "execute_result"
    }
   ],
   "source": [
    "calibration.loc[((calibration['satellite'] == \"F15\") & (calibration['year'] == 2007))]"
   ],
   "metadata": {
    "collapsed": false,
    "pycharm": {
     "name": "#%%\n"
    }
   }
  },
  {
   "cell_type": "code",
   "execution_count": 80,
   "outputs": [
    {
     "data": {
      "text/plain": "  satellite  year      c0      c1      c2\n0       F10  1992 -2.0570  1.5903 -0.0090\n1       F10  1993 -1.0582  1.5983 -0.0093\n2       F10  1994 -0.3458  1.4864 -0.0079\n3       F12  1994 -0.6890  1.1770 -0.0025\n4       F12  1995 -0.0515  1.2293 -0.0038",
      "text/html": "<div>\n<style scoped>\n    .dataframe tbody tr th:only-of-type {\n        vertical-align: middle;\n    }\n\n    .dataframe tbody tr th {\n        vertical-align: top;\n    }\n\n    .dataframe thead th {\n        text-align: right;\n    }\n</style>\n<table border=\"1\" class=\"dataframe\">\n  <thead>\n    <tr style=\"text-align: right;\">\n      <th></th>\n      <th>satellite</th>\n      <th>year</th>\n      <th>c0</th>\n      <th>c1</th>\n      <th>c2</th>\n    </tr>\n  </thead>\n  <tbody>\n    <tr>\n      <th>0</th>\n      <td>F10</td>\n      <td>1992</td>\n      <td>-2.0570</td>\n      <td>1.5903</td>\n      <td>-0.0090</td>\n    </tr>\n    <tr>\n      <th>1</th>\n      <td>F10</td>\n      <td>1993</td>\n      <td>-1.0582</td>\n      <td>1.5983</td>\n      <td>-0.0093</td>\n    </tr>\n    <tr>\n      <th>2</th>\n      <td>F10</td>\n      <td>1994</td>\n      <td>-0.3458</td>\n      <td>1.4864</td>\n      <td>-0.0079</td>\n    </tr>\n    <tr>\n      <th>3</th>\n      <td>F12</td>\n      <td>1994</td>\n      <td>-0.6890</td>\n      <td>1.1770</td>\n      <td>-0.0025</td>\n    </tr>\n    <tr>\n      <th>4</th>\n      <td>F12</td>\n      <td>1995</td>\n      <td>-0.0515</td>\n      <td>1.2293</td>\n      <td>-0.0038</td>\n    </tr>\n  </tbody>\n</table>\n</div>"
     },
     "execution_count": 80,
     "metadata": {},
     "output_type": "execute_result"
    }
   ],
   "source": [
    "calibration.head()"
   ],
   "metadata": {
    "collapsed": false,
    "pycharm": {
     "name": "#%%\n"
    }
   }
  },
  {
   "cell_type": "code",
   "execution_count": 50,
   "outputs": [],
   "source": [
    "def get_calib_coefficients(id, year):\n",
    "\n",
    "    satellite = id[-7:-4]\n",
    "    coefficient_df = calibration.loc[(calibration['satellite'] == satellite) & (calibration['year'] == year)].reset_index()\n",
    "\n",
    "    return coefficient_df['c0'][0], coefficient_df['c1'][0], coefficient_df['c2'][0]"
   ],
   "metadata": {
    "collapsed": false,
    "pycharm": {
     "name": "#%%\n"
    }
   }
  },
  {
   "cell_type": "code",
   "execution_count": 81,
   "outputs": [],
   "source": [
    "c0, c1, c2 = get_calib_coefficients(id, 2007)"
   ],
   "metadata": {
    "collapsed": false,
    "pycharm": {
     "name": "#%%\n"
    }
   }
  },
  {
   "cell_type": "code",
   "execution_count": 82,
   "outputs": [
    {
     "data": {
      "text/plain": "1.3606"
     },
     "execution_count": 82,
     "metadata": {},
     "output_type": "execute_result"
    }
   ],
   "source": [
    "c0"
   ],
   "metadata": {
    "collapsed": false,
    "pycharm": {
     "name": "#%%\n"
    }
   }
  },
  {
   "cell_type": "code",
   "execution_count": 83,
   "outputs": [
    {
     "data": {
      "text/plain": "1.2974"
     },
     "execution_count": 83,
     "metadata": {},
     "output_type": "execute_result"
    }
   ],
   "source": [
    "c1"
   ],
   "metadata": {
    "collapsed": false,
    "pycharm": {
     "name": "#%%\n"
    }
   }
  },
  {
   "cell_type": "code",
   "execution_count": 84,
   "outputs": [
    {
     "data": {
      "text/plain": "-0.0045"
     },
     "execution_count": 84,
     "metadata": {},
     "output_type": "execute_result"
    }
   ],
   "source": [
    "c2"
   ],
   "metadata": {
    "collapsed": false,
    "pycharm": {
     "name": "#%%\n"
    }
   }
  },
  {
   "cell_type": "code",
   "execution_count": 85,
   "outputs": [],
   "source": [
    "calibrated = lights_2007.expression(f'{c0} + ({c1} * X) + ({c2} * X * X)', {'X': lights_2007.select('stable_lights')})\n",
    "\n",
    "# clip image\n",
    "\n",
    "calibrated = calibrated.where(calibrated.gt(63),63).where(calibrated.lte(6),0)\n",
    "\n"
   ],
   "metadata": {
    "collapsed": false,
    "pycharm": {
     "name": "#%%\n"
    }
   }
  },
  {
   "cell_type": "code",
   "execution_count": 86,
   "outputs": [
    {
     "data": {
      "text/plain": "{'type': 'Image',\n 'bands': [{'id': 'stable_lights',\n   'data_type': {'type': 'PixelType',\n    'precision': 'int',\n    'min': 0,\n    'max': 255},\n   'dimensions': [43201, 16801],\n   'crs': 'EPSG:4326',\n   'crs_transform': [0.0083333333,\n    0,\n    -180.00416666665,\n    0,\n    -0.0083333333,\n    75.00416666665]}],\n 'version': 1504844066942522,\n 'id': 'NOAA/DMSP-OLS/NIGHTTIME_LIGHTS/F152007',\n 'properties': {'system:time_start': 1167609600000,\n  'system:time_end': 1199145600000,\n  'system:asset_size': 1629231947,\n  'system:index': 'F152007'}}"
     },
     "execution_count": 86,
     "metadata": {},
     "output_type": "execute_result"
    }
   ],
   "source": [
    "lights_2007.getInfo()"
   ],
   "metadata": {
    "collapsed": false,
    "pycharm": {
     "name": "#%%\n"
    }
   }
  },
  {
   "cell_type": "code",
   "execution_count": 87,
   "outputs": [],
   "source": [
    "# define our rectangle that covers DC/Baltimore area\n",
    "myPolyGeom = ee.Geometry.Rectangle([-78.243025, 38.317633,-75.724436, 39.521098]).toGeoJSON()\n",
    "\n",
    "# convert both the clipped DMSP-OLS 1996 layer and the calibrated layer to numpy arrays\n",
    "dmsp2007_arr = geemap.ee_to_numpy(lights_2007, region=myPolyGeom)\n",
    "dmsp2007_clbr_arr = geemap.ee_to_numpy(calibrated, region=myPolyGeom)"
   ],
   "metadata": {
    "collapsed": false,
    "pycharm": {
     "name": "#%%\n"
    }
   }
  },
  {
   "cell_type": "code",
   "execution_count": 88,
   "outputs": [
    {
     "data": {
      "text/plain": "<Figure size 1080x360 with 1 Axes>",
      "image/png": "[encoded data removed]"
     },
     "metadata": {
      "needs_background": "light"
     },
     "output_type": "display_data"
    }
   ],
   "source": [
    "fig, ax = plt.subplots(figsize=(15,5))\n",
    "sns.kdeplot(dmsp2007_arr.flatten(), label='non-calibrated',legend=True, ax=ax)\n",
    "sns.kdeplot(dmsp2007_clbr_arr.flatten(), label='calibrated',legend=True, ax=ax)\n",
    "plt.legend(fontsize=20)\n",
    "plt.title('Distribution of DMSP-OLS 2007 composite calibrated vs non (smoothed w/ Gaussian kernel)', fontsize=20);"
   ],
   "metadata": {
    "collapsed": false,
    "pycharm": {
     "name": "#%%\n"
    }
   }
  },
  {
   "cell_type": "markdown",
   "source": [
    "Cool, the calibrated curve looks like the F15 2007 curve in the tutorial."
   ],
   "metadata": {
    "collapsed": false,
    "pycharm": {
     "name": "#%% md\n"
    }
   }
  },
  {
   "cell_type": "code",
   "execution_count": null,
   "outputs": [],
   "source": [],
   "metadata": {
    "collapsed": false,
    "pycharm": {
     "name": "#%%\n"
    }
   }
  }
 ],
 "metadata": {
  "kernelspec": {
   "name": "nightlights",
   "language": "python",
   "display_name": "NightLights"
  },
  "language_info": {
   "codemirror_mode": {
    "name": "ipython",
    "version": 2
   },
   "file_extension": ".py",
   "mimetype": "text/x-python",
   "name": "python",
   "nbconvert_exporter": "python",
   "pygments_lexer": "ipython2",
   "version": "2.7.6"
  }
 },
 "nbformat": 4,
 "nbformat_minor": 0
}