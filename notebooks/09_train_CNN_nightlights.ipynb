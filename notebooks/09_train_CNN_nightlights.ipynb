{
 "cells": [
  {
   "cell_type": "markdown",
   "source": [
    "# 09: Train on Downloaded Nightlight Data"
   ],
   "metadata": {
    "collapsed": false,
    "pycharm": {
     "name": "#%% md\n"
    }
   }
  },
  {
   "cell_type": "code",
   "execution_count": 1,
   "outputs": [],
   "source": [
    "import torch\n",
    "import torchvision\n",
    "import torchvision.transforms as transforms\n",
    "import torch.nn as nn\n",
    "import torch.optim as optim\n",
    "import matplotlib.pyplot as plt\n",
    "%matplotlib inline\n",
    "import numpy as np\n",
    "import time\n",
    "from PIL import Image\n",
    "import gc\n",
    "import pandas as pd"
   ],
   "metadata": {
    "collapsed": false,
    "pycharm": {
     "name": "#%%\n"
    }
   }
  },
  {
   "cell_type": "markdown",
   "source": [
    "## Data Set-up"
   ],
   "metadata": {
    "collapsed": false,
    "pycharm": {
     "name": "#%% md\n"
    }
   }
  },
  {
   "cell_type": "code",
   "execution_count": 2,
   "outputs": [
    {
     "data": {
      "text/plain": "(430, 433)"
     },
     "execution_count": 2,
     "metadata": {},
     "output_type": "execute_result"
    }
   ],
   "source": [
    "test_image = Image.open('../data/training/class1/lat_-0.3329_lon_10.3832_2000.jpg')\n",
    "test_image.size"
   ],
   "metadata": {
    "collapsed": false,
    "pycharm": {
     "name": "#%%\n"
    }
   }
  },
  {
   "cell_type": "code",
   "execution_count": 2,
   "outputs": [],
   "source": [
    "# get mean and std of image\n",
    "transform = transforms.Compose(\n",
    "            [transforms.Resize(size=(430, 430)),\n",
    "             transforms.Grayscale(1),\n",
    "             transforms.ToTensor()\n",
    "             ]\n",
    "        )\n",
    "trainset = torchvision.datasets.ImageFolder(root = '../data/training', transform = transform)\n",
    "trainloader = torch.utils.data.DataLoader(trainset, batch_size=len(trainset))\n",
    "loader_iter = iter(trainloader)\n",
    "images, _ = loader_iter.next()\n",
    "image_mean = images.mean()\n",
    "image_std = images.std()\n"
   ],
   "metadata": {
    "collapsed": false,
    "pycharm": {
     "name": "#%%\n"
    }
   }
  },
  {
   "cell_type": "code",
   "execution_count": 15,
   "outputs": [
    {
     "data": {
      "text/plain": "tensor(0.0277)"
     },
     "execution_count": 15,
     "metadata": {},
     "output_type": "execute_result"
    }
   ],
   "source": [
    "image_mean"
   ],
   "metadata": {
    "collapsed": false,
    "pycharm": {
     "name": "#%%\n"
    }
   }
  },
  {
   "cell_type": "code",
   "execution_count": 16,
   "outputs": [
    {
     "data": {
      "text/plain": "tensor(0.0504)"
     },
     "execution_count": 16,
     "metadata": {},
     "output_type": "execute_result"
    }
   ],
   "source": [
    "image_std"
   ],
   "metadata": {
    "collapsed": false,
    "pycharm": {
     "name": "#%%\n"
    }
   }
  },
  {
   "cell_type": "code",
   "execution_count": 3,
   "outputs": [],
   "source": [
    "# Augment Images\n",
    "\n",
    "# original\n",
    "transform = transforms.Compose(\n",
    "    [transforms.Resize(size = (430, 430)),\n",
    "     transforms.Grayscale(1),\n",
    "     transforms.ToTensor(),\n",
    "     transforms.Normalize(image_mean, image_std)\n",
    "     ]\n",
    ")\n",
    "\n",
    "# rotated\n",
    "transform_rotation = transforms.Compose(\n",
    "    [transforms.Resize(size = (430, 430)),\n",
    "     transforms.Grayscale(1),\n",
    "     transforms.ToTensor(),\n",
    "     transforms.Normalize(image_mean, image_std),\n",
    "     transforms.RandomRotation(180)\n",
    "     ]\n",
    ")\n",
    "\n",
    "# horizontally flipped\n",
    "transform_fliph = transforms.Compose(\n",
    "    [transforms.Resize(size = (430, 430)),\n",
    "     transforms.Grayscale(1),\n",
    "     transforms.ToTensor(),\n",
    "     transforms.Normalize(image_mean, image_std),\n",
    "     transforms.RandomHorizontalFlip(1)\n",
    "     ]\n",
    ")\n",
    "\n",
    "# vertically flipped\n",
    "transform_flipv = transforms.Compose(\n",
    "    [transforms.Resize(size = (430, 430)),\n",
    "     transforms.Grayscale(1),\n",
    "     transforms.ToTensor(),\n",
    "     transforms.Normalize(image_mean, image_std),\n",
    "     transforms.RandomVerticalFlip(1)\n",
    "     ]\n",
    ")\n",
    "\n",
    "trainset = torchvision.datasets.ImageFolder(root = '../data/training', transform = transform)\n",
    "\n",
    "trainset_rotated = torchvision.datasets.ImageFolder(root = '../data/training', transform = transform_rotation)\n",
    "\n",
    "trainset_fliph = torchvision.datasets.ImageFolder(root = '../data/training', transform = transform_fliph)\n",
    "\n",
    "trainset_flipv = torchvision.datasets.ImageFolder(root = '../data/training', transform = transform_flipv)\n",
    "\n",
    "all_training = torch.utils.data.ConcatDataset([trainset, trainset_rotated, trainset_fliph, trainset_flipv])\n",
    "\n",
    "devset = torchvision.datasets.ImageFolder(root = '../data/dev', transform = transform)"
   ],
   "metadata": {
    "collapsed": false,
    "pycharm": {
     "name": "#%%\n"
    }
   }
  },
  {
   "cell_type": "code",
   "execution_count": 4,
   "outputs": [],
   "source": [
    "trainloader = torch.utils.data.DataLoader(all_training, batch_size=50,\n",
    "                                          shuffle = True, num_workers=2)\n",
    "\n",
    "devloader = torch.utils.data.DataLoader(devset, batch_size=50, shuffle=False, num_workers=2)\n",
    "\n",
    "labels = ['class1', 'class2', 'class3', 'class4', 'class5']"
   ],
   "metadata": {
    "collapsed": false,
    "pycharm": {
     "name": "#%%\n"
    }
   }
  },
  {
   "cell_type": "markdown",
   "source": [
    "### Some initial plots"
   ],
   "metadata": {
    "collapsed": false,
    "pycharm": {
     "name": "#%% md\n"
    }
   }
  },
  {
   "cell_type": "code",
   "execution_count": 17,
   "outputs": [],
   "source": [
    "dataiter = iter(trainloader)\n",
    "images, label = dataiter.next()"
   ],
   "metadata": {
    "collapsed": false,
    "pycharm": {
     "name": "#%%\n"
    }
   }
  },
  {
   "cell_type": "code",
   "execution_count": 18,
   "outputs": [
    {
     "data": {
      "text/plain": "torch.Size([50, 1, 430, 430])"
     },
     "execution_count": 18,
     "metadata": {},
     "output_type": "execute_result"
    }
   ],
   "source": [
    "images.shape"
   ],
   "metadata": {
    "collapsed": false,
    "pycharm": {
     "name": "#%%\n"
    }
   }
  },
  {
   "cell_type": "code",
   "execution_count": 63,
   "outputs": [
    {
     "name": "stdout",
     "output_type": "stream",
     "text": [
      "Label:  tensor(0)\n"
     ]
    },
    {
     "data": {
      "text/plain": "<matplotlib.image.AxesImage at 0x7f28a02668e0>"
     },
     "execution_count": 63,
     "metadata": {},
     "output_type": "execute_result"
    },
    {
     "data": {
      "text/plain": "<Figure size 432x288 with 1 Axes>",
      "image/png": "[encoded data removed]"
     },
     "metadata": {
      "needs_background": "light"
     },
     "output_type": "display_data"
    }
   ],
   "source": [
    "print(\"Label: \", label[0])\n",
    "plt.imshow((images[0].numpy().squeeze()) / 2 + 0.5, cmap = 'gray')"
   ],
   "metadata": {
    "collapsed": false,
    "pycharm": {
     "name": "#%%\n"
    }
   }
  },
  {
   "cell_type": "code",
   "execution_count": 64,
   "outputs": [
    {
     "name": "stdout",
     "output_type": "stream",
     "text": [
      "Label:  tensor(3)\n"
     ]
    },
    {
     "data": {
      "text/plain": "<matplotlib.image.AxesImage at 0x7f28a021f100>"
     },
     "execution_count": 64,
     "metadata": {},
     "output_type": "execute_result"
    },
    {
     "data": {
      "text/plain": "<Figure size 432x288 with 1 Axes>",
      "image/png": "[encoded data removed]"
     },
     "metadata": {
      "needs_background": "light"
     },
     "output_type": "display_data"
    }
   ],
   "source": [
    "print(\"Label: \", label[1])\n",
    "plt.imshow((images[1].numpy().squeeze()) / 2 + 0.5, cmap = 'gray')"
   ],
   "metadata": {
    "collapsed": false,
    "pycharm": {
     "name": "#%%\n"
    }
   }
  },
  {
   "cell_type": "code",
   "execution_count": 65,
   "outputs": [
    {
     "name": "stdout",
     "output_type": "stream",
     "text": [
      "Label:  tensor(4)\n"
     ]
    },
    {
     "data": {
      "text/plain": "<matplotlib.image.AxesImage at 0x7f28a01cfb80>"
     },
     "execution_count": 65,
     "metadata": {},
     "output_type": "execute_result"
    },
    {
     "data": {
      "text/plain": "<Figure size 432x288 with 1 Axes>",
      "image/png": "[encoded data removed]"
     },
     "metadata": {
      "needs_background": "light"
     },
     "output_type": "display_data"
    }
   ],
   "source": [
    "print(\"Label: \", label[2])\n",
    "plt.imshow((images[2].numpy().squeeze()) / 2 + 0.5, cmap = 'gray')"
   ],
   "metadata": {
    "collapsed": false,
    "pycharm": {
     "name": "#%%\n"
    }
   }
  },
  {
   "cell_type": "code",
   "execution_count": 66,
   "outputs": [
    {
     "name": "stdout",
     "output_type": "stream",
     "text": [
      "Label:  tensor(0)\n"
     ]
    },
    {
     "data": {
      "text/plain": "<matplotlib.image.AxesImage at 0x7f28a019a370>"
     },
     "execution_count": 66,
     "metadata": {},
     "output_type": "execute_result"
    },
    {
     "data": {
      "text/plain": "<Figure size 432x288 with 1 Axes>",
      "image/png": "[encoded data removed]"
     },
     "metadata": {
      "needs_background": "light"
     },
     "output_type": "display_data"
    }
   ],
   "source": [
    "print(\"Label: \", label[3])\n",
    "plt.imshow((images[3].numpy().squeeze()) / 2 + 0.5, cmap = 'gray')"
   ],
   "metadata": {
    "collapsed": false,
    "pycharm": {
     "name": "#%%\n"
    }
   }
  },
  {
   "cell_type": "markdown",
   "source": [
    "## Create a Baseline\n",
    "- Just a very simple baseline - add all the pixels in the image and explore with Gaussian Naive Bayes and Multinomial Logistic Regression"
   ],
   "metadata": {
    "collapsed": false,
    "pycharm": {
     "name": "#%% md\n"
    }
   }
  },
  {
   "cell_type": "code",
   "execution_count": 5,
   "outputs": [],
   "source": [
    "from sklearn.naive_bayes import GaussianNB\n",
    "from sklearn.linear_model import LogisticRegression"
   ],
   "metadata": {
    "collapsed": false,
    "pycharm": {
     "name": "#%%\n"
    }
   }
  },
  {
   "cell_type": "code",
   "execution_count": 6,
   "outputs": [],
   "source": [
    "baselineloader = torch.utils.data.DataLoader(all_training, batch_size=len(all_training))\n",
    "loader_iter = iter(baselineloader)\n",
    "images, labels = loader_iter.next()"
   ],
   "metadata": {
    "collapsed": false,
    "pycharm": {
     "name": "#%%\n"
    }
   }
  },
  {
   "cell_type": "code",
   "execution_count": 9,
   "outputs": [],
   "source": [
    "pixel_sums = torch.sum(images, dim=[1, 2, 3])"
   ],
   "metadata": {
    "collapsed": false,
    "pycharm": {
     "name": "#%%\n"
    }
   }
  },
  {
   "cell_type": "code",
   "execution_count": 10,
   "outputs": [
    {
     "data": {
      "text/plain": "<Figure size 432x288 with 1 Axes>",
      "image/png": "[encoded data removed]"
     },
     "metadata": {
      "needs_background": "light"
     },
     "output_type": "display_data"
    }
   ],
   "source": [
    "plt.scatter(labels, pixel_sums)\n",
    "plt.show()"
   ],
   "metadata": {
    "collapsed": false,
    "pycharm": {
     "name": "#%%\n"
    }
   }
  },
  {
   "cell_type": "code",
   "execution_count": 11,
   "outputs": [
    {
     "data": {
      "text/plain": "   class      pixel_sum\n0      0  -91516.562500\n1      0  -92669.265625\n2      0  -92537.460938\n3      0 -101822.625000\n4      0 -101652.210938",
      "text/html": "<div>\n<style scoped>\n    .dataframe tbody tr th:only-of-type {\n        vertical-align: middle;\n    }\n\n    .dataframe tbody tr th {\n        vertical-align: top;\n    }\n\n    .dataframe thead th {\n        text-align: right;\n    }\n</style>\n<table border=\"1\" class=\"dataframe\">\n  <thead>\n    <tr style=\"text-align: right;\">\n      <th></th>\n      <th>class</th>\n      <th>pixel_sum</th>\n    </tr>\n  </thead>\n  <tbody>\n    <tr>\n      <th>0</th>\n      <td>0</td>\n      <td>-91516.562500</td>\n    </tr>\n    <tr>\n      <th>1</th>\n      <td>0</td>\n      <td>-92669.265625</td>\n    </tr>\n    <tr>\n      <th>2</th>\n      <td>0</td>\n      <td>-92537.460938</td>\n    </tr>\n    <tr>\n      <th>3</th>\n      <td>0</td>\n      <td>-101822.625000</td>\n    </tr>\n    <tr>\n      <th>4</th>\n      <td>0</td>\n      <td>-101652.210938</td>\n    </tr>\n  </tbody>\n</table>\n</div>"
     },
     "execution_count": 11,
     "metadata": {},
     "output_type": "execute_result"
    }
   ],
   "source": [
    "pixel_sum_df = pd.DataFrame({'class': labels,\n",
    "                             'pixel_sum': pixel_sums})\n",
    "pixel_sum_df.head()"
   ],
   "metadata": {
    "collapsed": false,
    "pycharm": {
     "name": "#%%\n"
    }
   }
  },
  {
   "cell_type": "code",
   "execution_count": 12,
   "outputs": [
    {
     "data": {
      "text/plain": "<Figure size 432x288 with 6 Axes>",
      "image/png": "[encoded data removed]"
     },
     "metadata": {
      "needs_background": "light"
     },
     "output_type": "display_data"
    }
   ],
   "source": [
    "fig = pixel_sum_df.hist('pixel_sum', by='class', bins=10);"
   ],
   "metadata": {
    "collapsed": false,
    "pycharm": {
     "name": "#%%\n"
    }
   }
  },
  {
   "cell_type": "markdown",
   "source": [
    "Classes don't entirely look Gaussian, but we can continue this for now."
   ],
   "metadata": {
    "collapsed": false,
    "pycharm": {
     "name": "#%% md\n"
    }
   }
  },
  {
   "cell_type": "markdown",
   "source": [
    "### Fit Models"
   ],
   "metadata": {
    "collapsed": false,
    "pycharm": {
     "name": "#%% md\n"
    }
   }
  },
  {
   "cell_type": "code",
   "execution_count": 13,
   "outputs": [
    {
     "data": {
      "text/plain": "LogisticRegression()",
      "text/html": "<style>#sk-container-id-1 {color: black;background-color: white;}#sk-container-id-1 pre{padding: 0;}#sk-container-id-1 div.sk-toggleable {background-color: white;}#sk-container-id-1 label.sk-toggleable__label {cursor: pointer;display: block;width: 100%;margin-bottom: 0;padding: 0.3em;box-sizing: border-box;text-align: center;}#sk-container-id-1 label.sk-toggleable__label-arrow:before {content: \"▸\";float: left;margin-right: 0.25em;color: #696969;}#sk-container-id-1 label.sk-toggleable__label-arrow:hover:before {color: black;}#sk-container-id-1 div.sk-estimator:hover label.sk-toggleable__label-arrow:before {color: black;}#sk-container-id-1 div.sk-toggleable__content {max-height: 0;max-width: 0;overflow: hidden;text-align: left;background-color: #f0f8ff;}#sk-container-id-1 div.sk-toggleable__content pre {margin: 0.2em;color: black;border-radius: 0.25em;background-color: #f0f8ff;}#sk-container-id-1 input.sk-toggleable__control:checked~div.sk-toggleable__content {max-height: 200px;max-width: 100%;overflow: auto;}#sk-container-id-1 input.sk-toggleable__control:checked~label.sk-toggleable__label-arrow:before {content: \"▾\";}#sk-container-id-1 div.sk-estimator input.sk-toggleable__control:checked~label.sk-toggleable__label {background-color: #d4ebff;}#sk-container-id-1 div.sk-label input.sk-toggleable__control:checked~label.sk-toggleable__label {background-color: #d4ebff;}#sk-container-id-1 input.sk-hidden--visually {border: 0;clip: rect(1px 1px 1px 1px);clip: rect(1px, 1px, 1px, 1px);height: 1px;margin: -1px;overflow: hidden;padding: 0;position: absolute;width: 1px;}#sk-container-id-1 div.sk-estimator {font-family: monospace;background-color: #f0f8ff;border: 1px dotted black;border-radius: 0.25em;box-sizing: border-box;margin-bottom: 0.5em;}#sk-container-id-1 div.sk-estimator:hover {background-color: #d4ebff;}#sk-container-id-1 div.sk-parallel-item::after {content: \"\";width: 100%;border-bottom: 1px solid gray;flex-grow: 1;}#sk-container-id-1 div.sk-label:hover label.sk-toggleable__label {background-color: #d4ebff;}#sk-container-id-1 div.sk-serial::before {content: \"\";position: absolute;border-left: 1px solid gray;box-sizing: border-box;top: 0;bottom: 0;left: 50%;z-index: 0;}#sk-container-id-1 div.sk-serial {display: flex;flex-direction: column;align-items: center;background-color: white;padding-right: 0.2em;padding-left: 0.2em;position: relative;}#sk-container-id-1 div.sk-item {position: relative;z-index: 1;}#sk-container-id-1 div.sk-parallel {display: flex;align-items: stretch;justify-content: center;background-color: white;position: relative;}#sk-container-id-1 div.sk-item::before, #sk-container-id-1 div.sk-parallel-item::before {content: \"\";position: absolute;border-left: 1px solid gray;box-sizing: border-box;top: 0;bottom: 0;left: 50%;z-index: -1;}#sk-container-id-1 div.sk-parallel-item {display: flex;flex-direction: column;z-index: 1;position: relative;background-color: white;}#sk-container-id-1 div.sk-parallel-item:first-child::after {align-self: flex-end;width: 50%;}#sk-container-id-1 div.sk-parallel-item:last-child::after {align-self: flex-start;width: 50%;}#sk-container-id-1 div.sk-parallel-item:only-child::after {width: 0;}#sk-container-id-1 div.sk-dashed-wrapped {border: 1px dashed gray;margin: 0 0.4em 0.5em 0.4em;box-sizing: border-box;padding-bottom: 0.4em;background-color: white;}#sk-container-id-1 div.sk-label label {font-family: monospace;font-weight: bold;display: inline-block;line-height: 1.2em;}#sk-container-id-1 div.sk-label-container {text-align: center;}#sk-container-id-1 div.sk-container {/* jupyter's `normalize.less` sets `[hidden] { display: none; }` but bootstrap.min.css set `[hidden] { display: none !important; }` so we also need the `!important` here to be able to override the default hidden behavior on the sphinx rendered scikit-learn.org. See: https://github.com/scikit-learn/scikit-learn/issues/21755 */display: inline-block !important;position: relative;}#sk-container-id-1 div.sk-text-repr-fallback {display: none;}</style><div id=\"sk-container-id-1\" class=\"sk-top-container\"><div class=\"sk-text-repr-fallback\"><pre>LogisticRegression()</pre><b>In a Jupyter environment, please rerun this cell to show the HTML representation or trust the notebook. <br />On GitHub, the HTML representation is unable to render, please try loading this page with nbviewer.org.</b></div><div class=\"sk-container\" hidden><div class=\"sk-item\"><div class=\"sk-estimator sk-toggleable\"><input class=\"sk-toggleable__control sk-hidden--visually\" id=\"sk-estimator-id-1\" type=\"checkbox\" checked><label for=\"sk-estimator-id-1\" class=\"sk-toggleable__label sk-toggleable__label-arrow\">LogisticRegression</label><div class=\"sk-toggleable__content\"><pre>LogisticRegression()</pre></div></div></div></div></div>"
     },
     "execution_count": 13,
     "metadata": {},
     "output_type": "execute_result"
    }
   ],
   "source": [
    "clfGNB = GaussianNB()\n",
    "clfGNB.fit(pixel_sums.reshape(-1, 1), labels)\n",
    "\n",
    "clf_MLR = LogisticRegression()\n",
    "clf_MLR.fit(pixel_sums.reshape(-1, 1), labels)"
   ],
   "metadata": {
    "collapsed": false,
    "pycharm": {
     "name": "#%%\n"
    }
   }
  },
  {
   "cell_type": "code",
   "execution_count": 14,
   "outputs": [],
   "source": [
    "import pickle\n",
    "pickle.dump(clfGNB, open('../results/gnb_model.sav', 'wb'))"
   ],
   "metadata": {
    "collapsed": false,
    "pycharm": {
     "name": "#%%\n"
    }
   }
  },
  {
   "cell_type": "code",
   "execution_count": 62,
   "outputs": [],
   "source": [
    "# get devset pixelsums\n",
    "devloader_all = torch.utils.data.DataLoader(devset, batch_size=len(devset))\n",
    "loader_iter = iter(devloader_all)\n",
    "images_dev, labels_dev = loader_iter.next()\n",
    "pixel_sum_dev = torch.sum(images_dev, dim=[1, 2, 3])\n",
    "pixel_sum_dev = pixel_sum_dev.reshape(-1, 1)"
   ],
   "metadata": {
    "collapsed": false,
    "pycharm": {
     "name": "#%%\n"
    }
   }
  },
  {
   "cell_type": "code",
   "execution_count": 63,
   "outputs": [],
   "source": [
    "predictions_GNB = clfGNB.predict(pixel_sum_dev)\n",
    "predictions_MLR = clf_MLR.predict(pixel_sum_dev)"
   ],
   "metadata": {
    "collapsed": false,
    "pycharm": {
     "name": "#%%\n"
    }
   }
  },
  {
   "cell_type": "code",
   "execution_count": 64,
   "outputs": [],
   "source": [
    "correct_GNB = labels_dev.numpy() == predictions_GNB\n",
    "correct_MLR = labels_dev.numpy() == predictions_MLR"
   ],
   "metadata": {
    "collapsed": false,
    "pycharm": {
     "name": "#%%\n"
    }
   }
  },
  {
   "cell_type": "code",
   "execution_count": 65,
   "outputs": [
    {
     "name": "stdout",
     "output_type": "stream",
     "text": [
      "Correct classification with Gaussian Naive Bayes:  48.0 %\n",
      "Correct classification with Multinomial Logistic Regression:  38.0 %\n"
     ]
    }
   ],
   "source": [
    "print('Correct classification with Gaussian Naive Bayes: ', 100 * sum(correct_GNB)/len(correct_GNB), '%')\n",
    "print('Correct classification with Multinomial Logistic Regression: ', 100 * sum(correct_MLR)/len(correct_MLR), '%')"
   ],
   "metadata": {
    "collapsed": false,
    "pycharm": {
     "name": "#%%\n"
    }
   }
  },
  {
   "cell_type": "markdown",
   "source": [
    "## Initial CNN"
   ],
   "metadata": {
    "collapsed": false,
    "pycharm": {
     "name": "#%% md\n"
    }
   }
  },
  {
   "cell_type": "code",
   "execution_count": 18,
   "outputs": [
    {
     "name": "stdout",
     "output_type": "stream",
     "text": [
      "c1: 426.0\n",
      "pool_dim: 213.0\n",
      "c2: 209.0\n",
      "pool_dim2: 104.0\n",
      "c5:  19.0\n",
      "c5 after pooling 9.0\n"
     ]
    }
   ],
   "source": [
    "# calculate layer size CNNs\n",
    "img_size = 430\n",
    "kernel_size = 5\n",
    "padding = 0\n",
    "stride = 1\n",
    "\n",
    "def get_conv_size(features, padding, kernel_size, stride):\n",
    "    return np.floor((features + 2 * padding - kernel_size) / stride) + 1\n",
    "\n",
    "c1 = get_conv_size(img_size, padding, kernel_size, stride)\n",
    "pool_dim = c1 / 2\n",
    "c2 = get_conv_size(pool_dim, padding, kernel_size, stride)\n",
    "pool_dim2 = np.floor(c2/2)\n",
    "c3 = get_conv_size(pool_dim2, padding, kernel_size, stride)\n",
    "c4 = get_conv_size(np.floor(c3/2),  padding, kernel_size, stride)\n",
    "c5 = get_conv_size(np.floor(c4/2), padding, kernel_size, stride)\n",
    "\n",
    "print('c1:', c1)\n",
    "print('pool_dim:', pool_dim)\n",
    "print('c2:', c2)\n",
    "print('pool_dim2:', pool_dim2)\n",
    "print('c5: ', c5)\n",
    "print('c5 after pooling', np.floor(c5/2))"
   ],
   "metadata": {
    "collapsed": false,
    "pycharm": {
     "name": "#%%\n"
    }
   }
  },
  {
   "cell_type": "code",
   "execution_count": 19,
   "outputs": [],
   "source": [
    "class Net(nn.Module):\n",
    "    def __init__(self):\n",
    "        super().__init__()\n",
    "        self.conv1 = nn.Conv2d(1, 8, kernel_size = 5)\n",
    "        self.pool = nn.MaxPool2d(2, 2)\n",
    "        self.conv2 = nn.Conv2d(8, 16, kernel_size = 5)\n",
    "        self.conv3 = nn.Conv2d(16, 32, kernel_size = 5)\n",
    "        self.conv4 = nn.Conv2d(32, 64, kernel_size = 5)\n",
    "        self.conv5 = nn.Conv2d(64, 128, kernel_size = 5)\n",
    "        self.fc1 = nn.Linear(128 * 9 * 9, 120) # channels * dims of last conv NN\n",
    "        self.fc2 = nn.Linear(120, 84)\n",
    "        self.fc3 = nn.Linear(84, 5)\n",
    "\n",
    "    def forward(self, x):\n",
    "        x = self.pool(F.relu(self.conv1(x)))\n",
    "        x = self.pool(F.relu(self.conv2(x)))\n",
    "        x = self.pool(F.relu(self.conv3(x)))\n",
    "        x = self.pool(F.relu(self.conv4(x)))\n",
    "        x = self.pool(F.relu(self.conv5(x)))\n",
    "        x = torch.flatten(x, 1) # flatten all dimensions except batch\n",
    "        x = F.relu(self.fc1(x))\n",
    "        x = F.relu(self.fc2(x))\n",
    "        x = self.fc3(x)\n",
    "        return x\n",
    "\n",
    "\n",
    "net = Net()"
   ],
   "metadata": {
    "collapsed": false,
    "pycharm": {
     "name": "#%%\n"
    }
   }
  },
  {
   "cell_type": "code",
   "execution_count": 20,
   "outputs": [
    {
     "data": {
      "text/plain": "True"
     },
     "execution_count": 20,
     "metadata": {},
     "output_type": "execute_result"
    }
   ],
   "source": [
    "torch.cuda.is_available()"
   ],
   "metadata": {
    "collapsed": false,
    "pycharm": {
     "name": "#%%\n"
    }
   }
  },
  {
   "cell_type": "code",
   "execution_count": 21,
   "outputs": [
    {
     "name": "stdout",
     "output_type": "stream",
     "text": [
      "cuda:0\n"
     ]
    }
   ],
   "source": [
    "device = torch.device('cuda:0' if torch.cuda.is_available() else 'cpu')\n",
    "print(device)"
   ],
   "metadata": {
    "collapsed": false,
    "pycharm": {
     "name": "#%%\n"
    }
   }
  },
  {
   "cell_type": "code",
   "execution_count": 22,
   "outputs": [],
   "source": [
    "# try training on GPU\n",
    "gc.collect()\n",
    "torch.cuda.empty_cache()\n",
    "net_gpu = Net().to(device)\n",
    "# Define loss function and optimizer\n",
    "\n",
    "criterion = nn.CrossEntropyLoss()\n",
    "optimizer = optim.Adam(net_gpu.parameters(), lr = 0.001)\n",
    "\n"
   ],
   "metadata": {
    "collapsed": false,
    "pycharm": {
     "name": "#%%\n"
    }
   }
  },
  {
   "cell_type": "code",
   "execution_count": 24,
   "outputs": [
    {
     "name": "stdout",
     "output_type": "stream",
     "text": [
      "[1,     2] loss: 1.014\n",
      "[1,     4] loss: 0.751\n",
      "[1,     6] loss: 0.714\n",
      "[1,     8] loss: 0.846\n",
      "[1,    10] loss: 1.149\n",
      "[1,    12] loss: 0.808\n",
      "[1,    14] loss: 0.915\n",
      "[1,    16] loss: 1.014\n",
      "[1,    18] loss: 0.957\n",
      "[1,    20] loss: 0.904\n",
      "[1,    22] loss: 1.032\n",
      "[1,    24] loss: 0.847\n",
      "[1,    26] loss: 0.919\n",
      "[1,    28] loss: 1.012\n",
      "[1,    30] loss: 0.910\n",
      "[1,    32] loss: 0.878\n",
      "[1,    34] loss: 0.762\n",
      "[1,    36] loss: 0.940\n",
      "[1,    38] loss: 0.913\n",
      "[1,    40] loss: 0.746\n",
      "[2,     2] loss: 0.990\n",
      "[2,     4] loss: 0.717\n",
      "[2,     6] loss: 0.761\n",
      "[2,     8] loss: 0.735\n",
      "[2,    10] loss: 0.754\n",
      "[2,    12] loss: 0.580\n",
      "[2,    14] loss: 0.761\n",
      "[2,    16] loss: 0.784\n",
      "[2,    18] loss: 0.791\n",
      "[2,    20] loss: 0.578\n",
      "[2,    22] loss: 0.683\n",
      "[2,    24] loss: 0.682\n",
      "[2,    26] loss: 0.645\n",
      "[2,    28] loss: 0.757\n",
      "[2,    30] loss: 0.521\n",
      "[2,    32] loss: 0.732\n",
      "[2,    34] loss: 0.791\n",
      "[2,    36] loss: 0.850\n",
      "[2,    38] loss: 0.858\n",
      "[2,    40] loss: 0.688\n",
      "[3,     2] loss: 0.633\n",
      "[3,     4] loss: 0.799\n",
      "[3,     6] loss: 0.637\n",
      "[3,     8] loss: 0.653\n",
      "[3,    10] loss: 0.780\n",
      "[3,    12] loss: 0.611\n",
      "[3,    14] loss: 0.667\n",
      "[3,    16] loss: 0.615\n",
      "[3,    18] loss: 0.579\n",
      "[3,    20] loss: 0.517\n",
      "[3,    22] loss: 0.595\n",
      "[3,    24] loss: 0.815\n",
      "[3,    26] loss: 0.617\n",
      "[3,    28] loss: 0.613\n",
      "[3,    30] loss: 0.697\n",
      "[3,    32] loss: 0.577\n",
      "[3,    34] loss: 0.668\n",
      "[3,    36] loss: 0.776\n",
      "[3,    38] loss: 0.681\n",
      "[3,    40] loss: 0.686\n",
      "[4,     2] loss: 0.515\n",
      "[4,     4] loss: 0.479\n",
      "[4,     6] loss: 0.633\n",
      "[4,     8] loss: 0.697\n",
      "[4,    10] loss: 0.520\n",
      "[4,    12] loss: 0.483\n",
      "[4,    14] loss: 0.597\n",
      "[4,    16] loss: 0.689\n",
      "[4,    18] loss: 0.721\n",
      "[4,    20] loss: 0.494\n",
      "[4,    22] loss: 0.604\n",
      "[4,    24] loss: 0.758\n",
      "[4,    26] loss: 0.516\n",
      "[4,    28] loss: 0.660\n",
      "[4,    30] loss: 0.559\n",
      "[4,    32] loss: 0.634\n",
      "[4,    34] loss: 0.412\n",
      "[4,    36] loss: 0.478\n",
      "[4,    38] loss: 0.479\n",
      "[4,    40] loss: 0.494\n",
      "[5,     2] loss: 0.413\n",
      "[5,     4] loss: 0.642\n",
      "[5,     6] loss: 0.600\n",
      "[5,     8] loss: 0.433\n",
      "[5,    10] loss: 0.518\n",
      "[5,    12] loss: 0.522\n",
      "[5,    14] loss: 0.548\n",
      "[5,    16] loss: 0.385\n",
      "[5,    18] loss: 0.575\n",
      "[5,    20] loss: 0.437\n",
      "[5,    22] loss: 0.444\n",
      "[5,    24] loss: 0.495\n",
      "[5,    26] loss: 0.858\n",
      "[5,    28] loss: 0.397\n",
      "[5,    30] loss: 0.624\n",
      "[5,    32] loss: 0.599\n",
      "[5,    34] loss: 0.503\n",
      "[5,    36] loss: 0.665\n",
      "[5,    38] loss: 0.414\n",
      "[5,    40] loss: 0.677\n",
      "[6,     2] loss: 0.378\n",
      "[6,     4] loss: 0.516\n",
      "[6,     6] loss: 0.487\n",
      "[6,     8] loss: 0.485\n",
      "[6,    10] loss: 0.431\n",
      "[6,    12] loss: 0.508\n",
      "[6,    14] loss: 0.363\n",
      "[6,    16] loss: 0.421\n",
      "[6,    18] loss: 0.397\n",
      "[6,    20] loss: 0.454\n",
      "[6,    22] loss: 0.551\n",
      "[6,    24] loss: 0.479\n",
      "[6,    26] loss: 0.507\n",
      "[6,    28] loss: 0.650\n",
      "[6,    30] loss: 0.567\n",
      "[6,    32] loss: 0.612\n",
      "[6,    34] loss: 0.595\n",
      "[6,    36] loss: 0.574\n",
      "[6,    38] loss: 0.646\n",
      "[6,    40] loss: 0.568\n",
      "[7,     2] loss: 0.468\n",
      "[7,     4] loss: 0.651\n",
      "[7,     6] loss: 0.482\n",
      "[7,     8] loss: 0.588\n",
      "[7,    10] loss: 0.709\n",
      "[7,    12] loss: 0.334\n",
      "[7,    14] loss: 0.308\n",
      "[7,    16] loss: 0.477\n",
      "[7,    18] loss: 0.366\n",
      "[7,    20] loss: 0.281\n",
      "[7,    22] loss: 0.305\n",
      "[7,    24] loss: 0.778\n",
      "[7,    26] loss: 0.267\n",
      "[7,    28] loss: 0.344\n",
      "[7,    30] loss: 0.371\n",
      "[7,    32] loss: 0.354\n",
      "[7,    34] loss: 0.542\n",
      "[7,    36] loss: 0.461\n",
      "[7,    38] loss: 0.421\n",
      "[7,    40] loss: 0.379\n",
      "[8,     2] loss: 0.357\n",
      "[8,     4] loss: 0.497\n",
      "[8,     6] loss: 0.331\n",
      "[8,     8] loss: 0.416\n",
      "[8,    10] loss: 0.485\n",
      "[8,    12] loss: 0.336\n",
      "[8,    14] loss: 0.492\n",
      "[8,    16] loss: 0.280\n",
      "[8,    18] loss: 0.310\n",
      "[8,    20] loss: 0.508\n",
      "[8,    22] loss: 0.329\n",
      "[8,    24] loss: 0.399\n",
      "[8,    26] loss: 0.234\n",
      "[8,    28] loss: 0.374\n",
      "[8,    30] loss: 0.446\n",
      "[8,    32] loss: 0.661\n",
      "[8,    34] loss: 0.609\n",
      "[8,    36] loss: 0.428\n",
      "[8,    38] loss: 0.463\n",
      "[8,    40] loss: 0.534\n",
      "[9,     2] loss: 0.528\n",
      "[9,     4] loss: 0.366\n",
      "[9,     6] loss: 0.492\n",
      "[9,     8] loss: 0.425\n",
      "[9,    10] loss: 0.245\n",
      "[9,    12] loss: 0.387\n",
      "[9,    14] loss: 0.355\n",
      "[9,    16] loss: 0.499\n",
      "[9,    18] loss: 0.401\n",
      "[9,    20] loss: 0.283\n",
      "[9,    22] loss: 0.310\n",
      "[9,    24] loss: 0.300\n",
      "[9,    26] loss: 0.270\n",
      "[9,    28] loss: 0.351\n",
      "[9,    30] loss: 0.429\n",
      "[9,    32] loss: 0.328\n",
      "[9,    34] loss: 0.470\n",
      "[9,    36] loss: 0.490\n",
      "[9,    38] loss: 0.420\n",
      "[9,    40] loss: 0.502\n",
      "[10,     2] loss: 0.451\n",
      "[10,     4] loss: 0.525\n",
      "[10,     6] loss: 0.392\n",
      "[10,     8] loss: 0.393\n",
      "[10,    10] loss: 0.275\n",
      "[10,    12] loss: 0.358\n",
      "[10,    14] loss: 0.260\n",
      "[10,    16] loss: 0.343\n",
      "[10,    18] loss: 0.450\n",
      "[10,    20] loss: 0.291\n",
      "[10,    22] loss: 0.417\n",
      "[10,    24] loss: 0.336\n",
      "[10,    26] loss: 0.236\n",
      "[10,    28] loss: 0.297\n",
      "[10,    30] loss: 0.470\n",
      "[10,    32] loss: 0.376\n",
      "[10,    34] loss: 0.274\n",
      "[10,    36] loss: 0.298\n",
      "[10,    38] loss: 0.373\n",
      "[10,    40] loss: 0.367\n",
      "[11,     2] loss: 0.222\n",
      "[11,     4] loss: 0.451\n",
      "[11,     6] loss: 0.362\n",
      "[11,     8] loss: 0.471\n",
      "[11,    10] loss: 0.366\n",
      "[11,    12] loss: 0.405\n",
      "[11,    14] loss: 0.252\n",
      "[11,    16] loss: 0.376\n",
      "[11,    18] loss: 0.242\n",
      "[11,    20] loss: 0.343\n",
      "[11,    22] loss: 0.454\n",
      "[11,    24] loss: 0.375\n",
      "[11,    26] loss: 0.365\n",
      "[11,    28] loss: 0.334\n",
      "[11,    30] loss: 0.381\n",
      "[11,    32] loss: 0.473\n",
      "[11,    34] loss: 0.255\n",
      "[11,    36] loss: 0.514\n",
      "[11,    38] loss: 0.353\n",
      "[11,    40] loss: 0.505\n",
      "[12,     2] loss: 0.443\n",
      "[12,     4] loss: 0.228\n",
      "[12,     6] loss: 0.367\n",
      "[12,     8] loss: 0.282\n",
      "[12,    10] loss: 0.366\n",
      "[12,    12] loss: 0.348\n",
      "[12,    14] loss: 0.365\n",
      "[12,    16] loss: 0.181\n",
      "[12,    18] loss: 0.324\n",
      "[12,    20] loss: 0.485\n",
      "[12,    22] loss: 0.318\n",
      "[12,    24] loss: 0.414\n",
      "[12,    26] loss: 0.300\n",
      "[12,    28] loss: 0.411\n",
      "[12,    30] loss: 0.380\n",
      "[12,    32] loss: 0.536\n",
      "[12,    34] loss: 0.291\n",
      "[12,    36] loss: 0.452\n",
      "[12,    38] loss: 0.510\n",
      "[12,    40] loss: 0.449\n",
      "[13,     2] loss: 0.418\n",
      "[13,     4] loss: 0.375\n",
      "[13,     6] loss: 0.304\n",
      "[13,     8] loss: 0.392\n",
      "[13,    10] loss: 0.334\n",
      "[13,    12] loss: 0.296\n",
      "[13,    14] loss: 0.282\n",
      "[13,    16] loss: 0.321\n",
      "[13,    18] loss: 0.254\n",
      "[13,    20] loss: 0.223\n",
      "[13,    22] loss: 0.277\n",
      "[13,    24] loss: 0.396\n",
      "[13,    26] loss: 0.372\n",
      "[13,    28] loss: 0.393\n",
      "[13,    30] loss: 0.307\n",
      "[13,    32] loss: 0.368\n",
      "[13,    34] loss: 0.219\n",
      "[13,    36] loss: 0.349\n",
      "[13,    38] loss: 0.408\n",
      "[13,    40] loss: 0.263\n",
      "[14,     2] loss: 0.227\n",
      "[14,     4] loss: 0.296\n",
      "[14,     6] loss: 0.406\n",
      "[14,     8] loss: 0.372\n",
      "[14,    10] loss: 0.300\n",
      "[14,    12] loss: 0.251\n",
      "[14,    14] loss: 0.460\n",
      "[14,    16] loss: 0.213\n",
      "[14,    18] loss: 0.257\n",
      "[14,    20] loss: 0.313\n",
      "[14,    22] loss: 0.355\n",
      "[14,    24] loss: 0.253\n",
      "[14,    26] loss: 0.349\n",
      "[14,    28] loss: 0.459\n",
      "[14,    30] loss: 0.374\n",
      "[14,    32] loss: 0.297\n",
      "[14,    34] loss: 0.249\n",
      "[14,    36] loss: 0.314\n",
      "[14,    38] loss: 0.315\n",
      "[14,    40] loss: 0.315\n",
      "[15,     2] loss: 0.274\n",
      "[15,     4] loss: 0.164\n",
      "[15,     6] loss: 0.308\n",
      "[15,     8] loss: 0.236\n",
      "[15,    10] loss: 0.242\n",
      "[15,    12] loss: 0.418\n",
      "[15,    14] loss: 0.249\n",
      "[15,    16] loss: 0.252\n",
      "[15,    18] loss: 0.399\n",
      "[15,    20] loss: 0.356\n",
      "[15,    22] loss: 0.245\n",
      "[15,    24] loss: 0.418\n",
      "[15,    26] loss: 0.270\n",
      "[15,    28] loss: 0.275\n",
      "[15,    30] loss: 0.340\n",
      "[15,    32] loss: 0.455\n",
      "[15,    34] loss: 0.199\n",
      "[15,    36] loss: 0.269\n",
      "[15,    38] loss: 0.247\n",
      "[15,    40] loss: 0.283\n",
      "[16,     2] loss: 0.294\n",
      "[16,     4] loss: 0.253\n",
      "[16,     6] loss: 0.198\n",
      "[16,     8] loss: 0.347\n",
      "[16,    10] loss: 0.349\n",
      "[16,    12] loss: 0.293\n",
      "[16,    14] loss: 0.410\n",
      "[16,    16] loss: 0.239\n",
      "[16,    18] loss: 0.261\n",
      "[16,    20] loss: 0.283\n",
      "[16,    22] loss: 0.340\n",
      "[16,    24] loss: 0.328\n",
      "[16,    26] loss: 0.250\n",
      "[16,    28] loss: 0.278\n",
      "[16,    30] loss: 0.390\n",
      "[16,    32] loss: 0.290\n",
      "[16,    34] loss: 0.316\n",
      "[16,    36] loss: 0.209\n",
      "[16,    38] loss: 0.310\n",
      "[16,    40] loss: 0.420\n",
      "[17,     2] loss: 0.266\n",
      "[17,     4] loss: 0.316\n",
      "[17,     6] loss: 0.305\n",
      "[17,     8] loss: 0.332\n",
      "[17,    10] loss: 0.225\n",
      "[17,    12] loss: 0.210\n",
      "[17,    14] loss: 0.270\n",
      "[17,    16] loss: 0.193\n",
      "[17,    18] loss: 0.276\n",
      "[17,    20] loss: 0.215\n",
      "[17,    22] loss: 0.342\n",
      "[17,    24] loss: 0.251\n",
      "[17,    26] loss: 0.304\n",
      "[17,    28] loss: 0.268\n",
      "[17,    30] loss: 0.580\n",
      "[17,    32] loss: 0.420\n",
      "[17,    34] loss: 0.402\n",
      "[17,    36] loss: 0.336\n",
      "[17,    38] loss: 0.295\n",
      "[17,    40] loss: 0.302\n",
      "[18,     2] loss: 0.296\n",
      "[18,     4] loss: 0.368\n",
      "[18,     6] loss: 0.420\n",
      "[18,     8] loss: 0.254\n",
      "[18,    10] loss: 0.243\n",
      "[18,    12] loss: 0.314\n",
      "[18,    14] loss: 0.260\n",
      "[18,    16] loss: 0.258\n",
      "[18,    18] loss: 0.228\n",
      "[18,    20] loss: 0.220\n",
      "[18,    22] loss: 0.272\n",
      "[18,    24] loss: 0.277\n",
      "[18,    26] loss: 0.268\n",
      "[18,    28] loss: 0.199\n",
      "[18,    30] loss: 0.138\n",
      "[18,    32] loss: 0.218\n",
      "[18,    34] loss: 0.198\n",
      "[18,    36] loss: 0.376\n",
      "[18,    38] loss: 0.154\n",
      "[18,    40] loss: 0.301\n",
      "[19,     2] loss: 0.125\n",
      "[19,     4] loss: 0.219\n",
      "[19,     6] loss: 0.273\n",
      "[19,     8] loss: 0.167\n",
      "[19,    10] loss: 0.188\n",
      "[19,    12] loss: 0.226\n",
      "[19,    14] loss: 0.297\n",
      "[19,    16] loss: 0.200\n",
      "[19,    18] loss: 0.258\n",
      "[19,    20] loss: 0.424\n",
      "[19,    22] loss: 0.181\n",
      "[19,    24] loss: 0.236\n",
      "[19,    26] loss: 0.255\n",
      "[19,    28] loss: 0.357\n",
      "[19,    30] loss: 0.209\n",
      "[19,    32] loss: 0.226\n",
      "[19,    34] loss: 0.148\n",
      "[19,    36] loss: 0.176\n",
      "[19,    38] loss: 0.291\n",
      "[19,    40] loss: 0.318\n",
      "[20,     2] loss: 0.222\n",
      "[20,     4] loss: 0.159\n",
      "[20,     6] loss: 0.138\n",
      "[20,     8] loss: 0.226\n",
      "[20,    10] loss: 0.189\n",
      "[20,    12] loss: 0.179\n",
      "[20,    14] loss: 0.311\n",
      "[20,    16] loss: 0.165\n",
      "[20,    18] loss: 0.330\n",
      "[20,    20] loss: 0.361\n",
      "[20,    22] loss: 0.247\n",
      "[20,    24] loss: 0.192\n",
      "[20,    26] loss: 0.297\n",
      "[20,    28] loss: 0.247\n",
      "[20,    30] loss: 0.324\n",
      "[20,    32] loss: 0.222\n",
      "[20,    34] loss: 0.206\n",
      "[20,    36] loss: 0.196\n",
      "[20,    38] loss: 0.222\n",
      "[20,    40] loss: 0.253\n",
      "Finished Training\n"
     ]
    }
   ],
   "source": [
    "start_time = time.time()\n",
    "for epoch in range(20):  # loop over the dataset multiple times\n",
    "\n",
    "    running_loss = 0.0\n",
    "    for i, data in enumerate(trainloader, 0):\n",
    "        # get the inputs; data is a list of [inputs, labels]\n",
    "        inputs, labels = data[0].to(device), data[1].to(device)\n",
    "\n",
    "        # zero the parameter gradients\n",
    "        optimizer.zero_grad()\n",
    "\n",
    "        # forward + backward + optimize\n",
    "        outputs = net_gpu(inputs)\n",
    "        loss = criterion(outputs, labels)\n",
    "        loss.backward()\n",
    "        optimizer.step()\n",
    "\n",
    "        # print statistics\n",
    "        running_loss += loss.item()\n",
    "        if i % 2 == 1:    # print every 2mini-batches\n",
    "            print(f'[{epoch + 1}, {i + 1:5d}] loss: {running_loss / 2:.3f}')\n",
    "            running_loss = 0.0\n",
    "\n",
    "end_time = time.time()\n",
    "print('Finished Training')\n",
    "\n",
    "total_time_gpu = end_time - start_time"
   ],
   "metadata": {
    "collapsed": false,
    "pycharm": {
     "name": "#%%\n"
    }
   }
  },
  {
   "cell_type": "code",
   "execution_count": 25,
   "outputs": [
    {
     "data": {
      "text/plain": "2.35210098028183"
     },
     "execution_count": 25,
     "metadata": {},
     "output_type": "execute_result"
    }
   ],
   "source": [
    "total_time_gpu/60"
   ],
   "metadata": {
    "collapsed": false,
    "pycharm": {
     "name": "#%%\n"
    }
   }
  },
  {
   "cell_type": "code",
   "execution_count": 26,
   "outputs": [],
   "source": [
    "torch.save(net_gpu.state_dict(), '../results/lights_inital2.pth')"
   ],
   "metadata": {
    "collapsed": false,
    "pycharm": {
     "name": "#%%\n"
    }
   }
  },
  {
   "cell_type": "markdown",
   "source": [
    "## Test on dev set"
   ],
   "metadata": {
    "collapsed": false,
    "pycharm": {
     "name": "#%% md\n"
    }
   }
  },
  {
   "cell_type": "code",
   "execution_count": 27,
   "outputs": [
    {
     "name": "stdout",
     "output_type": "stream",
     "text": [
      "Accuracy of the network on the 50 test images: 92 %\n"
     ]
    }
   ],
   "source": [
    "correct = 0\n",
    "total = 0\n",
    "# since we're not training, we don't need to calculate the gradients for our outputs\n",
    "with torch.no_grad():\n",
    "    for data in devloader:\n",
    "        images, labels = data[0].to(device), data[1].to(device)\n",
    "        # calculate outputs by running images through the network\n",
    "        outputs = net_gpu(images)\n",
    "        # the class with the highest energy is what we choose as prediction\n",
    "        _, predicted = torch.max(outputs.data, 1)\n",
    "        total += labels.size(0)\n",
    "        correct += (predicted == labels).sum().item()\n",
    "\n",
    "print(f'Accuracy of the network on the {total} test images: {100 * correct // total} %')"
   ],
   "metadata": {
    "collapsed": false,
    "pycharm": {
     "name": "#%%\n"
    }
   }
  },
  {
   "cell_type": "markdown",
   "source": [
    "Yay, that looks good!\n",
    "\n",
    "Some learnings:\n",
    "\n",
    "- My model didn't start learning until after I augmented my images (adding rotations, flipped images), so I'm guessing I didn't have enough data at first my model to be able to learn.\n",
    "- I made some edits to the above after changing over to pytorch-lightning. I was able to debug my model further using pytorch-lightning and realized I was not normalizing my image correctly. Upon fixing that, training started happening much faster.\n",
    "- I also found that there is ~ 6x difference in speed of running on GPU vs. CPU.\n",
    "- I at first thought that classifying populations from night lights might be too easy - that the total brightness (adding all the pixels in the image) would correspond to the population. It turns out that there seemed to be a lot of spread in each class and the Gaussian Naive Bayes baseline model was ~50% accurate. It's great to see that adding the spatial connections from CNN improves the classification percentage."
   ],
   "metadata": {
    "collapsed": false,
    "pycharm": {
     "name": "#%% md\n"
    }
   }
  },
  {
   "cell_type": "markdown",
   "source": [
    "## Running with pytorch-lightning\n",
    "\n",
    "I've wanted to try out this workflow!"
   ],
   "metadata": {
    "collapsed": false,
    "pycharm": {
     "name": "#%% md\n"
    }
   }
  },
  {
   "cell_type": "code",
   "execution_count": 5,
   "outputs": [],
   "source": [
    "from scripts.models import *"
   ],
   "metadata": {
    "collapsed": false,
    "pycharm": {
     "name": "#%%\n"
    }
   }
  },
  {
   "cell_type": "code",
   "execution_count": 6,
   "outputs": [
    {
     "name": "stderr",
     "output_type": "stream",
     "text": [
      "GPU available: True (cuda), used: True\n",
      "TPU available: False, using: 0 TPU cores\n",
      "IPU available: False, using: 0 IPUs\n",
      "HPU available: False, using: 0 HPUs\n",
      "LOCAL_RANK: 0 - CUDA_VISIBLE_DEVICES: [0]\n",
      "\n",
      "  | Name    | Type | Params\n",
      "---------------------------------\n",
      "0 | encoder | CNN  | 1.5 M \n",
      "---------------------------------\n",
      "1.5 M     Trainable params\n",
      "0         Non-trainable params\n",
      "1.5 M     Total params\n",
      "6.109     Total estimated model params size (MB)\n"
     ]
    },
    {
     "data": {
      "text/plain": "Sanity Checking: 0it [00:00, ?it/s]",
      "application/vnd.jupyter.widget-view+json": {
       "version_major": 2,
       "version_minor": 0,
       "model_id": "126285fb56f34ab0a5c60c4675026f4a"
      }
     },
     "metadata": {},
     "output_type": "display_data"
    },
    {
     "name": "stderr",
     "output_type": "stream",
     "text": [
      "/home/mnakajim/anaconda3/envs/NightLights/lib/python3.9/site-packages/pytorch_lightning/trainer/connectors/data_connector.py:225: PossibleUserWarning: The dataloader, val_dataloader 0, does not have many workers which may be a bottleneck. Consider increasing the value of the `num_workers` argument` (try 32 which is the number of cpus on this machine) in the `DataLoader` init to improve performance.\n",
      "  rank_zero_warn(\n",
      "/home/mnakajim/anaconda3/envs/NightLights/lib/python3.9/site-packages/pytorch_lightning/core/module.py:555: UserWarning: To copy construct from a tensor, it is recommended to use sourceTensor.clone().detach() or sourceTensor.clone().detach().requires_grad_(True), rather than torch.tensor(sourceTensor).\n",
      "  value = torch.tensor(value, device=self.device)\n",
      "/home/mnakajim/anaconda3/envs/NightLights/lib/python3.9/site-packages/pytorch_lightning/trainer/connectors/data_connector.py:225: PossibleUserWarning: The dataloader, train_dataloader, does not have many workers which may be a bottleneck. Consider increasing the value of the `num_workers` argument` (try 32 which is the number of cpus on this machine) in the `DataLoader` init to improve performance.\n",
      "  rank_zero_warn(\n"
     ]
    },
    {
     "data": {
      "text/plain": "Training: 0it [00:00, ?it/s]",
      "application/vnd.jupyter.widget-view+json": {
       "version_major": 2,
       "version_minor": 0,
       "model_id": "3007ba26496949a8ab812fa325f89bb0"
      }
     },
     "metadata": {},
     "output_type": "display_data"
    },
    {
     "data": {
      "text/plain": "Validation: 0it [00:00, ?it/s]",
      "application/vnd.jupyter.widget-view+json": {
       "version_major": 2,
       "version_minor": 0,
       "model_id": "daa7d59c1e1a402da168c1b4166ebcc7"
      }
     },
     "metadata": {},
     "output_type": "display_data"
    },
    {
     "data": {
      "text/plain": "Validation: 0it [00:00, ?it/s]",
      "application/vnd.jupyter.widget-view+json": {
       "version_major": 2,
       "version_minor": 0,
       "model_id": "5083315bddd840a58c0ff0cf0a91f950"
      }
     },
     "metadata": {},
     "output_type": "display_data"
    },
    {
     "data": {
      "text/plain": "Validation: 0it [00:00, ?it/s]",
      "application/vnd.jupyter.widget-view+json": {
       "version_major": 2,
       "version_minor": 0,
       "model_id": "ff181e23f149410782d457c79b8c1191"
      }
     },
     "metadata": {},
     "output_type": "display_data"
    },
    {
     "data": {
      "text/plain": "Validation: 0it [00:00, ?it/s]",
      "application/vnd.jupyter.widget-view+json": {
       "version_major": 2,
       "version_minor": 0,
       "model_id": "06e8a5b6d675474d9a4bb05801ec9253"
      }
     },
     "metadata": {},
     "output_type": "display_data"
    },
    {
     "data": {
      "text/plain": "Validation: 0it [00:00, ?it/s]",
      "application/vnd.jupyter.widget-view+json": {
       "version_major": 2,
       "version_minor": 0,
       "model_id": "7cd40de79bb54d8680893c54bd4e6780"
      }
     },
     "metadata": {},
     "output_type": "display_data"
    },
    {
     "data": {
      "text/plain": "Validation: 0it [00:00, ?it/s]",
      "application/vnd.jupyter.widget-view+json": {
       "version_major": 2,
       "version_minor": 0,
       "model_id": "5ae4abb836984ff69639bea1b32b0fa3"
      }
     },
     "metadata": {},
     "output_type": "display_data"
    },
    {
     "data": {
      "text/plain": "Validation: 0it [00:00, ?it/s]",
      "application/vnd.jupyter.widget-view+json": {
       "version_major": 2,
       "version_minor": 0,
       "model_id": "0f3902d455f643318bd7404f05fc2970"
      }
     },
     "metadata": {},
     "output_type": "display_data"
    },
    {
     "data": {
      "text/plain": "Validation: 0it [00:00, ?it/s]",
      "application/vnd.jupyter.widget-view+json": {
       "version_major": 2,
       "version_minor": 0,
       "model_id": "4829f2015ed049f2a23b8737b542029c"
      }
     },
     "metadata": {},
     "output_type": "display_data"
    },
    {
     "data": {
      "text/plain": "Validation: 0it [00:00, ?it/s]",
      "application/vnd.jupyter.widget-view+json": {
       "version_major": 2,
       "version_minor": 0,
       "model_id": "826a6f7050d440beab75e8710c78299a"
      }
     },
     "metadata": {},
     "output_type": "display_data"
    },
    {
     "data": {
      "text/plain": "Validation: 0it [00:00, ?it/s]",
      "application/vnd.jupyter.widget-view+json": {
       "version_major": 2,
       "version_minor": 0,
       "model_id": "4e550ea06a6443b9b795b78d9e492749"
      }
     },
     "metadata": {},
     "output_type": "display_data"
    },
    {
     "name": "stderr",
     "output_type": "stream",
     "text": [
      "`Trainer.fit` stopped: `max_epochs=10` reached.\n"
     ]
    }
   ],
   "source": [
    "# model\n",
    "encoder = LitModel(CNN())\n",
    "\n",
    "# train model\n",
    "trainer = pl.Trainer(max_epochs=10, log_every_n_steps=20, accelerator='gpu', devices=1)\n",
    "trainer.fit(model = encoder, train_dataloaders=trainloader, val_dataloaders= devloader)"
   ],
   "metadata": {
    "collapsed": false,
    "pycharm": {
     "name": "#%%\n"
    }
   }
  },
  {
   "cell_type": "code",
   "execution_count": 8,
   "outputs": [
    {
     "data": {
      "text/plain": "Launching TensorBoard..."
     },
     "metadata": {},
     "output_type": "display_data"
    },
    {
     "data": {
      "text/plain": "<IPython.core.display.HTML object>",
      "text/html": "\n      <iframe id=\"tensorboard-frame-84971d09f86eef2a\" width=\"100%\" height=\"800\" frameborder=\"0\">\n      </iframe>\n      <script>\n        (function() {\n          const frame = document.getElementById(\"tensorboard-frame-84971d09f86eef2a\");\n          const url = new URL(\"/\", window.location);\n          const port = 6006;\n          if (port) {\n            url.port = port;\n          }\n          frame.src = url;\n        })();\n      </script>\n    "
     },
     "metadata": {},
     "output_type": "display_data"
    }
   ],
   "source": [
    "%reload_ext tensorboard\n",
    "%tensorboard --logdir=lightning_logs/"
   ],
   "metadata": {
    "collapsed": false,
    "pycharm": {
     "name": "#%%\n"
    }
   }
  },
  {
   "cell_type": "code",
   "execution_count": null,
   "outputs": [],
   "source": [],
   "metadata": {
    "collapsed": false,
    "pycharm": {
     "name": "#%%\n"
    }
   }
  }
 ],
 "metadata": {
  "kernelspec": {
   "name": "nightlights",
   "language": "python",
   "display_name": "NightLights"
  },
  "language_info": {
   "codemirror_mode": {
    "name": "ipython",
    "version": 2
   },
   "file_extension": ".py",
   "mimetype": "text/x-python",
   "name": "python",
   "nbconvert_exporter": "python",
   "pygments_lexer": "ipython2",
   "version": "2.7.6"
  }
 },
 "nbformat": 4,
 "nbformat_minor": 0
}