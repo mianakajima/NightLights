{
 "cells": [
  {
   "cell_type": "markdown",
   "source": [
    "# 05: EDA - Explore Night lights and Population\n",
    "\n",
    "As I was working on the data preparation in the last notebook, I realized it will probably be pretty hard to tell the population change from satellite imagery since buildings usually stay for a while even if people are not living there anymore.\n",
    "\n",
    "I will explore in this notebook if there is a correlation between change in night lights and the population to see if I can use this data to explore population decline.\n",
    "\n",
    "Use census data and VIIRS Nighttime data from 2015 to 2020.\n",
    "\n"
   ],
   "metadata": {
    "collapsed": false,
    "pycharm": {
     "name": "#%% md\n"
    }
   }
  },
  {
   "cell_type": "code",
   "execution_count": 37,
   "outputs": [],
   "source": [
    "import ee\n",
    "import time"
   ],
   "metadata": {
    "collapsed": false,
    "pycharm": {
     "name": "#%%\n"
    }
   }
  },
  {
   "cell_type": "code",
   "execution_count": 3,
   "outputs": [
    {
     "data": {
      "text/plain": "<IPython.core.display.HTML object>",
      "text/html": "<p>To authorize access needed by Earth Engine, open the following\n        URL in a web browser and follow the instructions:</p>\n        <p><a href=https://code.earthengine.google.com/client-auth?scopes=https%3A//www.googleapis.com/auth/earthengine%20https%3A//www.googleapis.com/auth/devstorage.full_control&request_id=4rcDQCWESDmxRxaXL_nt96_EzEHg9AobusKdPnTSvRU&tc=cQRbfDNJq98YPPF_KrkLcBq7bJzTV92RHXZRPC60roc&cc=cdeOY5cR31YANTIEWqgo7XTvI686IHMgG6a0sh5gh3Q>https://code.earthengine.google.com/client-auth?scopes=https%3A//www.googleapis.com/auth/earthengine%20https%3A//www.googleapis.com/auth/devstorage.full_control&request_id=4rcDQCWESDmxRxaXL_nt96_EzEHg9AobusKdPnTSvRU&tc=cQRbfDNJq98YPPF_KrkLcBq7bJzTV92RHXZRPC60roc&cc=cdeOY5cR31YANTIEWqgo7XTvI686IHMgG6a0sh5gh3Q</a></p>\n        <p>The authorization workflow will generate a code, which you should paste in the box below.</p>\n        "
     },
     "metadata": {},
     "output_type": "display_data"
    },
    {
     "name": "stdout",
     "output_type": "stream",
     "text": [
      "\n",
      "Successfully saved authorization token.\n"
     ]
    }
   ],
   "source": [
    "try:\n",
    "    ee.Initialize()\n",
    "except Exception as e:\n",
    "    ee.Authenticate()\n",
    "    ee.Initialize()"
   ],
   "metadata": {
    "collapsed": false,
    "pycharm": {
     "name": "#%%\n"
    }
   }
  },
  {
   "cell_type": "markdown",
   "source": [
    "### Get 2015 and 2020 images, export"
   ],
   "metadata": {
    "collapsed": false,
    "pycharm": {
     "name": "#%% md\n"
    }
   }
  },
  {
   "cell_type": "code",
   "execution_count": 41,
   "outputs": [],
   "source": [
    "i_date = '2015-01-01'\n",
    "f_date = '2015-12-31'\n",
    "\n",
    "# Get median image for year\n",
    "night_light_2015 = ee.ImageCollection(\"NOAA/VIIRS/DNB/MONTHLY_V1/VCMSLCFG\").filterDate(i_date, f_date).select('avg_rad').median()\n",
    "\n",
    "# census data\n",
    "census_2015 = ee.ImageCollection(\"CIESIN/GPWv411/GPW_Population_Count\").filterDate(i_date, f_date).first()\n",
    "\n",
    "\n",
    "i_date2 = '2020-01-01'\n",
    "f_date2 = '2020-12-31'\n",
    "\n",
    "# Get median image for year\n",
    "night_light_2020 = ee.ImageCollection(\"NOAA/VIIRS/DNB/MONTHLY_V1/VCMSLCFG\").filterDate(i_date2, f_date2).select('avg_rad').median()\n",
    "\n",
    "# census data\n",
    "census_2020 = ee.ImageCollection(\"CIESIN/GPWv411/GPW_Population_Count\").filterDate(i_date2, f_date2).first()"
   ],
   "metadata": {
    "collapsed": false,
    "pycharm": {
     "name": "#%%\n"
    }
   }
  },
  {
   "cell_type": "code",
   "execution_count": 36,
   "outputs": [],
   "source": [
    "# Define regions\n",
    "\n",
    "# Kanazawa to Yokohama\n",
    "region1 = ee.Geometry.BBox(135.9259, 35.4698, 140.8698 , 36.6422)\n",
    "\n",
    "# Kyushu\n",
    "region2 = ee.Geometry.BBox(129.542275, 31.629761 ,131.981586 , 33.760804)\n",
    "\n",
    "# Hiroshima/Osaka\n",
    "region3 = ee.Geometry.BBox(130.987217, 33.760804, 136.611616, 35.448746)\n",
    "\n",
    "# Shikoku\n",
    "region4 = ee.Geometry.BBox(131.981586, 32.811406, 136.611616, 33.760804)\n",
    "\n",
    "# Nagoya to Yokohama\n",
    "region5 = ee.Geometry.BBox(136.6950, 34.4071, 140.6061, 35.4519)\n",
    "\n",
    "# North of Tokyo to Niigata\n",
    "region6 = ee.Geometry.BBox(136.5728, 36.6422, 141.0772, 38.3578)\n",
    "\n",
    "# Sendai/Fukushima\n",
    "region7 = ee.Geometry.BBox(139.5172, 38.3578, 142.0440, 41.5075)\n",
    "\n",
    "# Hokkaido\n",
    "region8 = ee.Geometry.BBox(139.4293, 41.5075, 145.6695, 45.5669)\n",
    "\n",
    "all_regions = [region1, region2, region3, region4, region5, region6, region7, region8]\n"
   ],
   "metadata": {
    "collapsed": false,
    "pycharm": {
     "name": "#%%\n"
    }
   }
  },
  {
   "cell_type": "code",
   "execution_count": 50,
   "outputs": [
    {
     "name": "stdout",
     "output_type": "stream",
     "text": [
      "Processing: Region 0, Year 2015\n",
      "Status: READY\n",
      "Status: RUNNING\n",
      "Processing: Region 0, Year 2020\n",
      "Status: READY\n",
      "Status: RUNNING\n",
      "Processing: Region 1, Year 2015\n",
      "Status: READY\n",
      "Status: RUNNING\n",
      "Processing: Region 1, Year 2020\n",
      "Status: READY\n",
      "Status: RUNNING\n",
      "Processing: Region 2, Year 2015\n",
      "Status: READY\n",
      "Status: RUNNING\n",
      "Processing: Region 2, Year 2020\n",
      "Status: READY\n",
      "Status: RUNNING\n",
      "Status: RUNNING\n",
      "Processing: Region 3, Year 2015\n",
      "Status: READY\n",
      "Status: RUNNING\n",
      "Processing: Region 3, Year 2020\n",
      "Status: READY\n",
      "Status: RUNNING\n",
      "Processing: Region 4, Year 2015\n",
      "Status: READY\n",
      "Status: RUNNING\n",
      "Processing: Region 4, Year 2020\n",
      "Status: READY\n",
      "Status: RUNNING\n",
      "Processing: Region 5, Year 2015\n",
      "Status: READY\n",
      "Status: READY\n",
      "Status: READY\n",
      "Status: READY\n",
      "Status: RUNNING\n",
      "Status: RUNNING\n",
      "Processing: Region 5, Year 2020\n",
      "Status: READY\n",
      "Status: READY\n",
      "Status: RUNNING\n",
      "Processing: Region 6, Year 2015\n",
      "Status: READY\n",
      "Status: RUNNING\n",
      "Processing: Region 6, Year 2020\n",
      "Status: READY\n",
      "Status: RUNNING\n",
      "Processing: Region 7, Year 2015\n",
      "Status: READY\n",
      "Status: READY\n",
      "Status: RUNNING\n",
      "Processing: Region 7, Year 2020\n",
      "Status: READY\n",
      "Status: RUNNING\n",
      "Processing: Region 0, Year 2015\n",
      "Status: READY\n",
      "Status: RUNNING\n",
      "Processing: Region 0, Year 2020\n",
      "Status: READY\n",
      "Status: READY\n",
      "Status: RUNNING\n",
      "Processing: Region 1, Year 2015\n",
      "Status: READY\n",
      "Status: RUNNING\n",
      "Processing: Region 1, Year 2020\n",
      "Status: READY\n",
      "Status: READY\n",
      "Processing: Region 2, Year 2015\n",
      "Status: READY\n",
      "Status: RUNNING\n",
      "Processing: Region 2, Year 2020\n",
      "Status: READY\n",
      "Status: RUNNING\n",
      "Processing: Region 3, Year 2015\n",
      "Status: READY\n",
      "Status: RUNNING\n",
      "Processing: Region 3, Year 2020\n",
      "Status: READY\n",
      "Status: RUNNING\n",
      "Processing: Region 4, Year 2015\n",
      "Status: READY\n",
      "Status: READY\n",
      "Status: READY\n",
      "Status: READY\n",
      "Status: RUNNING\n",
      "Processing: Region 4, Year 2020\n",
      "Status: READY\n",
      "Status: READY\n",
      "Processing: Region 5, Year 2015\n",
      "Status: READY\n",
      "Status: RUNNING\n",
      "Processing: Region 5, Year 2020\n",
      "Status: READY\n",
      "Status: RUNNING\n",
      "Status: RUNNING\n",
      "Processing: Region 6, Year 2015\n",
      "Status: READY\n",
      "Status: RUNNING\n",
      "Processing: Region 6, Year 2020\n",
      "Status: READY\n",
      "Status: RUNNING\n",
      "Processing: Region 7, Year 2015\n",
      "Status: READY\n",
      "Status: READY\n",
      "Processing: Region 7, Year 2020\n",
      "Status: READY\n",
      "Status: RUNNING\n"
     ]
    }
   ],
   "source": [
    "images_nightlights = [night_light_2015, night_light_2020]\n",
    "years = [2015, 2020]\n",
    "\n",
    "for i, region in enumerate(all_regions):\n",
    "    for j, image in enumerate(images_nightlights):\n",
    "        print(f'Processing: Region {i}, Year {years[j]}')\n",
    "        task = ee.batch.Export.image.toDrive(image = image,\n",
    "                                             fileNamePrefix = f'nightlights_{years[j]}_region{i}',\n",
    "                                             region = region,\n",
    "                                             scale = 1000, # adjust to Census data\n",
    "                                             folder = 'NightLightImages')\n",
    "\n",
    "        task.start()\n",
    "\n",
    "        status = task.status()['state']\n",
    "\n",
    "        while status != 'COMPLETED':\n",
    "            print(f'Status: {status}')\n",
    "\n",
    "            if status == 'FAILED':\n",
    "                print(task.status())\n",
    "                break\n",
    "\n",
    "            time.sleep(10)\n",
    "            status = task.status()['state']\n",
    "\n",
    "images_census = [census_2015, census_2020]\n",
    "years = [2015, 2020]\n",
    "\n",
    "for i, region in enumerate(all_regions):\n",
    "    for j, image in enumerate(images_census):\n",
    "        print(f'Processing: Region {i}, Year {years[j]}')\n",
    "        task = ee.batch.Export.image.toDrive(image = image,\n",
    "                                             fileNamePrefix = f'census_{years[j]}_region{i}',\n",
    "                                             region = region,\n",
    "                                             scale = 1000,\n",
    "                                             folder = 'NightLightImages')\n",
    "\n",
    "        task.start()\n",
    "        status = task.status()['state']\n",
    "        while status != 'COMPLETED':\n",
    "            print(f'Status: {status}')\n",
    "\n",
    "            if status == 'FAILED':\n",
    "                print(task.status())\n",
    "                break\n",
    "\n",
    "            time.sleep(10)\n",
    "            status = task.status()['state']"
   ],
   "metadata": {
    "collapsed": false,
    "pycharm": {
     "name": "#%%\n"
    }
   }
  },
  {
   "cell_type": "code",
   "execution_count": 45,
   "outputs": [],
   "source": [
    "task = ee.batch.Export.image.toDrive(image = night_light_2015,\n",
    "                                             fileNamePrefix = f'nightlights_{years[0]}_region{0}',\n",
    "                                             region = all_regions[0],\n",
    "                                             scale = 1000, # adjust to Census data\n",
    "                                             folder = 'NightLightImages')"
   ],
   "metadata": {
    "collapsed": false,
    "pycharm": {
     "name": "#%%\n"
    }
   }
  },
  {
   "cell_type": "code",
   "execution_count": 46,
   "outputs": [],
   "source": [
    "task.start()"
   ],
   "metadata": {
    "collapsed": false,
    "pycharm": {
     "name": "#%%\n"
    }
   }
  },
  {
   "cell_type": "code",
   "execution_count": 49,
   "outputs": [
    {
     "data": {
      "text/plain": "{'state': 'COMPLETED',\n 'description': 'myExportImageTask',\n 'creation_timestamp_ms': 1662080083647,\n 'update_timestamp_ms': 1662080098113,\n 'start_timestamp_ms': 1662080091975,\n 'task_type': 'EXPORT_IMAGE',\n 'destination_uris': ['https://drive.google.com/#folders/17rvGzJEo1cwuvqCa6RQAXi5uMBEiVw6G'],\n 'attempt': 1,\n 'batch_eecu_usage_seconds': 0.6657026410102844,\n 'id': '2SUNJCKW7I7TPFEUE5MBOBBN',\n 'name': 'projects/earthengine-legacy/operations/2SUNJCKW7I7TPFEUE5MBOBBN'}"
     },
     "execution_count": 49,
     "metadata": {},
     "output_type": "execute_result"
    }
   ],
   "source": [
    "task.status()"
   ],
   "metadata": {
    "collapsed": false,
    "pycharm": {
     "name": "#%%\n"
    }
   }
  },
  {
   "cell_type": "code",
   "execution_count": null,
   "outputs": [],
   "source": [],
   "metadata": {
    "collapsed": false,
    "pycharm": {
     "name": "#%%\n"
    }
   }
  }
 ],
 "metadata": {
  "kernelspec": {
   "name": "nightlights",
   "language": "python",
   "display_name": "NightLights"
  },
  "language_info": {
   "codemirror_mode": {
    "name": "ipython",
    "version": 2
   },
   "file_extension": ".py",
   "mimetype": "text/x-python",
   "name": "python",
   "nbconvert_exporter": "python",
   "pygments_lexer": "ipython2",
   "version": "2.7.6"
  }
 },
 "nbformat": 4,
 "nbformat_minor": 0
}