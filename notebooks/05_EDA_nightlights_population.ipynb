{
 "cells": [
  {
   "cell_type": "markdown",
   "source": [
    "# 05: EDA - Explore Night lights and Population\n",
    "\n",
    "As I was working on the data preparation in the last notebook, I realized it will probably be pretty hard to tell the population change from satellite imagery since buildings usually stay for a while even if people are not living there anymore.\n",
    "\n",
    "I will explore in this notebook if there is a correlation between change in night lights and the population to see if I can use this data to explore population decline.\n",
    "\n",
    "Use census data and VIIRS Nighttime data from 2015 to 2020.\n",
    "\n"
   ],
   "metadata": {
    "collapsed": false,
    "pycharm": {
     "name": "#%% md\n"
    }
   }
  },
  {
   "cell_type": "code",
   "execution_count": 1,
   "outputs": [],
   "source": [
    "import ee\n",
    "import time\n",
    "\n",
    "import rioxarray\n",
    "import xarray as xr"
   ],
   "metadata": {
    "collapsed": false,
    "pycharm": {
     "name": "#%%\n"
    }
   }
  },
  {
   "cell_type": "code",
   "execution_count": 10,
   "outputs": [],
   "source": [
    "try:\n",
    "    ee.Initialize()\n",
    "except Exception as e:\n",
    "    ee.Authenticate()\n",
    "    ee.Initialize()"
   ],
   "metadata": {
    "collapsed": false,
    "pycharm": {
     "name": "#%%\n"
    }
   }
  },
  {
   "cell_type": "markdown",
   "source": [
    "### Get 2015 and 2020 images, export"
   ],
   "metadata": {
    "collapsed": false,
    "pycharm": {
     "name": "#%% md\n"
    }
   }
  },
  {
   "cell_type": "code",
   "execution_count": 73,
   "outputs": [],
   "source": [
    "i_date = '2015-01-01'\n",
    "f_date = '2015-12-31'\n",
    "\n",
    "# Get median image for year\n",
    "night_light_2015 = ee.ImageCollection(\"NOAA/VIIRS/DNB/MONTHLY_V1/VCMSLCFG\").filterDate(i_date, f_date).select('avg_rad').median()\n",
    "\n",
    "# census data\n",
    "census_2015 = ee.ImageCollection(\"CIESIN/GPWv411/GPW_Population_Count\").filterDate(i_date, f_date).first()\n",
    "\n",
    "\n",
    "i_date2 = '2020-01-01'\n",
    "f_date2 = '2020-12-31'\n",
    "\n",
    "# Get median image for year\n",
    "night_light_2020 = ee.ImageCollection(\"NOAA/VIIRS/DNB/MONTHLY_V1/VCMSLCFG\").filterDate(i_date2, f_date2).select('avg_rad').median()\n",
    "\n",
    "# census data\n",
    "census_2020 = ee.ImageCollection(\"CIESIN/GPWv411/GPW_Population_Count\").filterDate(i_date2, f_date2).first()\n",
    "\n",
    "# NO2 data\n",
    "\n",
    "no2_2020 = ee.ImageCollection(\"COPERNICUS/S5P/NRTI/L3_NO2\").filterDate(i_date, f_date).select('tropospheric_NO2_column_number_density').median()"
   ],
   "metadata": {
    "collapsed": false,
    "pycharm": {
     "name": "#%%\n"
    }
   }
  },
  {
   "cell_type": "code",
   "execution_count": 84,
   "outputs": [
    {
     "data": {
      "text/plain": "<ee.image.Image at 0x7fd25d227d00>"
     },
     "execution_count": 84,
     "metadata": {},
     "output_type": "execute_result"
    }
   ],
   "source": [
    "no2_2020"
   ],
   "metadata": {
    "collapsed": false,
    "pycharm": {
     "name": "#%%\n"
    }
   }
  },
  {
   "cell_type": "markdown",
   "source": [
    "I learned that instead of scale, I should use the `crs` and `crsTransform` to align.\n",
    "\n",
    "Definition: The crsTransform parameter is a list of parameters from an affine transformation matrix in row-major order [xScale, xShearing, xTranslation, yShearing, yScale, yTranslation]. An image's origin is defined by the xTranslation and yTranslation values, and the image's pixel size is defined by the xScale and yScale values.\n",
    "\n",
    "https://developers.google.com/earth-engine/guides/exporting"
   ],
   "metadata": {
    "collapsed": false,
    "pycharm": {
     "name": "#%% md\n"
    }
   }
  },
  {
   "cell_type": "code",
   "execution_count": 12,
   "outputs": [
    {
     "name": "stdout",
     "output_type": "stream",
     "text": [
      "{'type': 'Projection', 'crs': 'EPSG:4326', 'transform': [0.00833333333333333, 0, -180, 0, -0.00833333333333333, 89.99999999999991]}\n"
     ]
    }
   ],
   "source": [
    "print(census_2015.projection().getInfo())"
   ],
   "metadata": {
    "collapsed": false,
    "pycharm": {
     "name": "#%%\n"
    }
   }
  },
  {
   "cell_type": "code",
   "execution_count": 13,
   "outputs": [
    {
     "name": "stdout",
     "output_type": "stream",
     "text": [
      "{'type': 'Projection', 'crs': 'EPSG:4326', 'transform': [1, 0, 0, 0, 1, 0]}\n"
     ]
    }
   ],
   "source": [
    "print(night_light_2015.projection().getInfo())"
   ],
   "metadata": {
    "collapsed": false,
    "pycharm": {
     "name": "#%%\n"
    }
   }
  },
  {
   "cell_type": "code",
   "execution_count": 14,
   "outputs": [],
   "source": [
    "# Define regions\n",
    "\n",
    "# Kanazawa to Yokohama\n",
    "region1 = ee.Geometry.BBox(135.9259, 35.4698, 140.8698 , 36.6422)\n",
    "\n",
    "# Kyushu\n",
    "region2 = ee.Geometry.BBox(129.542275, 31.629761 ,131.981586 , 33.760804)\n",
    "\n",
    "# Hiroshima/Osaka\n",
    "region3 = ee.Geometry.BBox(130.987217, 33.760804, 136.611616, 35.448746)\n",
    "\n",
    "# Shikoku\n",
    "region4 = ee.Geometry.BBox(131.981586, 32.811406, 136.611616, 33.760804)\n",
    "\n",
    "# Nagoya to Yokohama\n",
    "region5 = ee.Geometry.BBox(136.6950, 34.4071, 140.6061, 35.4519)\n",
    "\n",
    "# North of Tokyo to Niigata\n",
    "region6 = ee.Geometry.BBox(136.5728, 36.6422, 141.0772, 38.3578)\n",
    "\n",
    "# Sendai/Fukushima\n",
    "region7 = ee.Geometry.BBox(139.5172, 38.3578, 142.0440, 41.5075)\n",
    "\n",
    "# Hokkaido\n",
    "region8 = ee.Geometry.BBox(139.4293, 41.5075, 145.6695, 45.5669)\n",
    "\n",
    "all_regions = [region1, region2, region3, region4, region5, region6, region7, region8]\n"
   ],
   "metadata": {
    "collapsed": false,
    "pycharm": {
     "name": "#%%\n"
    }
   }
  },
  {
   "cell_type": "code",
   "execution_count": 15,
   "outputs": [
    {
     "data": {
      "text/plain": "{'type': 'Projection',\n 'crs': 'EPSG:4326',\n 'transform': [0.00833333333333333,\n  0,\n  -180,\n  0,\n  -0.00833333333333333,\n  89.99999999999991]}"
     },
     "execution_count": 15,
     "metadata": {},
     "output_type": "execute_result"
    }
   ],
   "source": [
    "census_2015.clip(region2).projection().getInfo()"
   ],
   "metadata": {
    "collapsed": false,
    "pycharm": {
     "name": "#%%\n"
    }
   }
  },
  {
   "cell_type": "code",
   "execution_count": 16,
   "outputs": [],
   "source": [
    "images_nightlights = [night_light_2015, night_light_2020]\n",
    "years = [2015, 2020]\n",
    "crs = census_2015.projection().getInfo()['crs']\n",
    "transform = census_2015.projection().getInfo()['transform']"
   ],
   "metadata": {
    "collapsed": false,
    "pycharm": {
     "name": "#%%\n"
    }
   }
  },
  {
   "cell_type": "code",
   "execution_count": 18,
   "outputs": [
    {
     "name": "stdout",
     "output_type": "stream",
     "text": [
      "Processing: Region 0, Year 2015\n",
      "Status: READY\n",
      "Status: READY\n",
      "Status: READY\n",
      "Status: READY\n",
      "Status: RUNNING\n",
      "Processing: Region 0, Year 2020\n",
      "Status: READY\n",
      "Status: READY\n",
      "Status: READY\n",
      "Status: READY\n",
      "Status: RUNNING\n",
      "Processing: Region 1, Year 2015\n",
      "Status: READY\n",
      "Status: RUNNING\n",
      "Processing: Region 1, Year 2020\n",
      "Status: READY\n",
      "Status: READY\n",
      "Status: RUNNING\n",
      "Processing: Region 2, Year 2015\n",
      "Status: READY\n",
      "Status: RUNNING\n",
      "Processing: Region 2, Year 2020\n",
      "Status: READY\n",
      "Status: RUNNING\n",
      "Processing: Region 3, Year 2015\n",
      "Status: READY\n",
      "Status: RUNNING\n",
      "Processing: Region 3, Year 2020\n",
      "Status: READY\n",
      "Status: RUNNING\n",
      "Processing: Region 4, Year 2015\n",
      "Status: READY\n",
      "Status: RUNNING\n",
      "Processing: Region 4, Year 2020\n",
      "Status: READY\n",
      "Status: READY\n",
      "Processing: Region 5, Year 2015\n",
      "Status: READY\n",
      "Status: RUNNING\n",
      "Processing: Region 5, Year 2020\n",
      "Status: READY\n",
      "Status: RUNNING\n",
      "Processing: Region 6, Year 2015\n",
      "Status: READY\n",
      "Status: RUNNING\n",
      "Processing: Region 6, Year 2020\n",
      "Status: READY\n",
      "Status: RUNNING\n",
      "Processing: Region 7, Year 2015\n",
      "Status: READY\n",
      "Status: RUNNING\n",
      "Processing: Region 7, Year 2020\n",
      "Status: READY\n",
      "Status: RUNNING\n",
      "Processing: Region 0, Year 2015\n",
      "Status: READY\n",
      "Status: READY\n",
      "Status: RUNNING\n",
      "Status: RUNNING\n",
      "Status: RUNNING\n",
      "Status: RUNNING\n",
      "Processing: Region 0, Year 2020\n",
      "Status: READY\n",
      "Status: RUNNING\n",
      "Processing: Region 1, Year 2015\n",
      "Status: READY\n",
      "Status: READY\n",
      "Processing: Region 1, Year 2020\n",
      "Status: READY\n",
      "Status: RUNNING\n",
      "Processing: Region 2, Year 2015\n",
      "Status: READY\n",
      "Status: RUNNING\n",
      "Processing: Region 2, Year 2020\n",
      "Status: READY\n",
      "Status: RUNNING\n",
      "Processing: Region 3, Year 2015\n",
      "Status: READY\n",
      "Status: RUNNING\n",
      "Processing: Region 3, Year 2020\n",
      "Status: READY\n",
      "Status: RUNNING\n",
      "Processing: Region 4, Year 2015\n",
      "Status: READY\n",
      "Status: RUNNING\n",
      "Processing: Region 4, Year 2020\n",
      "Status: READY\n",
      "Status: RUNNING\n",
      "Processing: Region 5, Year 2015\n",
      "Status: READY\n",
      "Processing: Region 5, Year 2020\n",
      "Status: READY\n",
      "Status: RUNNING\n",
      "Processing: Region 6, Year 2015\n",
      "Status: READY\n",
      "Status: RUNNING\n",
      "Processing: Region 6, Year 2020\n",
      "Status: READY\n",
      "Status: RUNNING\n",
      "Processing: Region 7, Year 2015\n",
      "Status: READY\n",
      "Status: READY\n",
      "Status: READY\n",
      "Processing: Region 7, Year 2020\n",
      "Status: READY\n",
      "Status: RUNNING\n"
     ]
    }
   ],
   "source": [
    "for i, region in enumerate(all_regions):\n",
    "    for j, image in enumerate(images_nightlights):\n",
    "        print(f'Processing: Region {i}, Year {years[j]}')\n",
    "        task = ee.batch.Export.image.toDrive(image = image,\n",
    "                                             fileNamePrefix = f'nightlights_{years[j]}_region{i}',\n",
    "                                             region = region,\n",
    "                                             folder = 'NightLightImages0902',\n",
    "                                             crsTransform=transform,\n",
    "                                             crs = crs)\n",
    "\n",
    "        task.start()\n",
    "\n",
    "        status = task.status()['state']\n",
    "\n",
    "        while status != 'COMPLETED':\n",
    "            print(f'Status: {status}')\n",
    "\n",
    "            if status == 'FAILED':\n",
    "                print(task.status())\n",
    "                break\n",
    "\n",
    "            time.sleep(10)\n",
    "            status = task.status()['state']\n",
    "\n",
    "images_census = [census_2015, census_2020]\n",
    "years = [2015, 2020]\n",
    "\n",
    "for i, region in enumerate(all_regions):\n",
    "    for j, image in enumerate(images_census):\n",
    "        print(f'Processing: Region {i}, Year {years[j]}')\n",
    "        task = ee.batch.Export.image.toDrive(image = image,\n",
    "                                             fileNamePrefix = f'census_{years[j]}_region{i}',\n",
    "                                             region = region,\n",
    "                                             folder = 'NightLightImages0902',\n",
    "                                             crs = crs,\n",
    "                                             crsTransform = transform)\n",
    "\n",
    "        task.start()\n",
    "        status = task.status()['state']\n",
    "        while status != 'COMPLETED':\n",
    "            print(f'Status: {status}')\n",
    "\n",
    "            if status == 'FAILED':\n",
    "                print(task.status())\n",
    "                break\n",
    "\n",
    "            time.sleep(10)\n",
    "            status = task.status()['state']"
   ],
   "metadata": {
    "collapsed": false,
    "pycharm": {
     "name": "#%%\n"
    }
   }
  },
  {
   "cell_type": "code",
   "execution_count": 86,
   "outputs": [],
   "source": [
    "task = ee.batch.Export.image.toDrive(image = no2_2020,\n",
    "                                             fileNamePrefix = f'n02_{years[0]}_region{0}',\n",
    "                                             region = region1,\n",
    "                                             crsTransform=transform,\n",
    "                                             crs = crs)\n",
    "task.start()"
   ],
   "metadata": {
    "collapsed": false,
    "pycharm": {
     "name": "#%%\n"
    }
   }
  },
  {
   "cell_type": "code",
   "execution_count": 85,
   "outputs": [
    {
     "data": {
      "text/plain": "[0.00833333333333333, 0, -180, 0, -0.00833333333333333, 89.99999999999991]"
     },
     "execution_count": 85,
     "metadata": {},
     "output_type": "execute_result"
    }
   ],
   "source": [
    "transform"
   ],
   "metadata": {
    "collapsed": false,
    "pycharm": {
     "name": "#%%\n"
    }
   }
  },
  {
   "cell_type": "code",
   "execution_count": 102,
   "outputs": [],
   "source": [
    "task = ee.batch.Export.image.toDrive(image = night_light_2015,\n",
    "                                             fileNamePrefix = f'nightlights_{years[0]}_region{0}',\n",
    "                                             region = region1,\n",
    "                                             crsTransform=transform,\n",
    "                                             crs = crs)\n",
    "task.start()"
   ],
   "metadata": {
    "collapsed": false,
    "pycharm": {
     "name": "#%%\n"
    }
   }
  },
  {
   "cell_type": "code",
   "execution_count": 88,
   "outputs": [
    {
     "data": {
      "text/plain": "{'state': 'FAILED',\n 'description': 'myExportImageTask',\n 'creation_timestamp_ms': 1662166789481,\n 'update_timestamp_ms': 1662166795139,\n 'start_timestamp_ms': 1662166794905,\n 'task_type': 'EXPORT_IMAGE',\n 'attempt': 1,\n 'error_message': \"Can't get band number 0. Image has no bands.\",\n 'id': 'CC5CVR7UWFFXURRBEVDBNGSB',\n 'name': 'projects/earthengine-legacy/operations/CC5CVR7UWFFXURRBEVDBNGSB'}"
     },
     "execution_count": 88,
     "metadata": {},
     "output_type": "execute_result"
    }
   ],
   "source": [
    "task.status()"
   ],
   "metadata": {
    "collapsed": false,
    "pycharm": {
     "name": "#%%\n"
    }
   }
  },
  {
   "cell_type": "markdown",
   "source": [
    "## Load Images"
   ],
   "metadata": {
    "collapsed": false,
    "pycharm": {
     "name": "#%% md\n"
    }
   }
  },
  {
   "cell_type": "code",
   "execution_count": 49,
   "outputs": [],
   "source": [
    "# test image\n",
    "census_2015_r0 = rioxarray.open_rasterio('../data/NightLightImages0902/census_2015_region0.tif')\n",
    "lights_2015_r0 = rioxarray.open_rasterio('../data/NightLightImages0902/nightlights_2015_region0.tif')\n",
    "census_2020_r0 = rioxarray.open_rasterio('../data/NightLightImages0902/census_2020_region0.tif')\n",
    "lights_2020_r0 = rioxarray.open_rasterio('../data/NightLightImages0902/nightlights_2020_region0.tif')"
   ],
   "metadata": {
    "collapsed": false,
    "pycharm": {
     "name": "#%%\n"
    }
   }
  },
  {
   "cell_type": "code",
   "execution_count": 20,
   "outputs": [
    {
     "data": {
      "text/plain": "<xarray.DataArray (band: 1, y: 142, x: 594)>\narray([[[     nan,      nan, ...,      nan,      nan],\n        [     nan,      nan, ...,      nan,      nan],\n        ...,\n        [73.24027, 73.24027, ...,      nan,      nan],\n        [73.24788, 73.24789, ...,      nan,      nan]]], dtype=float32)\nCoordinates:\n  * band         (band) int64 1\n  * x            (x) float64 135.9 135.9 135.9 136.0 ... 140.8 140.9 140.9 140.9\n  * y            (y) float64 36.65 36.64 36.63 36.62 ... 35.5 35.49 35.48 35.47\n    spatial_ref  int64 0\nAttributes:\n    scale_factor:  1.0\n    add_offset:    0.0\n    long_name:     population_count",
      "text/html": "<div><svg style=\"position: absolute; width: 0; height: 0; overflow: hidden\">\n<defs>\n<symbol id=\"icon-database\" viewBox=\"0 0 32 32\">\n<path d=\"M16 0c-8.837 0-16 2.239-16 5v4c0 2.761 7.163 5 16 5s16-2.239 16-5v-4c0-2.761-7.163-5-16-5z\"></path>\n<path d=\"M16 17c-8.837 0-16-2.239-16-5v6c0 2.761 7.163 5 16 5s16-2.239 16-5v-6c0 2.761-7.163 5-16 5z\"></path>\n<path d=\"M16 26c-8.837 0-16-2.239-16-5v6c0 2.761 7.163 5 16 5s16-2.239 16-5v-6c0 2.761-7.163 5-16 5z\"></path>\n</symbol>\n<symbol id=\"icon-file-text2\" viewBox=\"0 0 32 32\">\n<path d=\"M28.681 7.159c-0.694-0.947-1.662-2.053-2.724-3.116s-2.169-2.030-3.116-2.724c-1.612-1.182-2.393-1.319-2.841-1.319h-15.5c-1.378 0-2.5 1.121-2.5 2.5v27c0 1.378 1.122 2.5 2.5 2.5h23c1.378 0 2.5-1.122 2.5-2.5v-19.5c0-0.448-0.137-1.23-1.319-2.841zM24.543 5.457c0.959 0.959 1.712 1.825 2.268 2.543h-4.811v-4.811c0.718 0.556 1.584 1.309 2.543 2.268zM28 29.5c0 0.271-0.229 0.5-0.5 0.5h-23c-0.271 0-0.5-0.229-0.5-0.5v-27c0-0.271 0.229-0.5 0.5-0.5 0 0 15.499-0 15.5 0v7c0 0.552 0.448 1 1 1h7v19.5z\"></path>\n<path d=\"M23 26h-14c-0.552 0-1-0.448-1-1s0.448-1 1-1h14c0.552 0 1 0.448 1 1s-0.448 1-1 1z\"></path>\n<path d=\"M23 22h-14c-0.552 0-1-0.448-1-1s0.448-1 1-1h14c0.552 0 1 0.448 1 1s-0.448 1-1 1z\"></path>\n<path d=\"M23 18h-14c-0.552 0-1-0.448-1-1s0.448-1 1-1h14c0.552 0 1 0.448 1 1s-0.448 1-1 1z\"></path>\n</symbol>\n</defs>\n</svg>\n<style>/* CSS stylesheet for displaying xarray objects in jupyterlab.\n *\n */\n\n:root {\n  --xr-font-color0: var(--jp-content-font-color0, rgba(0, 0, 0, 1));\n  --xr-font-color2: var(--jp-content-font-color2, rgba(0, 0, 0, 0.54));\n  --xr-font-color3: var(--jp-content-font-color3, rgba(0, 0, 0, 0.38));\n  --xr-border-color: var(--jp-border-color2, #e0e0e0);\n  --xr-disabled-color: var(--jp-layout-color3, #bdbdbd);\n  --xr-background-color: var(--jp-layout-color0, white);\n  --xr-background-color-row-even: var(--jp-layout-color1, white);\n  --xr-background-color-row-odd: var(--jp-layout-color2, #eeeeee);\n}\n\nhtml[theme=dark],\nbody[data-theme=dark],\nbody.vscode-dark {\n  --xr-font-color0: rgba(255, 255, 255, 1);\n  --xr-font-color2: rgba(255, 255, 255, 0.54);\n  --xr-font-color3: rgba(255, 255, 255, 0.38);\n  --xr-border-color: #1F1F1F;\n  --xr-disabled-color: #515151;\n  --xr-background-color: #111111;\n  --xr-background-color-row-even: #111111;\n  --xr-background-color-row-odd: #313131;\n}\n\n.xr-wrap {\n  display: block !important;\n  min-width: 300px;\n  max-width: 700px;\n}\n\n.xr-text-repr-fallback {\n  /* fallback to plain text repr when CSS is not injected (untrusted notebook) */\n  display: none;\n}\n\n.xr-header {\n  padding-top: 6px;\n  padding-bottom: 6px;\n  margin-bottom: 4px;\n  border-bottom: solid 1px var(--xr-border-color);\n}\n\n.xr-header > div,\n.xr-header > ul {\n  display: inline;\n  margin-top: 0;\n  margin-bottom: 0;\n}\n\n.xr-obj-type,\n.xr-array-name {\n  margin-left: 2px;\n  margin-right: 10px;\n}\n\n.xr-obj-type {\n  color: var(--xr-font-color2);\n}\n\n.xr-sections {\n  padding-left: 0 !important;\n  display: grid;\n  grid-template-columns: 150px auto auto 1fr 20px 20px;\n}\n\n.xr-section-item {\n  display: contents;\n}\n\n.xr-section-item input {\n  display: none;\n}\n\n.xr-section-item input + label {\n  color: var(--xr-disabled-color);\n}\n\n.xr-section-item input:enabled + label {\n  cursor: pointer;\n  color: var(--xr-font-color2);\n}\n\n.xr-section-item input:enabled + label:hover {\n  color: var(--xr-font-color0);\n}\n\n.xr-section-summary {\n  grid-column: 1;\n  color: var(--xr-font-color2);\n  font-weight: 500;\n}\n\n.xr-section-summary > span {\n  display: inline-block;\n  padding-left: 0.5em;\n}\n\n.xr-section-summary-in:disabled + label {\n  color: var(--xr-font-color2);\n}\n\n.xr-section-summary-in + label:before {\n  display: inline-block;\n  content: '►';\n  font-size: 11px;\n  width: 15px;\n  text-align: center;\n}\n\n.xr-section-summary-in:disabled + label:before {\n  color: var(--xr-disabled-color);\n}\n\n.xr-section-summary-in:checked + label:before {\n  content: '▼';\n}\n\n.xr-section-summary-in:checked + label > span {\n  display: none;\n}\n\n.xr-section-summary,\n.xr-section-inline-details {\n  padding-top: 4px;\n  padding-bottom: 4px;\n}\n\n.xr-section-inline-details {\n  grid-column: 2 / -1;\n}\n\n.xr-section-details {\n  display: none;\n  grid-column: 1 / -1;\n  margin-bottom: 5px;\n}\n\n.xr-section-summary-in:checked ~ .xr-section-details {\n  display: contents;\n}\n\n.xr-array-wrap {\n  grid-column: 1 / -1;\n  display: grid;\n  grid-template-columns: 20px auto;\n}\n\n.xr-array-wrap > label {\n  grid-column: 1;\n  vertical-align: top;\n}\n\n.xr-preview {\n  color: var(--xr-font-color3);\n}\n\n.xr-array-preview,\n.xr-array-data {\n  padding: 0 5px !important;\n  grid-column: 2;\n}\n\n.xr-array-data,\n.xr-array-in:checked ~ .xr-array-preview {\n  display: none;\n}\n\n.xr-array-in:checked ~ .xr-array-data,\n.xr-array-preview {\n  display: inline-block;\n}\n\n.xr-dim-list {\n  display: inline-block !important;\n  list-style: none;\n  padding: 0 !important;\n  margin: 0;\n}\n\n.xr-dim-list li {\n  display: inline-block;\n  padding: 0;\n  margin: 0;\n}\n\n.xr-dim-list:before {\n  content: '(';\n}\n\n.xr-dim-list:after {\n  content: ')';\n}\n\n.xr-dim-list li:not(:last-child):after {\n  content: ',';\n  padding-right: 5px;\n}\n\n.xr-has-index {\n  font-weight: bold;\n}\n\n.xr-var-list,\n.xr-var-item {\n  display: contents;\n}\n\n.xr-var-item > div,\n.xr-var-item label,\n.xr-var-item > .xr-var-name span {\n  background-color: var(--xr-background-color-row-even);\n  margin-bottom: 0;\n}\n\n.xr-var-item > .xr-var-name:hover span {\n  padding-right: 5px;\n}\n\n.xr-var-list > li:nth-child(odd) > div,\n.xr-var-list > li:nth-child(odd) > label,\n.xr-var-list > li:nth-child(odd) > .xr-var-name span {\n  background-color: var(--xr-background-color-row-odd);\n}\n\n.xr-var-name {\n  grid-column: 1;\n}\n\n.xr-var-dims {\n  grid-column: 2;\n}\n\n.xr-var-dtype {\n  grid-column: 3;\n  text-align: right;\n  color: var(--xr-font-color2);\n}\n\n.xr-var-preview {\n  grid-column: 4;\n}\n\n.xr-var-name,\n.xr-var-dims,\n.xr-var-dtype,\n.xr-preview,\n.xr-attrs dt {\n  white-space: nowrap;\n  overflow: hidden;\n  text-overflow: ellipsis;\n  padding-right: 10px;\n}\n\n.xr-var-name:hover,\n.xr-var-dims:hover,\n.xr-var-dtype:hover,\n.xr-attrs dt:hover {\n  overflow: visible;\n  width: auto;\n  z-index: 1;\n}\n\n.xr-var-attrs,\n.xr-var-data {\n  display: none;\n  background-color: var(--xr-background-color) !important;\n  padding-bottom: 5px !important;\n}\n\n.xr-var-attrs-in:checked ~ .xr-var-attrs,\n.xr-var-data-in:checked ~ .xr-var-data {\n  display: block;\n}\n\n.xr-var-data > table {\n  float: right;\n}\n\n.xr-var-name span,\n.xr-var-data,\n.xr-attrs {\n  padding-left: 25px !important;\n}\n\n.xr-attrs,\n.xr-var-attrs,\n.xr-var-data {\n  grid-column: 1 / -1;\n}\n\ndl.xr-attrs {\n  padding: 0;\n  margin: 0;\n  display: grid;\n  grid-template-columns: 125px auto;\n}\n\n.xr-attrs dt,\n.xr-attrs dd {\n  padding: 0;\n  margin: 0;\n  float: left;\n  padding-right: 10px;\n  width: auto;\n}\n\n.xr-attrs dt {\n  font-weight: normal;\n  grid-column: 1;\n}\n\n.xr-attrs dt:hover span {\n  display: inline-block;\n  background: var(--xr-background-color);\n  padding-right: 10px;\n}\n\n.xr-attrs dd {\n  grid-column: 2;\n  white-space: pre-wrap;\n  word-break: break-all;\n}\n\n.xr-icon-database,\n.xr-icon-file-text2 {\n  display: inline-block;\n  vertical-align: middle;\n  width: 1em;\n  height: 1.5em !important;\n  stroke-width: 0;\n  stroke: currentColor;\n  fill: currentColor;\n}\n</style><pre class='xr-text-repr-fallback'>&lt;xarray.DataArray (band: 1, y: 142, x: 594)&gt;\narray([[[     nan,      nan, ...,      nan,      nan],\n        [     nan,      nan, ...,      nan,      nan],\n        ...,\n        [73.24027, 73.24027, ...,      nan,      nan],\n        [73.24788, 73.24789, ...,      nan,      nan]]], dtype=float32)\nCoordinates:\n  * band         (band) int64 1\n  * x            (x) float64 135.9 135.9 135.9 136.0 ... 140.8 140.9 140.9 140.9\n  * y            (y) float64 36.65 36.64 36.63 36.62 ... 35.5 35.49 35.48 35.47\n    spatial_ref  int64 0\nAttributes:\n    scale_factor:  1.0\n    add_offset:    0.0\n    long_name:     population_count</pre><div class='xr-wrap' style='display:none'><div class='xr-header'><div class='xr-obj-type'>xarray.DataArray</div><div class='xr-array-name'></div><ul class='xr-dim-list'><li><span class='xr-has-index'>band</span>: 1</li><li><span class='xr-has-index'>y</span>: 142</li><li><span class='xr-has-index'>x</span>: 594</li></ul></div><ul class='xr-sections'><li class='xr-section-item'><div class='xr-array-wrap'><input id='section-f5fa8a54-0f06-44ba-8e69-c2daee0ae095' class='xr-array-in' type='checkbox' checked><label for='section-f5fa8a54-0f06-44ba-8e69-c2daee0ae095' title='Show/hide data repr'><svg class='icon xr-icon-database'><use xlink:href='#icon-database'></use></svg></label><div class='xr-array-preview xr-preview'><span>nan nan nan nan nan nan nan nan ... nan nan nan nan nan nan nan nan</span></div><div class='xr-array-data'><pre>array([[[     nan,      nan, ...,      nan,      nan],\n        [     nan,      nan, ...,      nan,      nan],\n        ...,\n        [73.24027, 73.24027, ...,      nan,      nan],\n        [73.24788, 73.24789, ...,      nan,      nan]]], dtype=float32)</pre></div></div></li><li class='xr-section-item'><input id='section-922d55a6-f439-4d0a-a5e0-cc223db061b0' class='xr-section-summary-in' type='checkbox'  checked><label for='section-922d55a6-f439-4d0a-a5e0-cc223db061b0' class='xr-section-summary' >Coordinates: <span>(4)</span></label><div class='xr-section-inline-details'></div><div class='xr-section-details'><ul class='xr-var-list'><li class='xr-var-item'><div class='xr-var-name'><span class='xr-has-index'>band</span></div><div class='xr-var-dims'>(band)</div><div class='xr-var-dtype'>int64</div><div class='xr-var-preview xr-preview'>1</div><input id='attrs-96c2ab03-8508-4373-9119-fab64b1ddde3' class='xr-var-attrs-in' type='checkbox' disabled><label for='attrs-96c2ab03-8508-4373-9119-fab64b1ddde3' title='Show/Hide attributes'><svg class='icon xr-icon-file-text2'><use xlink:href='#icon-file-text2'></use></svg></label><input id='data-3d7e3dda-9513-49ac-a6f3-b90f3b4e49a2' class='xr-var-data-in' type='checkbox'><label for='data-3d7e3dda-9513-49ac-a6f3-b90f3b4e49a2' title='Show/Hide data repr'><svg class='icon xr-icon-database'><use xlink:href='#icon-database'></use></svg></label><div class='xr-var-attrs'><dl class='xr-attrs'></dl></div><div class='xr-var-data'><pre>array([1])</pre></div></li><li class='xr-var-item'><div class='xr-var-name'><span class='xr-has-index'>x</span></div><div class='xr-var-dims'>(x)</div><div class='xr-var-dtype'>float64</div><div class='xr-var-preview xr-preview'>135.9 135.9 135.9 ... 140.9 140.9</div><input id='attrs-e53eabcb-4847-466a-9137-22bc68fd3cee' class='xr-var-attrs-in' type='checkbox' disabled><label for='attrs-e53eabcb-4847-466a-9137-22bc68fd3cee' title='Show/Hide attributes'><svg class='icon xr-icon-file-text2'><use xlink:href='#icon-file-text2'></use></svg></label><input id='data-92d9ede7-32e1-4f72-ad84-0f21be9abf4f' class='xr-var-data-in' type='checkbox'><label for='data-92d9ede7-32e1-4f72-ad84-0f21be9abf4f' title='Show/Hide data repr'><svg class='icon xr-icon-database'><use xlink:href='#icon-database'></use></svg></label><div class='xr-var-attrs'><dl class='xr-attrs'></dl></div><div class='xr-var-data'><pre>array([135.929167, 135.9375  , 135.945833, ..., 140.854167, 140.8625  ,\n       140.870833])</pre></div></li><li class='xr-var-item'><div class='xr-var-name'><span class='xr-has-index'>y</span></div><div class='xr-var-dims'>(y)</div><div class='xr-var-dtype'>float64</div><div class='xr-var-preview xr-preview'>36.65 36.64 36.63 ... 35.48 35.47</div><input id='attrs-587c983e-19fe-4f1c-bed4-489c0c0ec3a8' class='xr-var-attrs-in' type='checkbox' disabled><label for='attrs-587c983e-19fe-4f1c-bed4-489c0c0ec3a8' title='Show/Hide attributes'><svg class='icon xr-icon-file-text2'><use xlink:href='#icon-file-text2'></use></svg></label><input id='data-2d5e3e6a-b5db-41b1-8577-c6b82cd94e1d' class='xr-var-data-in' type='checkbox'><label for='data-2d5e3e6a-b5db-41b1-8577-c6b82cd94e1d' title='Show/Hide data repr'><svg class='icon xr-icon-database'><use xlink:href='#icon-database'></use></svg></label><div class='xr-var-attrs'><dl class='xr-attrs'></dl></div><div class='xr-var-data'><pre>array([36.645833, 36.6375  , 36.629167, 36.620833, 36.6125  , 36.604167,\n       36.595833, 36.5875  , 36.579167, 36.570833, 36.5625  , 36.554167,\n       36.545833, 36.5375  , 36.529167, 36.520833, 36.5125  , 36.504167,\n       36.495833, 36.4875  , 36.479167, 36.470833, 36.4625  , 36.454167,\n       36.445833, 36.4375  , 36.429167, 36.420833, 36.4125  , 36.404167,\n       36.395833, 36.3875  , 36.379167, 36.370833, 36.3625  , 36.354167,\n       36.345833, 36.3375  , 36.329167, 36.320833, 36.3125  , 36.304167,\n       36.295833, 36.2875  , 36.279167, 36.270833, 36.2625  , 36.254167,\n       36.245833, 36.2375  , 36.229167, 36.220833, 36.2125  , 36.204167,\n       36.195833, 36.1875  , 36.179167, 36.170833, 36.1625  , 36.154167,\n       36.145833, 36.1375  , 36.129167, 36.120833, 36.1125  , 36.104167,\n       36.095833, 36.0875  , 36.079167, 36.070833, 36.0625  , 36.054167,\n       36.045833, 36.0375  , 36.029167, 36.020833, 36.0125  , 36.004167,\n       35.995833, 35.9875  , 35.979167, 35.970833, 35.9625  , 35.954167,\n       35.945833, 35.9375  , 35.929167, 35.920833, 35.9125  , 35.904167,\n       35.895833, 35.8875  , 35.879167, 35.870833, 35.8625  , 35.854167,\n       35.845833, 35.8375  , 35.829167, 35.820833, 35.8125  , 35.804167,\n       35.795833, 35.7875  , 35.779167, 35.770833, 35.7625  , 35.754167,\n       35.745833, 35.7375  , 35.729167, 35.720833, 35.7125  , 35.704167,\n       35.695833, 35.6875  , 35.679167, 35.670833, 35.6625  , 35.654167,\n       35.645833, 35.6375  , 35.629167, 35.620833, 35.6125  , 35.604167,\n       35.595833, 35.5875  , 35.579167, 35.570833, 35.5625  , 35.554167,\n       35.545833, 35.5375  , 35.529167, 35.520833, 35.5125  , 35.504167,\n       35.495833, 35.4875  , 35.479167, 35.470833])</pre></div></li><li class='xr-var-item'><div class='xr-var-name'><span>spatial_ref</span></div><div class='xr-var-dims'>()</div><div class='xr-var-dtype'>int64</div><div class='xr-var-preview xr-preview'>0</div><input id='attrs-2b77d60e-e6af-482f-8355-c171370b2175' class='xr-var-attrs-in' type='checkbox' ><label for='attrs-2b77d60e-e6af-482f-8355-c171370b2175' title='Show/Hide attributes'><svg class='icon xr-icon-file-text2'><use xlink:href='#icon-file-text2'></use></svg></label><input id='data-9734b16a-57a6-4537-af70-969c48c7de77' class='xr-var-data-in' type='checkbox'><label for='data-9734b16a-57a6-4537-af70-969c48c7de77' title='Show/Hide data repr'><svg class='icon xr-icon-database'><use xlink:href='#icon-database'></use></svg></label><div class='xr-var-attrs'><dl class='xr-attrs'><dt><span>crs_wkt :</span></dt><dd>GEOGCS[&quot;WGS 84&quot;,DATUM[&quot;WGS_1984&quot;,SPHEROID[&quot;WGS 84&quot;,6378137,298.257223563,AUTHORITY[&quot;EPSG&quot;,&quot;7030&quot;]],AUTHORITY[&quot;EPSG&quot;,&quot;6326&quot;]],PRIMEM[&quot;Greenwich&quot;,0],UNIT[&quot;degree&quot;,0.0174532925199433,AUTHORITY[&quot;EPSG&quot;,&quot;9122&quot;]],AXIS[&quot;Latitude&quot;,NORTH],AXIS[&quot;Longitude&quot;,EAST],AUTHORITY[&quot;EPSG&quot;,&quot;4326&quot;]]</dd><dt><span>semi_major_axis :</span></dt><dd>6378137.0</dd><dt><span>semi_minor_axis :</span></dt><dd>6356752.314245179</dd><dt><span>inverse_flattening :</span></dt><dd>298.257223563</dd><dt><span>reference_ellipsoid_name :</span></dt><dd>WGS 84</dd><dt><span>longitude_of_prime_meridian :</span></dt><dd>0.0</dd><dt><span>prime_meridian_name :</span></dt><dd>Greenwich</dd><dt><span>geographic_crs_name :</span></dt><dd>WGS 84</dd><dt><span>grid_mapping_name :</span></dt><dd>latitude_longitude</dd><dt><span>spatial_ref :</span></dt><dd>GEOGCS[&quot;WGS 84&quot;,DATUM[&quot;WGS_1984&quot;,SPHEROID[&quot;WGS 84&quot;,6378137,298.257223563,AUTHORITY[&quot;EPSG&quot;,&quot;7030&quot;]],AUTHORITY[&quot;EPSG&quot;,&quot;6326&quot;]],PRIMEM[&quot;Greenwich&quot;,0],UNIT[&quot;degree&quot;,0.0174532925199433,AUTHORITY[&quot;EPSG&quot;,&quot;9122&quot;]],AXIS[&quot;Latitude&quot;,NORTH],AXIS[&quot;Longitude&quot;,EAST],AUTHORITY[&quot;EPSG&quot;,&quot;4326&quot;]]</dd><dt><span>GeoTransform :</span></dt><dd>135.92499999999984 0.00833333333333333 0.0 36.649999999999935 0.0 -0.00833333333333333</dd></dl></div><div class='xr-var-data'><pre>array(0)</pre></div></li></ul></div></li><li class='xr-section-item'><input id='section-9ec8f7ee-63b0-449d-aa74-a9b48e0c0006' class='xr-section-summary-in' type='checkbox'  checked><label for='section-9ec8f7ee-63b0-449d-aa74-a9b48e0c0006' class='xr-section-summary' >Attributes: <span>(3)</span></label><div class='xr-section-inline-details'></div><div class='xr-section-details'><dl class='xr-attrs'><dt><span>scale_factor :</span></dt><dd>1.0</dd><dt><span>add_offset :</span></dt><dd>0.0</dd><dt><span>long_name :</span></dt><dd>population_count</dd></dl></div></li></ul></div></div>"
     },
     "execution_count": 20,
     "metadata": {},
     "output_type": "execute_result"
    }
   ],
   "source": [
    "census_2015_r0"
   ],
   "metadata": {
    "collapsed": false,
    "pycharm": {
     "name": "#%%\n"
    }
   }
  },
  {
   "cell_type": "code",
   "execution_count": 21,
   "outputs": [
    {
     "data": {
      "text/plain": "<xarray.DataArray (band: 1, y: 142, x: 594)>\narray([[[0.04382 , 0.032853, ..., 0.094123, 0.09376 ],\n        [0.020604, 0.024438, ..., 0.089975, 0.118875],\n        ...,\n        [0.197199, 0.159668, ..., 0.077973, 0.056789],\n        [0.148609, 0.154095, ..., 0.0418  , 0.036489]]], dtype=float32)\nCoordinates:\n  * band         (band) int64 1\n  * x            (x) float64 135.9 135.9 135.9 136.0 ... 140.8 140.9 140.9 140.9\n  * y            (y) float64 36.65 36.64 36.63 36.62 ... 35.5 35.49 35.48 35.47\n    spatial_ref  int64 0\nAttributes:\n    scale_factor:  1.0\n    add_offset:    0.0\n    long_name:     avg_rad",
      "text/html": "<div><svg style=\"position: absolute; width: 0; height: 0; overflow: hidden\">\n<defs>\n<symbol id=\"icon-database\" viewBox=\"0 0 32 32\">\n<path d=\"M16 0c-8.837 0-16 2.239-16 5v4c0 2.761 7.163 5 16 5s16-2.239 16-5v-4c0-2.761-7.163-5-16-5z\"></path>\n<path d=\"M16 17c-8.837 0-16-2.239-16-5v6c0 2.761 7.163 5 16 5s16-2.239 16-5v-6c0 2.761-7.163 5-16 5z\"></path>\n<path d=\"M16 26c-8.837 0-16-2.239-16-5v6c0 2.761 7.163 5 16 5s16-2.239 16-5v-6c0 2.761-7.163 5-16 5z\"></path>\n</symbol>\n<symbol id=\"icon-file-text2\" viewBox=\"0 0 32 32\">\n<path d=\"M28.681 7.159c-0.694-0.947-1.662-2.053-2.724-3.116s-2.169-2.030-3.116-2.724c-1.612-1.182-2.393-1.319-2.841-1.319h-15.5c-1.378 0-2.5 1.121-2.5 2.5v27c0 1.378 1.122 2.5 2.5 2.5h23c1.378 0 2.5-1.122 2.5-2.5v-19.5c0-0.448-0.137-1.23-1.319-2.841zM24.543 5.457c0.959 0.959 1.712 1.825 2.268 2.543h-4.811v-4.811c0.718 0.556 1.584 1.309 2.543 2.268zM28 29.5c0 0.271-0.229 0.5-0.5 0.5h-23c-0.271 0-0.5-0.229-0.5-0.5v-27c0-0.271 0.229-0.5 0.5-0.5 0 0 15.499-0 15.5 0v7c0 0.552 0.448 1 1 1h7v19.5z\"></path>\n<path d=\"M23 26h-14c-0.552 0-1-0.448-1-1s0.448-1 1-1h14c0.552 0 1 0.448 1 1s-0.448 1-1 1z\"></path>\n<path d=\"M23 22h-14c-0.552 0-1-0.448-1-1s0.448-1 1-1h14c0.552 0 1 0.448 1 1s-0.448 1-1 1z\"></path>\n<path d=\"M23 18h-14c-0.552 0-1-0.448-1-1s0.448-1 1-1h14c0.552 0 1 0.448 1 1s-0.448 1-1 1z\"></path>\n</symbol>\n</defs>\n</svg>\n<style>/* CSS stylesheet for displaying xarray objects in jupyterlab.\n *\n */\n\n:root {\n  --xr-font-color0: var(--jp-content-font-color0, rgba(0, 0, 0, 1));\n  --xr-font-color2: var(--jp-content-font-color2, rgba(0, 0, 0, 0.54));\n  --xr-font-color3: var(--jp-content-font-color3, rgba(0, 0, 0, 0.38));\n  --xr-border-color: var(--jp-border-color2, #e0e0e0);\n  --xr-disabled-color: var(--jp-layout-color3, #bdbdbd);\n  --xr-background-color: var(--jp-layout-color0, white);\n  --xr-background-color-row-even: var(--jp-layout-color1, white);\n  --xr-background-color-row-odd: var(--jp-layout-color2, #eeeeee);\n}\n\nhtml[theme=dark],\nbody[data-theme=dark],\nbody.vscode-dark {\n  --xr-font-color0: rgba(255, 255, 255, 1);\n  --xr-font-color2: rgba(255, 255, 255, 0.54);\n  --xr-font-color3: rgba(255, 255, 255, 0.38);\n  --xr-border-color: #1F1F1F;\n  --xr-disabled-color: #515151;\n  --xr-background-color: #111111;\n  --xr-background-color-row-even: #111111;\n  --xr-background-color-row-odd: #313131;\n}\n\n.xr-wrap {\n  display: block !important;\n  min-width: 300px;\n  max-width: 700px;\n}\n\n.xr-text-repr-fallback {\n  /* fallback to plain text repr when CSS is not injected (untrusted notebook) */\n  display: none;\n}\n\n.xr-header {\n  padding-top: 6px;\n  padding-bottom: 6px;\n  margin-bottom: 4px;\n  border-bottom: solid 1px var(--xr-border-color);\n}\n\n.xr-header > div,\n.xr-header > ul {\n  display: inline;\n  margin-top: 0;\n  margin-bottom: 0;\n}\n\n.xr-obj-type,\n.xr-array-name {\n  margin-left: 2px;\n  margin-right: 10px;\n}\n\n.xr-obj-type {\n  color: var(--xr-font-color2);\n}\n\n.xr-sections {\n  padding-left: 0 !important;\n  display: grid;\n  grid-template-columns: 150px auto auto 1fr 20px 20px;\n}\n\n.xr-section-item {\n  display: contents;\n}\n\n.xr-section-item input {\n  display: none;\n}\n\n.xr-section-item input + label {\n  color: var(--xr-disabled-color);\n}\n\n.xr-section-item input:enabled + label {\n  cursor: pointer;\n  color: var(--xr-font-color2);\n}\n\n.xr-section-item input:enabled + label:hover {\n  color: var(--xr-font-color0);\n}\n\n.xr-section-summary {\n  grid-column: 1;\n  color: var(--xr-font-color2);\n  font-weight: 500;\n}\n\n.xr-section-summary > span {\n  display: inline-block;\n  padding-left: 0.5em;\n}\n\n.xr-section-summary-in:disabled + label {\n  color: var(--xr-font-color2);\n}\n\n.xr-section-summary-in + label:before {\n  display: inline-block;\n  content: '►';\n  font-size: 11px;\n  width: 15px;\n  text-align: center;\n}\n\n.xr-section-summary-in:disabled + label:before {\n  color: var(--xr-disabled-color);\n}\n\n.xr-section-summary-in:checked + label:before {\n  content: '▼';\n}\n\n.xr-section-summary-in:checked + label > span {\n  display: none;\n}\n\n.xr-section-summary,\n.xr-section-inline-details {\n  padding-top: 4px;\n  padding-bottom: 4px;\n}\n\n.xr-section-inline-details {\n  grid-column: 2 / -1;\n}\n\n.xr-section-details {\n  display: none;\n  grid-column: 1 / -1;\n  margin-bottom: 5px;\n}\n\n.xr-section-summary-in:checked ~ .xr-section-details {\n  display: contents;\n}\n\n.xr-array-wrap {\n  grid-column: 1 / -1;\n  display: grid;\n  grid-template-columns: 20px auto;\n}\n\n.xr-array-wrap > label {\n  grid-column: 1;\n  vertical-align: top;\n}\n\n.xr-preview {\n  color: var(--xr-font-color3);\n}\n\n.xr-array-preview,\n.xr-array-data {\n  padding: 0 5px !important;\n  grid-column: 2;\n}\n\n.xr-array-data,\n.xr-array-in:checked ~ .xr-array-preview {\n  display: none;\n}\n\n.xr-array-in:checked ~ .xr-array-data,\n.xr-array-preview {\n  display: inline-block;\n}\n\n.xr-dim-list {\n  display: inline-block !important;\n  list-style: none;\n  padding: 0 !important;\n  margin: 0;\n}\n\n.xr-dim-list li {\n  display: inline-block;\n  padding: 0;\n  margin: 0;\n}\n\n.xr-dim-list:before {\n  content: '(';\n}\n\n.xr-dim-list:after {\n  content: ')';\n}\n\n.xr-dim-list li:not(:last-child):after {\n  content: ',';\n  padding-right: 5px;\n}\n\n.xr-has-index {\n  font-weight: bold;\n}\n\n.xr-var-list,\n.xr-var-item {\n  display: contents;\n}\n\n.xr-var-item > div,\n.xr-var-item label,\n.xr-var-item > .xr-var-name span {\n  background-color: var(--xr-background-color-row-even);\n  margin-bottom: 0;\n}\n\n.xr-var-item > .xr-var-name:hover span {\n  padding-right: 5px;\n}\n\n.xr-var-list > li:nth-child(odd) > div,\n.xr-var-list > li:nth-child(odd) > label,\n.xr-var-list > li:nth-child(odd) > .xr-var-name span {\n  background-color: var(--xr-background-color-row-odd);\n}\n\n.xr-var-name {\n  grid-column: 1;\n}\n\n.xr-var-dims {\n  grid-column: 2;\n}\n\n.xr-var-dtype {\n  grid-column: 3;\n  text-align: right;\n  color: var(--xr-font-color2);\n}\n\n.xr-var-preview {\n  grid-column: 4;\n}\n\n.xr-var-name,\n.xr-var-dims,\n.xr-var-dtype,\n.xr-preview,\n.xr-attrs dt {\n  white-space: nowrap;\n  overflow: hidden;\n  text-overflow: ellipsis;\n  padding-right: 10px;\n}\n\n.xr-var-name:hover,\n.xr-var-dims:hover,\n.xr-var-dtype:hover,\n.xr-attrs dt:hover {\n  overflow: visible;\n  width: auto;\n  z-index: 1;\n}\n\n.xr-var-attrs,\n.xr-var-data {\n  display: none;\n  background-color: var(--xr-background-color) !important;\n  padding-bottom: 5px !important;\n}\n\n.xr-var-attrs-in:checked ~ .xr-var-attrs,\n.xr-var-data-in:checked ~ .xr-var-data {\n  display: block;\n}\n\n.xr-var-data > table {\n  float: right;\n}\n\n.xr-var-name span,\n.xr-var-data,\n.xr-attrs {\n  padding-left: 25px !important;\n}\n\n.xr-attrs,\n.xr-var-attrs,\n.xr-var-data {\n  grid-column: 1 / -1;\n}\n\ndl.xr-attrs {\n  padding: 0;\n  margin: 0;\n  display: grid;\n  grid-template-columns: 125px auto;\n}\n\n.xr-attrs dt,\n.xr-attrs dd {\n  padding: 0;\n  margin: 0;\n  float: left;\n  padding-right: 10px;\n  width: auto;\n}\n\n.xr-attrs dt {\n  font-weight: normal;\n  grid-column: 1;\n}\n\n.xr-attrs dt:hover span {\n  display: inline-block;\n  background: var(--xr-background-color);\n  padding-right: 10px;\n}\n\n.xr-attrs dd {\n  grid-column: 2;\n  white-space: pre-wrap;\n  word-break: break-all;\n}\n\n.xr-icon-database,\n.xr-icon-file-text2 {\n  display: inline-block;\n  vertical-align: middle;\n  width: 1em;\n  height: 1.5em !important;\n  stroke-width: 0;\n  stroke: currentColor;\n  fill: currentColor;\n}\n</style><pre class='xr-text-repr-fallback'>&lt;xarray.DataArray (band: 1, y: 142, x: 594)&gt;\narray([[[0.04382 , 0.032853, ..., 0.094123, 0.09376 ],\n        [0.020604, 0.024438, ..., 0.089975, 0.118875],\n        ...,\n        [0.197199, 0.159668, ..., 0.077973, 0.056789],\n        [0.148609, 0.154095, ..., 0.0418  , 0.036489]]], dtype=float32)\nCoordinates:\n  * band         (band) int64 1\n  * x            (x) float64 135.9 135.9 135.9 136.0 ... 140.8 140.9 140.9 140.9\n  * y            (y) float64 36.65 36.64 36.63 36.62 ... 35.5 35.49 35.48 35.47\n    spatial_ref  int64 0\nAttributes:\n    scale_factor:  1.0\n    add_offset:    0.0\n    long_name:     avg_rad</pre><div class='xr-wrap' style='display:none'><div class='xr-header'><div class='xr-obj-type'>xarray.DataArray</div><div class='xr-array-name'></div><ul class='xr-dim-list'><li><span class='xr-has-index'>band</span>: 1</li><li><span class='xr-has-index'>y</span>: 142</li><li><span class='xr-has-index'>x</span>: 594</li></ul></div><ul class='xr-sections'><li class='xr-section-item'><div class='xr-array-wrap'><input id='section-6574cf63-291e-4131-b54f-42d2a72e8659' class='xr-array-in' type='checkbox' checked><label for='section-6574cf63-291e-4131-b54f-42d2a72e8659' title='Show/hide data repr'><svg class='icon xr-icon-database'><use xlink:href='#icon-database'></use></svg></label><div class='xr-array-preview xr-preview'><span>0.04382 0.03285 0.04135 0.02222 ... 0.06852 0.07418 0.0418 0.03649</span></div><div class='xr-array-data'><pre>array([[[0.04382 , 0.032853, ..., 0.094123, 0.09376 ],\n        [0.020604, 0.024438, ..., 0.089975, 0.118875],\n        ...,\n        [0.197199, 0.159668, ..., 0.077973, 0.056789],\n        [0.148609, 0.154095, ..., 0.0418  , 0.036489]]], dtype=float32)</pre></div></div></li><li class='xr-section-item'><input id='section-3587d72f-4710-40d1-a8cd-3a07bc5e6e87' class='xr-section-summary-in' type='checkbox'  checked><label for='section-3587d72f-4710-40d1-a8cd-3a07bc5e6e87' class='xr-section-summary' >Coordinates: <span>(4)</span></label><div class='xr-section-inline-details'></div><div class='xr-section-details'><ul class='xr-var-list'><li class='xr-var-item'><div class='xr-var-name'><span class='xr-has-index'>band</span></div><div class='xr-var-dims'>(band)</div><div class='xr-var-dtype'>int64</div><div class='xr-var-preview xr-preview'>1</div><input id='attrs-0ae413a3-b05c-4d82-83b6-b0fc530ed5f6' class='xr-var-attrs-in' type='checkbox' disabled><label for='attrs-0ae413a3-b05c-4d82-83b6-b0fc530ed5f6' title='Show/Hide attributes'><svg class='icon xr-icon-file-text2'><use xlink:href='#icon-file-text2'></use></svg></label><input id='data-b18e7279-8649-44e9-a484-af8ca3739ae3' class='xr-var-data-in' type='checkbox'><label for='data-b18e7279-8649-44e9-a484-af8ca3739ae3' title='Show/Hide data repr'><svg class='icon xr-icon-database'><use xlink:href='#icon-database'></use></svg></label><div class='xr-var-attrs'><dl class='xr-attrs'></dl></div><div class='xr-var-data'><pre>array([1])</pre></div></li><li class='xr-var-item'><div class='xr-var-name'><span class='xr-has-index'>x</span></div><div class='xr-var-dims'>(x)</div><div class='xr-var-dtype'>float64</div><div class='xr-var-preview xr-preview'>135.9 135.9 135.9 ... 140.9 140.9</div><input id='attrs-b210cedb-4651-4c60-a5a5-8a00b1d18320' class='xr-var-attrs-in' type='checkbox' disabled><label for='attrs-b210cedb-4651-4c60-a5a5-8a00b1d18320' title='Show/Hide attributes'><svg class='icon xr-icon-file-text2'><use xlink:href='#icon-file-text2'></use></svg></label><input id='data-644f24d7-b71c-48e9-9d53-9ce0bc39f472' class='xr-var-data-in' type='checkbox'><label for='data-644f24d7-b71c-48e9-9d53-9ce0bc39f472' title='Show/Hide data repr'><svg class='icon xr-icon-database'><use xlink:href='#icon-database'></use></svg></label><div class='xr-var-attrs'><dl class='xr-attrs'></dl></div><div class='xr-var-data'><pre>array([135.929167, 135.9375  , 135.945833, ..., 140.854167, 140.8625  ,\n       140.870833])</pre></div></li><li class='xr-var-item'><div class='xr-var-name'><span class='xr-has-index'>y</span></div><div class='xr-var-dims'>(y)</div><div class='xr-var-dtype'>float64</div><div class='xr-var-preview xr-preview'>36.65 36.64 36.63 ... 35.48 35.47</div><input id='attrs-93868faf-de1d-4df3-893e-6023603063b2' class='xr-var-attrs-in' type='checkbox' disabled><label for='attrs-93868faf-de1d-4df3-893e-6023603063b2' title='Show/Hide attributes'><svg class='icon xr-icon-file-text2'><use xlink:href='#icon-file-text2'></use></svg></label><input id='data-3c5cdc36-15ea-4cb6-9c42-1d96f1e9acd8' class='xr-var-data-in' type='checkbox'><label for='data-3c5cdc36-15ea-4cb6-9c42-1d96f1e9acd8' title='Show/Hide data repr'><svg class='icon xr-icon-database'><use xlink:href='#icon-database'></use></svg></label><div class='xr-var-attrs'><dl class='xr-attrs'></dl></div><div class='xr-var-data'><pre>array([36.645833, 36.6375  , 36.629167, 36.620833, 36.6125  , 36.604167,\n       36.595833, 36.5875  , 36.579167, 36.570833, 36.5625  , 36.554167,\n       36.545833, 36.5375  , 36.529167, 36.520833, 36.5125  , 36.504167,\n       36.495833, 36.4875  , 36.479167, 36.470833, 36.4625  , 36.454167,\n       36.445833, 36.4375  , 36.429167, 36.420833, 36.4125  , 36.404167,\n       36.395833, 36.3875  , 36.379167, 36.370833, 36.3625  , 36.354167,\n       36.345833, 36.3375  , 36.329167, 36.320833, 36.3125  , 36.304167,\n       36.295833, 36.2875  , 36.279167, 36.270833, 36.2625  , 36.254167,\n       36.245833, 36.2375  , 36.229167, 36.220833, 36.2125  , 36.204167,\n       36.195833, 36.1875  , 36.179167, 36.170833, 36.1625  , 36.154167,\n       36.145833, 36.1375  , 36.129167, 36.120833, 36.1125  , 36.104167,\n       36.095833, 36.0875  , 36.079167, 36.070833, 36.0625  , 36.054167,\n       36.045833, 36.0375  , 36.029167, 36.020833, 36.0125  , 36.004167,\n       35.995833, 35.9875  , 35.979167, 35.970833, 35.9625  , 35.954167,\n       35.945833, 35.9375  , 35.929167, 35.920833, 35.9125  , 35.904167,\n       35.895833, 35.8875  , 35.879167, 35.870833, 35.8625  , 35.854167,\n       35.845833, 35.8375  , 35.829167, 35.820833, 35.8125  , 35.804167,\n       35.795833, 35.7875  , 35.779167, 35.770833, 35.7625  , 35.754167,\n       35.745833, 35.7375  , 35.729167, 35.720833, 35.7125  , 35.704167,\n       35.695833, 35.6875  , 35.679167, 35.670833, 35.6625  , 35.654167,\n       35.645833, 35.6375  , 35.629167, 35.620833, 35.6125  , 35.604167,\n       35.595833, 35.5875  , 35.579167, 35.570833, 35.5625  , 35.554167,\n       35.545833, 35.5375  , 35.529167, 35.520833, 35.5125  , 35.504167,\n       35.495833, 35.4875  , 35.479167, 35.470833])</pre></div></li><li class='xr-var-item'><div class='xr-var-name'><span>spatial_ref</span></div><div class='xr-var-dims'>()</div><div class='xr-var-dtype'>int64</div><div class='xr-var-preview xr-preview'>0</div><input id='attrs-2ddf5894-7f46-426a-96d2-9c7a29c4f19e' class='xr-var-attrs-in' type='checkbox' ><label for='attrs-2ddf5894-7f46-426a-96d2-9c7a29c4f19e' title='Show/Hide attributes'><svg class='icon xr-icon-file-text2'><use xlink:href='#icon-file-text2'></use></svg></label><input id='data-0360756d-47f5-4090-947a-e54aa28d0594' class='xr-var-data-in' type='checkbox'><label for='data-0360756d-47f5-4090-947a-e54aa28d0594' title='Show/Hide data repr'><svg class='icon xr-icon-database'><use xlink:href='#icon-database'></use></svg></label><div class='xr-var-attrs'><dl class='xr-attrs'><dt><span>crs_wkt :</span></dt><dd>GEOGCS[&quot;WGS 84&quot;,DATUM[&quot;WGS_1984&quot;,SPHEROID[&quot;WGS 84&quot;,6378137,298.257223563,AUTHORITY[&quot;EPSG&quot;,&quot;7030&quot;]],AUTHORITY[&quot;EPSG&quot;,&quot;6326&quot;]],PRIMEM[&quot;Greenwich&quot;,0],UNIT[&quot;degree&quot;,0.0174532925199433,AUTHORITY[&quot;EPSG&quot;,&quot;9122&quot;]],AXIS[&quot;Latitude&quot;,NORTH],AXIS[&quot;Longitude&quot;,EAST],AUTHORITY[&quot;EPSG&quot;,&quot;4326&quot;]]</dd><dt><span>semi_major_axis :</span></dt><dd>6378137.0</dd><dt><span>semi_minor_axis :</span></dt><dd>6356752.314245179</dd><dt><span>inverse_flattening :</span></dt><dd>298.257223563</dd><dt><span>reference_ellipsoid_name :</span></dt><dd>WGS 84</dd><dt><span>longitude_of_prime_meridian :</span></dt><dd>0.0</dd><dt><span>prime_meridian_name :</span></dt><dd>Greenwich</dd><dt><span>geographic_crs_name :</span></dt><dd>WGS 84</dd><dt><span>grid_mapping_name :</span></dt><dd>latitude_longitude</dd><dt><span>spatial_ref :</span></dt><dd>GEOGCS[&quot;WGS 84&quot;,DATUM[&quot;WGS_1984&quot;,SPHEROID[&quot;WGS 84&quot;,6378137,298.257223563,AUTHORITY[&quot;EPSG&quot;,&quot;7030&quot;]],AUTHORITY[&quot;EPSG&quot;,&quot;6326&quot;]],PRIMEM[&quot;Greenwich&quot;,0],UNIT[&quot;degree&quot;,0.0174532925199433,AUTHORITY[&quot;EPSG&quot;,&quot;9122&quot;]],AXIS[&quot;Latitude&quot;,NORTH],AXIS[&quot;Longitude&quot;,EAST],AUTHORITY[&quot;EPSG&quot;,&quot;4326&quot;]]</dd><dt><span>GeoTransform :</span></dt><dd>135.92499999999984 0.00833333333333333 0.0 36.649999999999935 0.0 -0.00833333333333333</dd></dl></div><div class='xr-var-data'><pre>array(0)</pre></div></li></ul></div></li><li class='xr-section-item'><input id='section-4aad3bfb-8627-4995-9a3f-8a5e4812d788' class='xr-section-summary-in' type='checkbox'  checked><label for='section-4aad3bfb-8627-4995-9a3f-8a5e4812d788' class='xr-section-summary' >Attributes: <span>(3)</span></label><div class='xr-section-inline-details'></div><div class='xr-section-details'><dl class='xr-attrs'><dt><span>scale_factor :</span></dt><dd>1.0</dd><dt><span>add_offset :</span></dt><dd>0.0</dd><dt><span>long_name :</span></dt><dd>avg_rad</dd></dl></div></li></ul></div></div>"
     },
     "execution_count": 21,
     "metadata": {},
     "output_type": "execute_result"
    }
   ],
   "source": [
    "lights_2015_r0"
   ],
   "metadata": {
    "collapsed": false,
    "pycharm": {
     "name": "#%%\n"
    }
   }
  },
  {
   "cell_type": "code",
   "execution_count": 22,
   "outputs": [
    {
     "data": {
      "text/plain": "<xarray.DataArray 'x' (x: 594)>\narray([135.929167, 135.9375  , 135.945833, ..., 140.854167, 140.8625  ,\n       140.870833])\nCoordinates:\n  * x            (x) float64 135.9 135.9 135.9 136.0 ... 140.8 140.9 140.9 140.9\n    spatial_ref  int64 0",
      "text/html": "<div><svg style=\"position: absolute; width: 0; height: 0; overflow: hidden\">\n<defs>\n<symbol id=\"icon-database\" viewBox=\"0 0 32 32\">\n<path d=\"M16 0c-8.837 0-16 2.239-16 5v4c0 2.761 7.163 5 16 5s16-2.239 16-5v-4c0-2.761-7.163-5-16-5z\"></path>\n<path d=\"M16 17c-8.837 0-16-2.239-16-5v6c0 2.761 7.163 5 16 5s16-2.239 16-5v-6c0 2.761-7.163 5-16 5z\"></path>\n<path d=\"M16 26c-8.837 0-16-2.239-16-5v6c0 2.761 7.163 5 16 5s16-2.239 16-5v-6c0 2.761-7.163 5-16 5z\"></path>\n</symbol>\n<symbol id=\"icon-file-text2\" viewBox=\"0 0 32 32\">\n<path d=\"M28.681 7.159c-0.694-0.947-1.662-2.053-2.724-3.116s-2.169-2.030-3.116-2.724c-1.612-1.182-2.393-1.319-2.841-1.319h-15.5c-1.378 0-2.5 1.121-2.5 2.5v27c0 1.378 1.122 2.5 2.5 2.5h23c1.378 0 2.5-1.122 2.5-2.5v-19.5c0-0.448-0.137-1.23-1.319-2.841zM24.543 5.457c0.959 0.959 1.712 1.825 2.268 2.543h-4.811v-4.811c0.718 0.556 1.584 1.309 2.543 2.268zM28 29.5c0 0.271-0.229 0.5-0.5 0.5h-23c-0.271 0-0.5-0.229-0.5-0.5v-27c0-0.271 0.229-0.5 0.5-0.5 0 0 15.499-0 15.5 0v7c0 0.552 0.448 1 1 1h7v19.5z\"></path>\n<path d=\"M23 26h-14c-0.552 0-1-0.448-1-1s0.448-1 1-1h14c0.552 0 1 0.448 1 1s-0.448 1-1 1z\"></path>\n<path d=\"M23 22h-14c-0.552 0-1-0.448-1-1s0.448-1 1-1h14c0.552 0 1 0.448 1 1s-0.448 1-1 1z\"></path>\n<path d=\"M23 18h-14c-0.552 0-1-0.448-1-1s0.448-1 1-1h14c0.552 0 1 0.448 1 1s-0.448 1-1 1z\"></path>\n</symbol>\n</defs>\n</svg>\n<style>/* CSS stylesheet for displaying xarray objects in jupyterlab.\n *\n */\n\n:root {\n  --xr-font-color0: var(--jp-content-font-color0, rgba(0, 0, 0, 1));\n  --xr-font-color2: var(--jp-content-font-color2, rgba(0, 0, 0, 0.54));\n  --xr-font-color3: var(--jp-content-font-color3, rgba(0, 0, 0, 0.38));\n  --xr-border-color: var(--jp-border-color2, #e0e0e0);\n  --xr-disabled-color: var(--jp-layout-color3, #bdbdbd);\n  --xr-background-color: var(--jp-layout-color0, white);\n  --xr-background-color-row-even: var(--jp-layout-color1, white);\n  --xr-background-color-row-odd: var(--jp-layout-color2, #eeeeee);\n}\n\nhtml[theme=dark],\nbody[data-theme=dark],\nbody.vscode-dark {\n  --xr-font-color0: rgba(255, 255, 255, 1);\n  --xr-font-color2: rgba(255, 255, 255, 0.54);\n  --xr-font-color3: rgba(255, 255, 255, 0.38);\n  --xr-border-color: #1F1F1F;\n  --xr-disabled-color: #515151;\n  --xr-background-color: #111111;\n  --xr-background-color-row-even: #111111;\n  --xr-background-color-row-odd: #313131;\n}\n\n.xr-wrap {\n  display: block !important;\n  min-width: 300px;\n  max-width: 700px;\n}\n\n.xr-text-repr-fallback {\n  /* fallback to plain text repr when CSS is not injected (untrusted notebook) */\n  display: none;\n}\n\n.xr-header {\n  padding-top: 6px;\n  padding-bottom: 6px;\n  margin-bottom: 4px;\n  border-bottom: solid 1px var(--xr-border-color);\n}\n\n.xr-header > div,\n.xr-header > ul {\n  display: inline;\n  margin-top: 0;\n  margin-bottom: 0;\n}\n\n.xr-obj-type,\n.xr-array-name {\n  margin-left: 2px;\n  margin-right: 10px;\n}\n\n.xr-obj-type {\n  color: var(--xr-font-color2);\n}\n\n.xr-sections {\n  padding-left: 0 !important;\n  display: grid;\n  grid-template-columns: 150px auto auto 1fr 20px 20px;\n}\n\n.xr-section-item {\n  display: contents;\n}\n\n.xr-section-item input {\n  display: none;\n}\n\n.xr-section-item input + label {\n  color: var(--xr-disabled-color);\n}\n\n.xr-section-item input:enabled + label {\n  cursor: pointer;\n  color: var(--xr-font-color2);\n}\n\n.xr-section-item input:enabled + label:hover {\n  color: var(--xr-font-color0);\n}\n\n.xr-section-summary {\n  grid-column: 1;\n  color: var(--xr-font-color2);\n  font-weight: 500;\n}\n\n.xr-section-summary > span {\n  display: inline-block;\n  padding-left: 0.5em;\n}\n\n.xr-section-summary-in:disabled + label {\n  color: var(--xr-font-color2);\n}\n\n.xr-section-summary-in + label:before {\n  display: inline-block;\n  content: '►';\n  font-size: 11px;\n  width: 15px;\n  text-align: center;\n}\n\n.xr-section-summary-in:disabled + label:before {\n  color: var(--xr-disabled-color);\n}\n\n.xr-section-summary-in:checked + label:before {\n  content: '▼';\n}\n\n.xr-section-summary-in:checked + label > span {\n  display: none;\n}\n\n.xr-section-summary,\n.xr-section-inline-details {\n  padding-top: 4px;\n  padding-bottom: 4px;\n}\n\n.xr-section-inline-details {\n  grid-column: 2 / -1;\n}\n\n.xr-section-details {\n  display: none;\n  grid-column: 1 / -1;\n  margin-bottom: 5px;\n}\n\n.xr-section-summary-in:checked ~ .xr-section-details {\n  display: contents;\n}\n\n.xr-array-wrap {\n  grid-column: 1 / -1;\n  display: grid;\n  grid-template-columns: 20px auto;\n}\n\n.xr-array-wrap > label {\n  grid-column: 1;\n  vertical-align: top;\n}\n\n.xr-preview {\n  color: var(--xr-font-color3);\n}\n\n.xr-array-preview,\n.xr-array-data {\n  padding: 0 5px !important;\n  grid-column: 2;\n}\n\n.xr-array-data,\n.xr-array-in:checked ~ .xr-array-preview {\n  display: none;\n}\n\n.xr-array-in:checked ~ .xr-array-data,\n.xr-array-preview {\n  display: inline-block;\n}\n\n.xr-dim-list {\n  display: inline-block !important;\n  list-style: none;\n  padding: 0 !important;\n  margin: 0;\n}\n\n.xr-dim-list li {\n  display: inline-block;\n  padding: 0;\n  margin: 0;\n}\n\n.xr-dim-list:before {\n  content: '(';\n}\n\n.xr-dim-list:after {\n  content: ')';\n}\n\n.xr-dim-list li:not(:last-child):after {\n  content: ',';\n  padding-right: 5px;\n}\n\n.xr-has-index {\n  font-weight: bold;\n}\n\n.xr-var-list,\n.xr-var-item {\n  display: contents;\n}\n\n.xr-var-item > div,\n.xr-var-item label,\n.xr-var-item > .xr-var-name span {\n  background-color: var(--xr-background-color-row-even);\n  margin-bottom: 0;\n}\n\n.xr-var-item > .xr-var-name:hover span {\n  padding-right: 5px;\n}\n\n.xr-var-list > li:nth-child(odd) > div,\n.xr-var-list > li:nth-child(odd) > label,\n.xr-var-list > li:nth-child(odd) > .xr-var-name span {\n  background-color: var(--xr-background-color-row-odd);\n}\n\n.xr-var-name {\n  grid-column: 1;\n}\n\n.xr-var-dims {\n  grid-column: 2;\n}\n\n.xr-var-dtype {\n  grid-column: 3;\n  text-align: right;\n  color: var(--xr-font-color2);\n}\n\n.xr-var-preview {\n  grid-column: 4;\n}\n\n.xr-var-name,\n.xr-var-dims,\n.xr-var-dtype,\n.xr-preview,\n.xr-attrs dt {\n  white-space: nowrap;\n  overflow: hidden;\n  text-overflow: ellipsis;\n  padding-right: 10px;\n}\n\n.xr-var-name:hover,\n.xr-var-dims:hover,\n.xr-var-dtype:hover,\n.xr-attrs dt:hover {\n  overflow: visible;\n  width: auto;\n  z-index: 1;\n}\n\n.xr-var-attrs,\n.xr-var-data {\n  display: none;\n  background-color: var(--xr-background-color) !important;\n  padding-bottom: 5px !important;\n}\n\n.xr-var-attrs-in:checked ~ .xr-var-attrs,\n.xr-var-data-in:checked ~ .xr-var-data {\n  display: block;\n}\n\n.xr-var-data > table {\n  float: right;\n}\n\n.xr-var-name span,\n.xr-var-data,\n.xr-attrs {\n  padding-left: 25px !important;\n}\n\n.xr-attrs,\n.xr-var-attrs,\n.xr-var-data {\n  grid-column: 1 / -1;\n}\n\ndl.xr-attrs {\n  padding: 0;\n  margin: 0;\n  display: grid;\n  grid-template-columns: 125px auto;\n}\n\n.xr-attrs dt,\n.xr-attrs dd {\n  padding: 0;\n  margin: 0;\n  float: left;\n  padding-right: 10px;\n  width: auto;\n}\n\n.xr-attrs dt {\n  font-weight: normal;\n  grid-column: 1;\n}\n\n.xr-attrs dt:hover span {\n  display: inline-block;\n  background: var(--xr-background-color);\n  padding-right: 10px;\n}\n\n.xr-attrs dd {\n  grid-column: 2;\n  white-space: pre-wrap;\n  word-break: break-all;\n}\n\n.xr-icon-database,\n.xr-icon-file-text2 {\n  display: inline-block;\n  vertical-align: middle;\n  width: 1em;\n  height: 1.5em !important;\n  stroke-width: 0;\n  stroke: currentColor;\n  fill: currentColor;\n}\n</style><pre class='xr-text-repr-fallback'>&lt;xarray.DataArray &#x27;x&#x27; (x: 594)&gt;\narray([135.929167, 135.9375  , 135.945833, ..., 140.854167, 140.8625  ,\n       140.870833])\nCoordinates:\n  * x            (x) float64 135.9 135.9 135.9 136.0 ... 140.8 140.9 140.9 140.9\n    spatial_ref  int64 0</pre><div class='xr-wrap' style='display:none'><div class='xr-header'><div class='xr-obj-type'>xarray.DataArray</div><div class='xr-array-name'>'x'</div><ul class='xr-dim-list'><li><span class='xr-has-index'>x</span>: 594</li></ul></div><ul class='xr-sections'><li class='xr-section-item'><div class='xr-array-wrap'><input id='section-f47a71cf-a64b-4ff4-bdb9-83b36abc1dcd' class='xr-array-in' type='checkbox' checked><label for='section-f47a71cf-a64b-4ff4-bdb9-83b36abc1dcd' title='Show/hide data repr'><svg class='icon xr-icon-database'><use xlink:href='#icon-database'></use></svg></label><div class='xr-array-preview xr-preview'><span>135.9 135.9 135.9 136.0 136.0 136.0 ... 140.8 140.8 140.9 140.9 140.9</span></div><div class='xr-array-data'><pre>array([135.929167, 135.9375  , 135.945833, ..., 140.854167, 140.8625  ,\n       140.870833])</pre></div></div></li><li class='xr-section-item'><input id='section-59f2e325-1ef5-4fc8-8298-b1b075db0366' class='xr-section-summary-in' type='checkbox'  checked><label for='section-59f2e325-1ef5-4fc8-8298-b1b075db0366' class='xr-section-summary' >Coordinates: <span>(2)</span></label><div class='xr-section-inline-details'></div><div class='xr-section-details'><ul class='xr-var-list'><li class='xr-var-item'><div class='xr-var-name'><span class='xr-has-index'>x</span></div><div class='xr-var-dims'>(x)</div><div class='xr-var-dtype'>float64</div><div class='xr-var-preview xr-preview'>135.9 135.9 135.9 ... 140.9 140.9</div><input id='attrs-d292f44d-d94a-4c5f-869e-928811496be6' class='xr-var-attrs-in' type='checkbox' disabled><label for='attrs-d292f44d-d94a-4c5f-869e-928811496be6' title='Show/Hide attributes'><svg class='icon xr-icon-file-text2'><use xlink:href='#icon-file-text2'></use></svg></label><input id='data-dbf856a6-4ac5-4c01-ad4e-342389126541' class='xr-var-data-in' type='checkbox'><label for='data-dbf856a6-4ac5-4c01-ad4e-342389126541' title='Show/Hide data repr'><svg class='icon xr-icon-database'><use xlink:href='#icon-database'></use></svg></label><div class='xr-var-attrs'><dl class='xr-attrs'></dl></div><div class='xr-var-data'><pre>array([135.929167, 135.9375  , 135.945833, ..., 140.854167, 140.8625  ,\n       140.870833])</pre></div></li><li class='xr-var-item'><div class='xr-var-name'><span>spatial_ref</span></div><div class='xr-var-dims'>()</div><div class='xr-var-dtype'>int64</div><div class='xr-var-preview xr-preview'>0</div><input id='attrs-e1a809b4-1034-42c2-88d8-627d5834c66c' class='xr-var-attrs-in' type='checkbox' ><label for='attrs-e1a809b4-1034-42c2-88d8-627d5834c66c' title='Show/Hide attributes'><svg class='icon xr-icon-file-text2'><use xlink:href='#icon-file-text2'></use></svg></label><input id='data-584d5bca-1bec-4956-9bd2-de654a269313' class='xr-var-data-in' type='checkbox'><label for='data-584d5bca-1bec-4956-9bd2-de654a269313' title='Show/Hide data repr'><svg class='icon xr-icon-database'><use xlink:href='#icon-database'></use></svg></label><div class='xr-var-attrs'><dl class='xr-attrs'><dt><span>crs_wkt :</span></dt><dd>GEOGCS[&quot;WGS 84&quot;,DATUM[&quot;WGS_1984&quot;,SPHEROID[&quot;WGS 84&quot;,6378137,298.257223563,AUTHORITY[&quot;EPSG&quot;,&quot;7030&quot;]],AUTHORITY[&quot;EPSG&quot;,&quot;6326&quot;]],PRIMEM[&quot;Greenwich&quot;,0],UNIT[&quot;degree&quot;,0.0174532925199433,AUTHORITY[&quot;EPSG&quot;,&quot;9122&quot;]],AXIS[&quot;Latitude&quot;,NORTH],AXIS[&quot;Longitude&quot;,EAST],AUTHORITY[&quot;EPSG&quot;,&quot;4326&quot;]]</dd><dt><span>semi_major_axis :</span></dt><dd>6378137.0</dd><dt><span>semi_minor_axis :</span></dt><dd>6356752.314245179</dd><dt><span>inverse_flattening :</span></dt><dd>298.257223563</dd><dt><span>reference_ellipsoid_name :</span></dt><dd>WGS 84</dd><dt><span>longitude_of_prime_meridian :</span></dt><dd>0.0</dd><dt><span>prime_meridian_name :</span></dt><dd>Greenwich</dd><dt><span>geographic_crs_name :</span></dt><dd>WGS 84</dd><dt><span>grid_mapping_name :</span></dt><dd>latitude_longitude</dd><dt><span>spatial_ref :</span></dt><dd>GEOGCS[&quot;WGS 84&quot;,DATUM[&quot;WGS_1984&quot;,SPHEROID[&quot;WGS 84&quot;,6378137,298.257223563,AUTHORITY[&quot;EPSG&quot;,&quot;7030&quot;]],AUTHORITY[&quot;EPSG&quot;,&quot;6326&quot;]],PRIMEM[&quot;Greenwich&quot;,0],UNIT[&quot;degree&quot;,0.0174532925199433,AUTHORITY[&quot;EPSG&quot;,&quot;9122&quot;]],AXIS[&quot;Latitude&quot;,NORTH],AXIS[&quot;Longitude&quot;,EAST],AUTHORITY[&quot;EPSG&quot;,&quot;4326&quot;]]</dd><dt><span>GeoTransform :</span></dt><dd>135.92499999999984 0.00833333333333333 0.0 36.649999999999935 0.0 -0.00833333333333333</dd></dl></div><div class='xr-var-data'><pre>array(0)</pre></div></li></ul></div></li><li class='xr-section-item'><input id='section-33c2dafb-a591-47ca-8358-2e99692498b0' class='xr-section-summary-in' type='checkbox' disabled ><label for='section-33c2dafb-a591-47ca-8358-2e99692498b0' class='xr-section-summary'  title='Expand/collapse section'>Attributes: <span>(0)</span></label><div class='xr-section-inline-details'></div><div class='xr-section-details'><dl class='xr-attrs'></dl></div></li></ul></div></div>"
     },
     "execution_count": 22,
     "metadata": {},
     "output_type": "execute_result"
    }
   ],
   "source": [
    "census_2015_r0.x"
   ],
   "metadata": {
    "collapsed": false,
    "pycharm": {
     "name": "#%%\n"
    }
   }
  },
  {
   "cell_type": "code",
   "execution_count": 23,
   "outputs": [
    {
     "data": {
      "text/plain": "<xarray.DataArray 'x' (x: 594)>\narray([135.929167, 135.9375  , 135.945833, ..., 140.854167, 140.8625  ,\n       140.870833])\nCoordinates:\n  * x            (x) float64 135.9 135.9 135.9 136.0 ... 140.8 140.9 140.9 140.9\n    spatial_ref  int64 0",
      "text/html": "<div><svg style=\"position: absolute; width: 0; height: 0; overflow: hidden\">\n<defs>\n<symbol id=\"icon-database\" viewBox=\"0 0 32 32\">\n<path d=\"M16 0c-8.837 0-16 2.239-16 5v4c0 2.761 7.163 5 16 5s16-2.239 16-5v-4c0-2.761-7.163-5-16-5z\"></path>\n<path d=\"M16 17c-8.837 0-16-2.239-16-5v6c0 2.761 7.163 5 16 5s16-2.239 16-5v-6c0 2.761-7.163 5-16 5z\"></path>\n<path d=\"M16 26c-8.837 0-16-2.239-16-5v6c0 2.761 7.163 5 16 5s16-2.239 16-5v-6c0 2.761-7.163 5-16 5z\"></path>\n</symbol>\n<symbol id=\"icon-file-text2\" viewBox=\"0 0 32 32\">\n<path d=\"M28.681 7.159c-0.694-0.947-1.662-2.053-2.724-3.116s-2.169-2.030-3.116-2.724c-1.612-1.182-2.393-1.319-2.841-1.319h-15.5c-1.378 0-2.5 1.121-2.5 2.5v27c0 1.378 1.122 2.5 2.5 2.5h23c1.378 0 2.5-1.122 2.5-2.5v-19.5c0-0.448-0.137-1.23-1.319-2.841zM24.543 5.457c0.959 0.959 1.712 1.825 2.268 2.543h-4.811v-4.811c0.718 0.556 1.584 1.309 2.543 2.268zM28 29.5c0 0.271-0.229 0.5-0.5 0.5h-23c-0.271 0-0.5-0.229-0.5-0.5v-27c0-0.271 0.229-0.5 0.5-0.5 0 0 15.499-0 15.5 0v7c0 0.552 0.448 1 1 1h7v19.5z\"></path>\n<path d=\"M23 26h-14c-0.552 0-1-0.448-1-1s0.448-1 1-1h14c0.552 0 1 0.448 1 1s-0.448 1-1 1z\"></path>\n<path d=\"M23 22h-14c-0.552 0-1-0.448-1-1s0.448-1 1-1h14c0.552 0 1 0.448 1 1s-0.448 1-1 1z\"></path>\n<path d=\"M23 18h-14c-0.552 0-1-0.448-1-1s0.448-1 1-1h14c0.552 0 1 0.448 1 1s-0.448 1-1 1z\"></path>\n</symbol>\n</defs>\n</svg>\n<style>/* CSS stylesheet for displaying xarray objects in jupyterlab.\n *\n */\n\n:root {\n  --xr-font-color0: var(--jp-content-font-color0, rgba(0, 0, 0, 1));\n  --xr-font-color2: var(--jp-content-font-color2, rgba(0, 0, 0, 0.54));\n  --xr-font-color3: var(--jp-content-font-color3, rgba(0, 0, 0, 0.38));\n  --xr-border-color: var(--jp-border-color2, #e0e0e0);\n  --xr-disabled-color: var(--jp-layout-color3, #bdbdbd);\n  --xr-background-color: var(--jp-layout-color0, white);\n  --xr-background-color-row-even: var(--jp-layout-color1, white);\n  --xr-background-color-row-odd: var(--jp-layout-color2, #eeeeee);\n}\n\nhtml[theme=dark],\nbody[data-theme=dark],\nbody.vscode-dark {\n  --xr-font-color0: rgba(255, 255, 255, 1);\n  --xr-font-color2: rgba(255, 255, 255, 0.54);\n  --xr-font-color3: rgba(255, 255, 255, 0.38);\n  --xr-border-color: #1F1F1F;\n  --xr-disabled-color: #515151;\n  --xr-background-color: #111111;\n  --xr-background-color-row-even: #111111;\n  --xr-background-color-row-odd: #313131;\n}\n\n.xr-wrap {\n  display: block !important;\n  min-width: 300px;\n  max-width: 700px;\n}\n\n.xr-text-repr-fallback {\n  /* fallback to plain text repr when CSS is not injected (untrusted notebook) */\n  display: none;\n}\n\n.xr-header {\n  padding-top: 6px;\n  padding-bottom: 6px;\n  margin-bottom: 4px;\n  border-bottom: solid 1px var(--xr-border-color);\n}\n\n.xr-header > div,\n.xr-header > ul {\n  display: inline;\n  margin-top: 0;\n  margin-bottom: 0;\n}\n\n.xr-obj-type,\n.xr-array-name {\n  margin-left: 2px;\n  margin-right: 10px;\n}\n\n.xr-obj-type {\n  color: var(--xr-font-color2);\n}\n\n.xr-sections {\n  padding-left: 0 !important;\n  display: grid;\n  grid-template-columns: 150px auto auto 1fr 20px 20px;\n}\n\n.xr-section-item {\n  display: contents;\n}\n\n.xr-section-item input {\n  display: none;\n}\n\n.xr-section-item input + label {\n  color: var(--xr-disabled-color);\n}\n\n.xr-section-item input:enabled + label {\n  cursor: pointer;\n  color: var(--xr-font-color2);\n}\n\n.xr-section-item input:enabled + label:hover {\n  color: var(--xr-font-color0);\n}\n\n.xr-section-summary {\n  grid-column: 1;\n  color: var(--xr-font-color2);\n  font-weight: 500;\n}\n\n.xr-section-summary > span {\n  display: inline-block;\n  padding-left: 0.5em;\n}\n\n.xr-section-summary-in:disabled + label {\n  color: var(--xr-font-color2);\n}\n\n.xr-section-summary-in + label:before {\n  display: inline-block;\n  content: '►';\n  font-size: 11px;\n  width: 15px;\n  text-align: center;\n}\n\n.xr-section-summary-in:disabled + label:before {\n  color: var(--xr-disabled-color);\n}\n\n.xr-section-summary-in:checked + label:before {\n  content: '▼';\n}\n\n.xr-section-summary-in:checked + label > span {\n  display: none;\n}\n\n.xr-section-summary,\n.xr-section-inline-details {\n  padding-top: 4px;\n  padding-bottom: 4px;\n}\n\n.xr-section-inline-details {\n  grid-column: 2 / -1;\n}\n\n.xr-section-details {\n  display: none;\n  grid-column: 1 / -1;\n  margin-bottom: 5px;\n}\n\n.xr-section-summary-in:checked ~ .xr-section-details {\n  display: contents;\n}\n\n.xr-array-wrap {\n  grid-column: 1 / -1;\n  display: grid;\n  grid-template-columns: 20px auto;\n}\n\n.xr-array-wrap > label {\n  grid-column: 1;\n  vertical-align: top;\n}\n\n.xr-preview {\n  color: var(--xr-font-color3);\n}\n\n.xr-array-preview,\n.xr-array-data {\n  padding: 0 5px !important;\n  grid-column: 2;\n}\n\n.xr-array-data,\n.xr-array-in:checked ~ .xr-array-preview {\n  display: none;\n}\n\n.xr-array-in:checked ~ .xr-array-data,\n.xr-array-preview {\n  display: inline-block;\n}\n\n.xr-dim-list {\n  display: inline-block !important;\n  list-style: none;\n  padding: 0 !important;\n  margin: 0;\n}\n\n.xr-dim-list li {\n  display: inline-block;\n  padding: 0;\n  margin: 0;\n}\n\n.xr-dim-list:before {\n  content: '(';\n}\n\n.xr-dim-list:after {\n  content: ')';\n}\n\n.xr-dim-list li:not(:last-child):after {\n  content: ',';\n  padding-right: 5px;\n}\n\n.xr-has-index {\n  font-weight: bold;\n}\n\n.xr-var-list,\n.xr-var-item {\n  display: contents;\n}\n\n.xr-var-item > div,\n.xr-var-item label,\n.xr-var-item > .xr-var-name span {\n  background-color: var(--xr-background-color-row-even);\n  margin-bottom: 0;\n}\n\n.xr-var-item > .xr-var-name:hover span {\n  padding-right: 5px;\n}\n\n.xr-var-list > li:nth-child(odd) > div,\n.xr-var-list > li:nth-child(odd) > label,\n.xr-var-list > li:nth-child(odd) > .xr-var-name span {\n  background-color: var(--xr-background-color-row-odd);\n}\n\n.xr-var-name {\n  grid-column: 1;\n}\n\n.xr-var-dims {\n  grid-column: 2;\n}\n\n.xr-var-dtype {\n  grid-column: 3;\n  text-align: right;\n  color: var(--xr-font-color2);\n}\n\n.xr-var-preview {\n  grid-column: 4;\n}\n\n.xr-var-name,\n.xr-var-dims,\n.xr-var-dtype,\n.xr-preview,\n.xr-attrs dt {\n  white-space: nowrap;\n  overflow: hidden;\n  text-overflow: ellipsis;\n  padding-right: 10px;\n}\n\n.xr-var-name:hover,\n.xr-var-dims:hover,\n.xr-var-dtype:hover,\n.xr-attrs dt:hover {\n  overflow: visible;\n  width: auto;\n  z-index: 1;\n}\n\n.xr-var-attrs,\n.xr-var-data {\n  display: none;\n  background-color: var(--xr-background-color) !important;\n  padding-bottom: 5px !important;\n}\n\n.xr-var-attrs-in:checked ~ .xr-var-attrs,\n.xr-var-data-in:checked ~ .xr-var-data {\n  display: block;\n}\n\n.xr-var-data > table {\n  float: right;\n}\n\n.xr-var-name span,\n.xr-var-data,\n.xr-attrs {\n  padding-left: 25px !important;\n}\n\n.xr-attrs,\n.xr-var-attrs,\n.xr-var-data {\n  grid-column: 1 / -1;\n}\n\ndl.xr-attrs {\n  padding: 0;\n  margin: 0;\n  display: grid;\n  grid-template-columns: 125px auto;\n}\n\n.xr-attrs dt,\n.xr-attrs dd {\n  padding: 0;\n  margin: 0;\n  float: left;\n  padding-right: 10px;\n  width: auto;\n}\n\n.xr-attrs dt {\n  font-weight: normal;\n  grid-column: 1;\n}\n\n.xr-attrs dt:hover span {\n  display: inline-block;\n  background: var(--xr-background-color);\n  padding-right: 10px;\n}\n\n.xr-attrs dd {\n  grid-column: 2;\n  white-space: pre-wrap;\n  word-break: break-all;\n}\n\n.xr-icon-database,\n.xr-icon-file-text2 {\n  display: inline-block;\n  vertical-align: middle;\n  width: 1em;\n  height: 1.5em !important;\n  stroke-width: 0;\n  stroke: currentColor;\n  fill: currentColor;\n}\n</style><pre class='xr-text-repr-fallback'>&lt;xarray.DataArray &#x27;x&#x27; (x: 594)&gt;\narray([135.929167, 135.9375  , 135.945833, ..., 140.854167, 140.8625  ,\n       140.870833])\nCoordinates:\n  * x            (x) float64 135.9 135.9 135.9 136.0 ... 140.8 140.9 140.9 140.9\n    spatial_ref  int64 0</pre><div class='xr-wrap' style='display:none'><div class='xr-header'><div class='xr-obj-type'>xarray.DataArray</div><div class='xr-array-name'>'x'</div><ul class='xr-dim-list'><li><span class='xr-has-index'>x</span>: 594</li></ul></div><ul class='xr-sections'><li class='xr-section-item'><div class='xr-array-wrap'><input id='section-612950ec-cfde-4543-877d-18befc2c6877' class='xr-array-in' type='checkbox' checked><label for='section-612950ec-cfde-4543-877d-18befc2c6877' title='Show/hide data repr'><svg class='icon xr-icon-database'><use xlink:href='#icon-database'></use></svg></label><div class='xr-array-preview xr-preview'><span>135.9 135.9 135.9 136.0 136.0 136.0 ... 140.8 140.8 140.9 140.9 140.9</span></div><div class='xr-array-data'><pre>array([135.929167, 135.9375  , 135.945833, ..., 140.854167, 140.8625  ,\n       140.870833])</pre></div></div></li><li class='xr-section-item'><input id='section-2109809d-a456-4e0d-ab9e-7617504bad3f' class='xr-section-summary-in' type='checkbox'  checked><label for='section-2109809d-a456-4e0d-ab9e-7617504bad3f' class='xr-section-summary' >Coordinates: <span>(2)</span></label><div class='xr-section-inline-details'></div><div class='xr-section-details'><ul class='xr-var-list'><li class='xr-var-item'><div class='xr-var-name'><span class='xr-has-index'>x</span></div><div class='xr-var-dims'>(x)</div><div class='xr-var-dtype'>float64</div><div class='xr-var-preview xr-preview'>135.9 135.9 135.9 ... 140.9 140.9</div><input id='attrs-8dc52107-7997-465d-be75-ea4160b92c1a' class='xr-var-attrs-in' type='checkbox' disabled><label for='attrs-8dc52107-7997-465d-be75-ea4160b92c1a' title='Show/Hide attributes'><svg class='icon xr-icon-file-text2'><use xlink:href='#icon-file-text2'></use></svg></label><input id='data-33b21091-9e9d-41e5-96b8-3d0d602f69a3' class='xr-var-data-in' type='checkbox'><label for='data-33b21091-9e9d-41e5-96b8-3d0d602f69a3' title='Show/Hide data repr'><svg class='icon xr-icon-database'><use xlink:href='#icon-database'></use></svg></label><div class='xr-var-attrs'><dl class='xr-attrs'></dl></div><div class='xr-var-data'><pre>array([135.929167, 135.9375  , 135.945833, ..., 140.854167, 140.8625  ,\n       140.870833])</pre></div></li><li class='xr-var-item'><div class='xr-var-name'><span>spatial_ref</span></div><div class='xr-var-dims'>()</div><div class='xr-var-dtype'>int64</div><div class='xr-var-preview xr-preview'>0</div><input id='attrs-4fd37131-72b1-4b2f-8989-67727f688620' class='xr-var-attrs-in' type='checkbox' ><label for='attrs-4fd37131-72b1-4b2f-8989-67727f688620' title='Show/Hide attributes'><svg class='icon xr-icon-file-text2'><use xlink:href='#icon-file-text2'></use></svg></label><input id='data-c6068bca-dbfb-4ef7-b9b4-12b2317dec3d' class='xr-var-data-in' type='checkbox'><label for='data-c6068bca-dbfb-4ef7-b9b4-12b2317dec3d' title='Show/Hide data repr'><svg class='icon xr-icon-database'><use xlink:href='#icon-database'></use></svg></label><div class='xr-var-attrs'><dl class='xr-attrs'><dt><span>crs_wkt :</span></dt><dd>GEOGCS[&quot;WGS 84&quot;,DATUM[&quot;WGS_1984&quot;,SPHEROID[&quot;WGS 84&quot;,6378137,298.257223563,AUTHORITY[&quot;EPSG&quot;,&quot;7030&quot;]],AUTHORITY[&quot;EPSG&quot;,&quot;6326&quot;]],PRIMEM[&quot;Greenwich&quot;,0],UNIT[&quot;degree&quot;,0.0174532925199433,AUTHORITY[&quot;EPSG&quot;,&quot;9122&quot;]],AXIS[&quot;Latitude&quot;,NORTH],AXIS[&quot;Longitude&quot;,EAST],AUTHORITY[&quot;EPSG&quot;,&quot;4326&quot;]]</dd><dt><span>semi_major_axis :</span></dt><dd>6378137.0</dd><dt><span>semi_minor_axis :</span></dt><dd>6356752.314245179</dd><dt><span>inverse_flattening :</span></dt><dd>298.257223563</dd><dt><span>reference_ellipsoid_name :</span></dt><dd>WGS 84</dd><dt><span>longitude_of_prime_meridian :</span></dt><dd>0.0</dd><dt><span>prime_meridian_name :</span></dt><dd>Greenwich</dd><dt><span>geographic_crs_name :</span></dt><dd>WGS 84</dd><dt><span>grid_mapping_name :</span></dt><dd>latitude_longitude</dd><dt><span>spatial_ref :</span></dt><dd>GEOGCS[&quot;WGS 84&quot;,DATUM[&quot;WGS_1984&quot;,SPHEROID[&quot;WGS 84&quot;,6378137,298.257223563,AUTHORITY[&quot;EPSG&quot;,&quot;7030&quot;]],AUTHORITY[&quot;EPSG&quot;,&quot;6326&quot;]],PRIMEM[&quot;Greenwich&quot;,0],UNIT[&quot;degree&quot;,0.0174532925199433,AUTHORITY[&quot;EPSG&quot;,&quot;9122&quot;]],AXIS[&quot;Latitude&quot;,NORTH],AXIS[&quot;Longitude&quot;,EAST],AUTHORITY[&quot;EPSG&quot;,&quot;4326&quot;]]</dd><dt><span>GeoTransform :</span></dt><dd>135.92499999999984 0.00833333333333333 0.0 36.649999999999935 0.0 -0.00833333333333333</dd></dl></div><div class='xr-var-data'><pre>array(0)</pre></div></li></ul></div></li><li class='xr-section-item'><input id='section-b74ced09-46d3-490e-8192-135c3ee15239' class='xr-section-summary-in' type='checkbox' disabled ><label for='section-b74ced09-46d3-490e-8192-135c3ee15239' class='xr-section-summary'  title='Expand/collapse section'>Attributes: <span>(0)</span></label><div class='xr-section-inline-details'></div><div class='xr-section-details'><dl class='xr-attrs'></dl></div></li></ul></div></div>"
     },
     "execution_count": 23,
     "metadata": {},
     "output_type": "execute_result"
    }
   ],
   "source": [
    "lights_2015_r0.x"
   ],
   "metadata": {
    "collapsed": false,
    "pycharm": {
     "name": "#%%\n"
    }
   }
  },
  {
   "cell_type": "code",
   "execution_count": 24,
   "outputs": [
    {
     "data": {
      "text/plain": "(0.00833333333333333, -0.00833333333333333)"
     },
     "execution_count": 24,
     "metadata": {},
     "output_type": "execute_result"
    }
   ],
   "source": [
    "lights_2015_r0.rio.resolution()"
   ],
   "metadata": {
    "collapsed": false,
    "pycharm": {
     "name": "#%%\n"
    }
   }
  },
  {
   "cell_type": "code",
   "execution_count": 25,
   "outputs": [
    {
     "data": {
      "text/plain": "(0.00833333333333333, -0.00833333333333333)"
     },
     "execution_count": 25,
     "metadata": {},
     "output_type": "execute_result"
    }
   ],
   "source": [
    "census_2015_r0.rio.resolution()"
   ],
   "metadata": {
    "collapsed": false,
    "pycharm": {
     "name": "#%%\n"
    }
   }
  },
  {
   "cell_type": "code",
   "execution_count": 34,
   "outputs": [],
   "source": [
    "census_df = census_2015_r0.to_dataframe(name = 'census_df').reset_index()\n",
    "lights_df = lights_2015_r0.to_dataframe(name = 'lights').reset_index()"
   ],
   "metadata": {
    "collapsed": false,
    "pycharm": {
     "name": "#%%\n"
    }
   }
  },
  {
   "cell_type": "code",
   "execution_count": 35,
   "outputs": [
    {
     "data": {
      "text/plain": "   band          y           x  spatial_ref  census_df\n0     1  36.645833  135.929167            0        NaN\n1     1  36.645833  135.937500            0        NaN\n2     1  36.645833  135.945833            0        NaN\n3     1  36.645833  135.954167            0        NaN\n4     1  36.645833  135.962500            0        NaN",
      "text/html": "<div>\n<style scoped>\n    .dataframe tbody tr th:only-of-type {\n        vertical-align: middle;\n    }\n\n    .dataframe tbody tr th {\n        vertical-align: top;\n    }\n\n    .dataframe thead th {\n        text-align: right;\n    }\n</style>\n<table border=\"1\" class=\"dataframe\">\n  <thead>\n    <tr style=\"text-align: right;\">\n      <th></th>\n      <th>band</th>\n      <th>y</th>\n      <th>x</th>\n      <th>spatial_ref</th>\n      <th>census_df</th>\n    </tr>\n  </thead>\n  <tbody>\n    <tr>\n      <th>0</th>\n      <td>1</td>\n      <td>36.645833</td>\n      <td>135.929167</td>\n      <td>0</td>\n      <td>NaN</td>\n    </tr>\n    <tr>\n      <th>1</th>\n      <td>1</td>\n      <td>36.645833</td>\n      <td>135.937500</td>\n      <td>0</td>\n      <td>NaN</td>\n    </tr>\n    <tr>\n      <th>2</th>\n      <td>1</td>\n      <td>36.645833</td>\n      <td>135.945833</td>\n      <td>0</td>\n      <td>NaN</td>\n    </tr>\n    <tr>\n      <th>3</th>\n      <td>1</td>\n      <td>36.645833</td>\n      <td>135.954167</td>\n      <td>0</td>\n      <td>NaN</td>\n    </tr>\n    <tr>\n      <th>4</th>\n      <td>1</td>\n      <td>36.645833</td>\n      <td>135.962500</td>\n      <td>0</td>\n      <td>NaN</td>\n    </tr>\n  </tbody>\n</table>\n</div>"
     },
     "execution_count": 35,
     "metadata": {},
     "output_type": "execute_result"
    }
   ],
   "source": [
    "census_df.head()"
   ],
   "metadata": {
    "collapsed": false,
    "pycharm": {
     "name": "#%%\n"
    }
   }
  },
  {
   "cell_type": "code",
   "execution_count": 36,
   "outputs": [
    {
     "data": {
      "text/plain": "   band          y           x  spatial_ref    lights\n0     1  36.645833  135.929167            0  0.043820\n1     1  36.645833  135.937500            0  0.032853\n2     1  36.645833  135.945833            0  0.041346\n3     1  36.645833  135.954167            0  0.022220\n4     1  36.645833  135.962500            0  0.032653",
      "text/html": "<div>\n<style scoped>\n    .dataframe tbody tr th:only-of-type {\n        vertical-align: middle;\n    }\n\n    .dataframe tbody tr th {\n        vertical-align: top;\n    }\n\n    .dataframe thead th {\n        text-align: right;\n    }\n</style>\n<table border=\"1\" class=\"dataframe\">\n  <thead>\n    <tr style=\"text-align: right;\">\n      <th></th>\n      <th>band</th>\n      <th>y</th>\n      <th>x</th>\n      <th>spatial_ref</th>\n      <th>lights</th>\n    </tr>\n  </thead>\n  <tbody>\n    <tr>\n      <th>0</th>\n      <td>1</td>\n      <td>36.645833</td>\n      <td>135.929167</td>\n      <td>0</td>\n      <td>0.043820</td>\n    </tr>\n    <tr>\n      <th>1</th>\n      <td>1</td>\n      <td>36.645833</td>\n      <td>135.937500</td>\n      <td>0</td>\n      <td>0.032853</td>\n    </tr>\n    <tr>\n      <th>2</th>\n      <td>1</td>\n      <td>36.645833</td>\n      <td>135.945833</td>\n      <td>0</td>\n      <td>0.041346</td>\n    </tr>\n    <tr>\n      <th>3</th>\n      <td>1</td>\n      <td>36.645833</td>\n      <td>135.954167</td>\n      <td>0</td>\n      <td>0.022220</td>\n    </tr>\n    <tr>\n      <th>4</th>\n      <td>1</td>\n      <td>36.645833</td>\n      <td>135.962500</td>\n      <td>0</td>\n      <td>0.032653</td>\n    </tr>\n  </tbody>\n</table>\n</div>"
     },
     "execution_count": 36,
     "metadata": {},
     "output_type": "execute_result"
    }
   ],
   "source": [
    "lights_df.head()"
   ],
   "metadata": {
    "collapsed": false,
    "pycharm": {
     "name": "#%%\n"
    }
   }
  },
  {
   "cell_type": "code",
   "execution_count": 37,
   "outputs": [
    {
     "data": {
      "text/plain": "          band             y             x  spatial_ref     census_df\ncount  84348.0  84348.000000  84348.000000      84348.0  75980.000000\nmean       1.0     36.058333    138.400000          0.0    561.045166\nstd        0.0      0.341592      1.428948          0.0   1499.795410\nmin        1.0     35.470833    135.929167          0.0      0.000000\n25%        1.0     35.762500    137.162500          0.0     36.087353\n50%        1.0     36.058333    138.400000          0.0    151.653732\n75%        1.0     36.354167    139.637500          0.0    345.177002\nmax        1.0     36.645833    140.870833          0.0  15934.238281",
      "text/html": "<div>\n<style scoped>\n    .dataframe tbody tr th:only-of-type {\n        vertical-align: middle;\n    }\n\n    .dataframe tbody tr th {\n        vertical-align: top;\n    }\n\n    .dataframe thead th {\n        text-align: right;\n    }\n</style>\n<table border=\"1\" class=\"dataframe\">\n  <thead>\n    <tr style=\"text-align: right;\">\n      <th></th>\n      <th>band</th>\n      <th>y</th>\n      <th>x</th>\n      <th>spatial_ref</th>\n      <th>census_df</th>\n    </tr>\n  </thead>\n  <tbody>\n    <tr>\n      <th>count</th>\n      <td>84348.0</td>\n      <td>84348.000000</td>\n      <td>84348.000000</td>\n      <td>84348.0</td>\n      <td>75980.000000</td>\n    </tr>\n    <tr>\n      <th>mean</th>\n      <td>1.0</td>\n      <td>36.058333</td>\n      <td>138.400000</td>\n      <td>0.0</td>\n      <td>561.045166</td>\n    </tr>\n    <tr>\n      <th>std</th>\n      <td>0.0</td>\n      <td>0.341592</td>\n      <td>1.428948</td>\n      <td>0.0</td>\n      <td>1499.795410</td>\n    </tr>\n    <tr>\n      <th>min</th>\n      <td>1.0</td>\n      <td>35.470833</td>\n      <td>135.929167</td>\n      <td>0.0</td>\n      <td>0.000000</td>\n    </tr>\n    <tr>\n      <th>25%</th>\n      <td>1.0</td>\n      <td>35.762500</td>\n      <td>137.162500</td>\n      <td>0.0</td>\n      <td>36.087353</td>\n    </tr>\n    <tr>\n      <th>50%</th>\n      <td>1.0</td>\n      <td>36.058333</td>\n      <td>138.400000</td>\n      <td>0.0</td>\n      <td>151.653732</td>\n    </tr>\n    <tr>\n      <th>75%</th>\n      <td>1.0</td>\n      <td>36.354167</td>\n      <td>139.637500</td>\n      <td>0.0</td>\n      <td>345.177002</td>\n    </tr>\n    <tr>\n      <th>max</th>\n      <td>1.0</td>\n      <td>36.645833</td>\n      <td>140.870833</td>\n      <td>0.0</td>\n      <td>15934.238281</td>\n    </tr>\n  </tbody>\n</table>\n</div>"
     },
     "execution_count": 37,
     "metadata": {},
     "output_type": "execute_result"
    }
   ],
   "source": [
    "census_df.describe()"
   ],
   "metadata": {
    "collapsed": false,
    "pycharm": {
     "name": "#%%\n"
    }
   }
  },
  {
   "cell_type": "code",
   "execution_count": 38,
   "outputs": [
    {
     "data": {
      "text/plain": "          band             y             x  spatial_ref        lights\ncount  84348.0  84348.000000  84348.000000      84348.0  84348.000000\nmean       1.0     36.058333    138.400000          0.0      2.690644\nstd        0.0      0.341592      1.428948          0.0      7.294168\nmin        1.0     35.470833    135.929167          0.0      0.006251\n25%        1.0     35.762500    137.162500          0.0      0.140830\n50%        1.0     36.058333    138.400000          0.0      0.315988\n75%        1.0     36.354167    139.637500          0.0      1.604378\nmax        1.0     36.645833    140.870833          0.0    217.520508",
      "text/html": "<div>\n<style scoped>\n    .dataframe tbody tr th:only-of-type {\n        vertical-align: middle;\n    }\n\n    .dataframe tbody tr th {\n        vertical-align: top;\n    }\n\n    .dataframe thead th {\n        text-align: right;\n    }\n</style>\n<table border=\"1\" class=\"dataframe\">\n  <thead>\n    <tr style=\"text-align: right;\">\n      <th></th>\n      <th>band</th>\n      <th>y</th>\n      <th>x</th>\n      <th>spatial_ref</th>\n      <th>lights</th>\n    </tr>\n  </thead>\n  <tbody>\n    <tr>\n      <th>count</th>\n      <td>84348.0</td>\n      <td>84348.000000</td>\n      <td>84348.000000</td>\n      <td>84348.0</td>\n      <td>84348.000000</td>\n    </tr>\n    <tr>\n      <th>mean</th>\n      <td>1.0</td>\n      <td>36.058333</td>\n      <td>138.400000</td>\n      <td>0.0</td>\n      <td>2.690644</td>\n    </tr>\n    <tr>\n      <th>std</th>\n      <td>0.0</td>\n      <td>0.341592</td>\n      <td>1.428948</td>\n      <td>0.0</td>\n      <td>7.294168</td>\n    </tr>\n    <tr>\n      <th>min</th>\n      <td>1.0</td>\n      <td>35.470833</td>\n      <td>135.929167</td>\n      <td>0.0</td>\n      <td>0.006251</td>\n    </tr>\n    <tr>\n      <th>25%</th>\n      <td>1.0</td>\n      <td>35.762500</td>\n      <td>137.162500</td>\n      <td>0.0</td>\n      <td>0.140830</td>\n    </tr>\n    <tr>\n      <th>50%</th>\n      <td>1.0</td>\n      <td>36.058333</td>\n      <td>138.400000</td>\n      <td>0.0</td>\n      <td>0.315988</td>\n    </tr>\n    <tr>\n      <th>75%</th>\n      <td>1.0</td>\n      <td>36.354167</td>\n      <td>139.637500</td>\n      <td>0.0</td>\n      <td>1.604378</td>\n    </tr>\n    <tr>\n      <th>max</th>\n      <td>1.0</td>\n      <td>36.645833</td>\n      <td>140.870833</td>\n      <td>0.0</td>\n      <td>217.520508</td>\n    </tr>\n  </tbody>\n</table>\n</div>"
     },
     "execution_count": 38,
     "metadata": {},
     "output_type": "execute_result"
    }
   ],
   "source": [
    "lights_df.describe()"
   ],
   "metadata": {
    "collapsed": false,
    "pycharm": {
     "name": "#%%\n"
    }
   }
  },
  {
   "cell_type": "code",
   "execution_count": 43,
   "outputs": [],
   "source": [
    "census_with_lights = census_df.merge(lights_df, on = ['y', 'x', 'band']).dropna().reset_index()"
   ],
   "metadata": {
    "collapsed": false,
    "pycharm": {
     "name": "#%%\n"
    }
   }
  },
  {
   "cell_type": "code",
   "execution_count": 44,
   "outputs": [
    {
     "data": {
      "text/plain": "   index  band          y           x  spatial_ref_x   census_df  \\\n0     83     1  36.645833  136.620833              0   39.181091   \n1     84     1  36.645833  136.629167              0  761.420959   \n2     85     1  36.645833  136.637500              0  993.808655   \n3     86     1  36.645833  136.645833              0  975.235657   \n4     87     1  36.645833  136.654167              0  573.612671   \n\n   spatial_ref_y     lights  \n0              0   0.870313  \n1              0   1.538221  \n2              0   4.787305  \n3              0  10.247175  \n4              0   4.864187  ",
      "text/html": "<div>\n<style scoped>\n    .dataframe tbody tr th:only-of-type {\n        vertical-align: middle;\n    }\n\n    .dataframe tbody tr th {\n        vertical-align: top;\n    }\n\n    .dataframe thead th {\n        text-align: right;\n    }\n</style>\n<table border=\"1\" class=\"dataframe\">\n  <thead>\n    <tr style=\"text-align: right;\">\n      <th></th>\n      <th>index</th>\n      <th>band</th>\n      <th>y</th>\n      <th>x</th>\n      <th>spatial_ref_x</th>\n      <th>census_df</th>\n      <th>spatial_ref_y</th>\n      <th>lights</th>\n    </tr>\n  </thead>\n  <tbody>\n    <tr>\n      <th>0</th>\n      <td>83</td>\n      <td>1</td>\n      <td>36.645833</td>\n      <td>136.620833</td>\n      <td>0</td>\n      <td>39.181091</td>\n      <td>0</td>\n      <td>0.870313</td>\n    </tr>\n    <tr>\n      <th>1</th>\n      <td>84</td>\n      <td>1</td>\n      <td>36.645833</td>\n      <td>136.629167</td>\n      <td>0</td>\n      <td>761.420959</td>\n      <td>0</td>\n      <td>1.538221</td>\n    </tr>\n    <tr>\n      <th>2</th>\n      <td>85</td>\n      <td>1</td>\n      <td>36.645833</td>\n      <td>136.637500</td>\n      <td>0</td>\n      <td>993.808655</td>\n      <td>0</td>\n      <td>4.787305</td>\n    </tr>\n    <tr>\n      <th>3</th>\n      <td>86</td>\n      <td>1</td>\n      <td>36.645833</td>\n      <td>136.645833</td>\n      <td>0</td>\n      <td>975.235657</td>\n      <td>0</td>\n      <td>10.247175</td>\n    </tr>\n    <tr>\n      <th>4</th>\n      <td>87</td>\n      <td>1</td>\n      <td>36.645833</td>\n      <td>136.654167</td>\n      <td>0</td>\n      <td>573.612671</td>\n      <td>0</td>\n      <td>4.864187</td>\n    </tr>\n  </tbody>\n</table>\n</div>"
     },
     "execution_count": 44,
     "metadata": {},
     "output_type": "execute_result"
    }
   ],
   "source": [
    "census_with_lights.head()"
   ],
   "metadata": {
    "collapsed": false,
    "pycharm": {
     "name": "#%%\n"
    }
   }
  },
  {
   "cell_type": "code",
   "execution_count": 48,
   "outputs": [
    {
     "data": {
      "text/plain": "<AxesSubplot:xlabel='census_df', ylabel='lights'>"
     },
     "execution_count": 48,
     "metadata": {},
     "output_type": "execute_result"
    },
    {
     "data": {
      "text/plain": "<Figure size 576x432 with 1 Axes>",
      "image/png": "[encoded data removed]"
     },
     "metadata": {
      "needs_background": "light"
     },
     "output_type": "display_data"
    }
   ],
   "source": [
    "census_with_lights.plot(x = 'census_df', y = 'lights', kind = 'scatter', figsize = (8, 6))"
   ],
   "metadata": {
    "collapsed": false,
    "pycharm": {
     "name": "#%%\n"
    }
   }
  },
  {
   "cell_type": "markdown",
   "source": [
    "There's a lot of noise in here, but it's cool to see there seems to be some correlation with lighting level and population. What about change?"
   ],
   "metadata": {
    "collapsed": false,
    "pycharm": {
     "name": "#%% md\n"
    }
   }
  },
  {
   "cell_type": "code",
   "execution_count": 50,
   "outputs": [],
   "source": [
    "census_2020_df = census_2020_r0.to_dataframe(name = 'pop_2020').reset_index()\n",
    "lights_2020_df = lights_2020_r0.to_dataframe(name = 'lights_2020').reset_index()"
   ],
   "metadata": {
    "collapsed": false,
    "pycharm": {
     "name": "#%%\n"
    }
   }
  },
  {
   "cell_type": "code",
   "execution_count": 53,
   "outputs": [],
   "source": [
    "merged_2020 = census_2020_df.merge(lights_2020_df, on = ['band', 'x', 'y']).dropna().reset_index()"
   ],
   "metadata": {
    "collapsed": false,
    "pycharm": {
     "name": "#%%\n"
    }
   }
  },
  {
   "cell_type": "code",
   "execution_count": 54,
   "outputs": [
    {
     "data": {
      "text/plain": "   index  band          y           x  spatial_ref_x    pop_2020  \\\n0     83     1  36.645833  136.620833              0   39.047592   \n1     84     1  36.645833  136.629167              0  758.826721   \n2     85     1  36.645833  136.637500              0  990.422546   \n3     86     1  36.645833  136.645833              0  971.912903   \n4     87     1  36.645833  136.654167              0  571.658264   \n\n   spatial_ref_y  lights_2020  \n0              0      0.75375  \n1              0      1.24875  \n2              0      3.57625  \n3              0      6.13375  \n4              0      4.16125  ",
      "text/html": "<div>\n<style scoped>\n    .dataframe tbody tr th:only-of-type {\n        vertical-align: middle;\n    }\n\n    .dataframe tbody tr th {\n        vertical-align: top;\n    }\n\n    .dataframe thead th {\n        text-align: right;\n    }\n</style>\n<table border=\"1\" class=\"dataframe\">\n  <thead>\n    <tr style=\"text-align: right;\">\n      <th></th>\n      <th>index</th>\n      <th>band</th>\n      <th>y</th>\n      <th>x</th>\n      <th>spatial_ref_x</th>\n      <th>pop_2020</th>\n      <th>spatial_ref_y</th>\n      <th>lights_2020</th>\n    </tr>\n  </thead>\n  <tbody>\n    <tr>\n      <th>0</th>\n      <td>83</td>\n      <td>1</td>\n      <td>36.645833</td>\n      <td>136.620833</td>\n      <td>0</td>\n      <td>39.047592</td>\n      <td>0</td>\n      <td>0.75375</td>\n    </tr>\n    <tr>\n      <th>1</th>\n      <td>84</td>\n      <td>1</td>\n      <td>36.645833</td>\n      <td>136.629167</td>\n      <td>0</td>\n      <td>758.826721</td>\n      <td>0</td>\n      <td>1.24875</td>\n    </tr>\n    <tr>\n      <th>2</th>\n      <td>85</td>\n      <td>1</td>\n      <td>36.645833</td>\n      <td>136.637500</td>\n      <td>0</td>\n      <td>990.422546</td>\n      <td>0</td>\n      <td>3.57625</td>\n    </tr>\n    <tr>\n      <th>3</th>\n      <td>86</td>\n      <td>1</td>\n      <td>36.645833</td>\n      <td>136.645833</td>\n      <td>0</td>\n      <td>971.912903</td>\n      <td>0</td>\n      <td>6.13375</td>\n    </tr>\n    <tr>\n      <th>4</th>\n      <td>87</td>\n      <td>1</td>\n      <td>36.645833</td>\n      <td>136.654167</td>\n      <td>0</td>\n      <td>571.658264</td>\n      <td>0</td>\n      <td>4.16125</td>\n    </tr>\n  </tbody>\n</table>\n</div>"
     },
     "execution_count": 54,
     "metadata": {},
     "output_type": "execute_result"
    }
   ],
   "source": [
    "merged_2020.head()"
   ],
   "metadata": {
    "collapsed": false,
    "pycharm": {
     "name": "#%%\n"
    }
   }
  },
  {
   "cell_type": "code",
   "execution_count": 55,
   "outputs": [
    {
     "data": {
      "text/plain": "   index           x          y   census_df     lights    pop_2020  \\\n0      0  136.620833  36.645833   39.181091   0.870313   39.047592   \n1      1  136.629167  36.645833  761.420959   1.538221  758.826721   \n2      2  136.637500  36.645833  993.808655   4.787305  990.422546   \n3      3  136.645833  36.645833  975.235657  10.247175  971.912903   \n4      4  136.654167  36.645833  573.612671   4.864187  571.658264   \n\n   lights_2020  \n0      0.75375  \n1      1.24875  \n2      3.57625  \n3      6.13375  \n4      4.16125  ",
      "text/html": "<div>\n<style scoped>\n    .dataframe tbody tr th:only-of-type {\n        vertical-align: middle;\n    }\n\n    .dataframe tbody tr th {\n        vertical-align: top;\n    }\n\n    .dataframe thead th {\n        text-align: right;\n    }\n</style>\n<table border=\"1\" class=\"dataframe\">\n  <thead>\n    <tr style=\"text-align: right;\">\n      <th></th>\n      <th>index</th>\n      <th>x</th>\n      <th>y</th>\n      <th>census_df</th>\n      <th>lights</th>\n      <th>pop_2020</th>\n      <th>lights_2020</th>\n    </tr>\n  </thead>\n  <tbody>\n    <tr>\n      <th>0</th>\n      <td>0</td>\n      <td>136.620833</td>\n      <td>36.645833</td>\n      <td>39.181091</td>\n      <td>0.870313</td>\n      <td>39.047592</td>\n      <td>0.75375</td>\n    </tr>\n    <tr>\n      <th>1</th>\n      <td>1</td>\n      <td>136.629167</td>\n      <td>36.645833</td>\n      <td>761.420959</td>\n      <td>1.538221</td>\n      <td>758.826721</td>\n      <td>1.24875</td>\n    </tr>\n    <tr>\n      <th>2</th>\n      <td>2</td>\n      <td>136.637500</td>\n      <td>36.645833</td>\n      <td>993.808655</td>\n      <td>4.787305</td>\n      <td>990.422546</td>\n      <td>3.57625</td>\n    </tr>\n    <tr>\n      <th>3</th>\n      <td>3</td>\n      <td>136.645833</td>\n      <td>36.645833</td>\n      <td>975.235657</td>\n      <td>10.247175</td>\n      <td>971.912903</td>\n      <td>6.13375</td>\n    </tr>\n    <tr>\n      <th>4</th>\n      <td>4</td>\n      <td>136.654167</td>\n      <td>36.645833</td>\n      <td>573.612671</td>\n      <td>4.864187</td>\n      <td>571.658264</td>\n      <td>4.16125</td>\n    </tr>\n  </tbody>\n</table>\n</div>"
     },
     "execution_count": 55,
     "metadata": {},
     "output_type": "execute_result"
    }
   ],
   "source": [
    "# merge the 2015 and 2020 datasets\n",
    "\n",
    "df_2015 = census_with_lights[['x', 'y', 'census_df', 'lights']]\n",
    "df_2020 = merged_2020[['x', 'y', 'pop_2020', 'lights_2020']]\n",
    "\n",
    "change_pop = df_2015.merge(df_2020, on = ['x', 'y']).dropna().reset_index()\n",
    "\n",
    "change_pop.head()"
   ],
   "metadata": {
    "collapsed": false,
    "pycharm": {
     "name": "#%%\n"
    }
   }
  },
  {
   "cell_type": "code",
   "execution_count": 63,
   "outputs": [],
   "source": [
    "change_pop['change_in_pop'] = change_pop['pop_2020'] - change_pop['census_df']\n",
    "change_pop['change_in_lights'] = change_pop['lights_2020'] - change_pop['lights']\n",
    "change_pop['change_in_pop_per'] = change_pop['change_in_pop'] / change_pop['census_df'] * 100\n",
    "change_pop['change_in_lights_per'] = change_pop['change_in_lights'] / change_pop['lights'] * 100"
   ],
   "metadata": {
    "collapsed": false,
    "pycharm": {
     "name": "#%%\n"
    }
   }
  },
  {
   "cell_type": "code",
   "execution_count": 64,
   "outputs": [
    {
     "data": {
      "text/plain": "   index           x          y   census_df     lights    pop_2020  \\\n0      0  136.620833  36.645833   39.181091   0.870313   39.047592   \n1      1  136.629167  36.645833  761.420959   1.538221  758.826721   \n2      2  136.637500  36.645833  993.808655   4.787305  990.422546   \n3      3  136.645833  36.645833  975.235657  10.247175  971.912903   \n4      4  136.654167  36.645833  573.612671   4.864187  571.658264   \n\n   lights_2020  change_in_pop  change_in_lights  change_in_pop_per  \\\n0      0.75375      -0.133499         -0.116563          -0.340723   \n1      1.24875      -2.594238         -0.289471          -0.340710   \n2      3.57625      -3.386108         -1.211055          -0.340720   \n3      6.13375      -3.322754         -4.113425          -0.340713   \n4      4.16125      -1.954407         -0.702937          -0.340719   \n\n   change_in_lights_per  \n0            -13.393225  \n1            -18.818579  \n2            -25.297216  \n3            -40.142040  \n4            -14.451276  ",
      "text/html": "<div>\n<style scoped>\n    .dataframe tbody tr th:only-of-type {\n        vertical-align: middle;\n    }\n\n    .dataframe tbody tr th {\n        vertical-align: top;\n    }\n\n    .dataframe thead th {\n        text-align: right;\n    }\n</style>\n<table border=\"1\" class=\"dataframe\">\n  <thead>\n    <tr style=\"text-align: right;\">\n      <th></th>\n      <th>index</th>\n      <th>x</th>\n      <th>y</th>\n      <th>census_df</th>\n      <th>lights</th>\n      <th>pop_2020</th>\n      <th>lights_2020</th>\n      <th>change_in_pop</th>\n      <th>change_in_lights</th>\n      <th>change_in_pop_per</th>\n      <th>change_in_lights_per</th>\n    </tr>\n  </thead>\n  <tbody>\n    <tr>\n      <th>0</th>\n      <td>0</td>\n      <td>136.620833</td>\n      <td>36.645833</td>\n      <td>39.181091</td>\n      <td>0.870313</td>\n      <td>39.047592</td>\n      <td>0.75375</td>\n      <td>-0.133499</td>\n      <td>-0.116563</td>\n      <td>-0.340723</td>\n      <td>-13.393225</td>\n    </tr>\n    <tr>\n      <th>1</th>\n      <td>1</td>\n      <td>136.629167</td>\n      <td>36.645833</td>\n      <td>761.420959</td>\n      <td>1.538221</td>\n      <td>758.826721</td>\n      <td>1.24875</td>\n      <td>-2.594238</td>\n      <td>-0.289471</td>\n      <td>-0.340710</td>\n      <td>-18.818579</td>\n    </tr>\n    <tr>\n      <th>2</th>\n      <td>2</td>\n      <td>136.637500</td>\n      <td>36.645833</td>\n      <td>993.808655</td>\n      <td>4.787305</td>\n      <td>990.422546</td>\n      <td>3.57625</td>\n      <td>-3.386108</td>\n      <td>-1.211055</td>\n      <td>-0.340720</td>\n      <td>-25.297216</td>\n    </tr>\n    <tr>\n      <th>3</th>\n      <td>3</td>\n      <td>136.645833</td>\n      <td>36.645833</td>\n      <td>975.235657</td>\n      <td>10.247175</td>\n      <td>971.912903</td>\n      <td>6.13375</td>\n      <td>-3.322754</td>\n      <td>-4.113425</td>\n      <td>-0.340713</td>\n      <td>-40.142040</td>\n    </tr>\n    <tr>\n      <th>4</th>\n      <td>4</td>\n      <td>136.654167</td>\n      <td>36.645833</td>\n      <td>573.612671</td>\n      <td>4.864187</td>\n      <td>571.658264</td>\n      <td>4.16125</td>\n      <td>-1.954407</td>\n      <td>-0.702937</td>\n      <td>-0.340719</td>\n      <td>-14.451276</td>\n    </tr>\n  </tbody>\n</table>\n</div>"
     },
     "execution_count": 64,
     "metadata": {},
     "output_type": "execute_result"
    }
   ],
   "source": [
    "change_pop.head()"
   ],
   "metadata": {
    "collapsed": false,
    "pycharm": {
     "name": "#%%\n"
    }
   }
  },
  {
   "cell_type": "code",
   "execution_count": 67,
   "outputs": [
    {
     "data": {
      "text/plain": "              index             x             y     census_df        lights  \\\ncount  75980.000000  75980.000000  75980.000000  75980.000000  75980.000000   \nmean   37989.500000    138.375899     36.047960    561.045105      2.942849   \nstd    21933.681064      1.306132      0.335893   1499.795410      7.632520   \nmin        0.000000    135.929167     35.470833      0.000000      0.017916   \n25%    18994.750000    137.262500     35.762500     36.087353      0.151319   \n50%    37989.500000    138.370833     36.037500    151.653732      0.376016   \n75%    56984.250000    139.487500     36.337500    345.177017      1.843156   \nmax    75979.000000    140.870833     36.645833  15934.238281    217.520508   \n\n           pop_2020   lights_2020  change_in_pop  change_in_lights  \\\ncount  75980.000000  75980.000000   75980.000000      75980.000000   \nmean     573.533386      3.116566      12.488246          0.173717   \nstd     1559.890503      7.882037      62.571674          1.359559   \nmin        0.000000      0.232500     -32.393066       -114.507751   \n25%       35.383270      0.353750      -2.081116          0.127287   \n50%      150.358307      0.568750      -0.581619          0.195765   \n75%      343.561745      1.935000      -0.207652          0.236514   \nmax    16671.593750    246.217499     737.355469         46.866074   \n\n       change_in_pop_per  change_in_lights_per  \ncount       75649.000000          75980.000000  \nmean           -0.556942             78.540436  \nstd             1.783999             86.051445  \nmin            -2.485887            -86.416664  \n25%            -2.003637              8.826560  \n50%            -1.233979             54.420284  \n75%            -0.168068            132.570038  \nmax             4.627505           1525.646851  ",
      "text/html": "<div>\n<style scoped>\n    .dataframe tbody tr th:only-of-type {\n        vertical-align: middle;\n    }\n\n    .dataframe tbody tr th {\n        vertical-align: top;\n    }\n\n    .dataframe thead th {\n        text-align: right;\n    }\n</style>\n<table border=\"1\" class=\"dataframe\">\n  <thead>\n    <tr style=\"text-align: right;\">\n      <th></th>\n      <th>index</th>\n      <th>x</th>\n      <th>y</th>\n      <th>census_df</th>\n      <th>lights</th>\n      <th>pop_2020</th>\n      <th>lights_2020</th>\n      <th>change_in_pop</th>\n      <th>change_in_lights</th>\n      <th>change_in_pop_per</th>\n      <th>change_in_lights_per</th>\n    </tr>\n  </thead>\n  <tbody>\n    <tr>\n      <th>count</th>\n      <td>75980.000000</td>\n      <td>75980.000000</td>\n      <td>75980.000000</td>\n      <td>75980.000000</td>\n      <td>75980.000000</td>\n      <td>75980.000000</td>\n      <td>75980.000000</td>\n      <td>75980.000000</td>\n      <td>75980.000000</td>\n      <td>75649.000000</td>\n      <td>75980.000000</td>\n    </tr>\n    <tr>\n      <th>mean</th>\n      <td>37989.500000</td>\n      <td>138.375899</td>\n      <td>36.047960</td>\n      <td>561.045105</td>\n      <td>2.942849</td>\n      <td>573.533386</td>\n      <td>3.116566</td>\n      <td>12.488246</td>\n      <td>0.173717</td>\n      <td>-0.556942</td>\n      <td>78.540436</td>\n    </tr>\n    <tr>\n      <th>std</th>\n      <td>21933.681064</td>\n      <td>1.306132</td>\n      <td>0.335893</td>\n      <td>1499.795410</td>\n      <td>7.632520</td>\n      <td>1559.890503</td>\n      <td>7.882037</td>\n      <td>62.571674</td>\n      <td>1.359559</td>\n      <td>1.783999</td>\n      <td>86.051445</td>\n    </tr>\n    <tr>\n      <th>min</th>\n      <td>0.000000</td>\n      <td>135.929167</td>\n      <td>35.470833</td>\n      <td>0.000000</td>\n      <td>0.017916</td>\n      <td>0.000000</td>\n      <td>0.232500</td>\n      <td>-32.393066</td>\n      <td>-114.507751</td>\n      <td>-2.485887</td>\n      <td>-86.416664</td>\n    </tr>\n    <tr>\n      <th>25%</th>\n      <td>18994.750000</td>\n      <td>137.262500</td>\n      <td>35.762500</td>\n      <td>36.087353</td>\n      <td>0.151319</td>\n      <td>35.383270</td>\n      <td>0.353750</td>\n      <td>-2.081116</td>\n      <td>0.127287</td>\n      <td>-2.003637</td>\n      <td>8.826560</td>\n    </tr>\n    <tr>\n      <th>50%</th>\n      <td>37989.500000</td>\n      <td>138.370833</td>\n      <td>36.037500</td>\n      <td>151.653732</td>\n      <td>0.376016</td>\n      <td>150.358307</td>\n      <td>0.568750</td>\n      <td>-0.581619</td>\n      <td>0.195765</td>\n      <td>-1.233979</td>\n      <td>54.420284</td>\n    </tr>\n    <tr>\n      <th>75%</th>\n      <td>56984.250000</td>\n      <td>139.487500</td>\n      <td>36.337500</td>\n      <td>345.177017</td>\n      <td>1.843156</td>\n      <td>343.561745</td>\n      <td>1.935000</td>\n      <td>-0.207652</td>\n      <td>0.236514</td>\n      <td>-0.168068</td>\n      <td>132.570038</td>\n    </tr>\n    <tr>\n      <th>max</th>\n      <td>75979.000000</td>\n      <td>140.870833</td>\n      <td>36.645833</td>\n      <td>15934.238281</td>\n      <td>217.520508</td>\n      <td>16671.593750</td>\n      <td>246.217499</td>\n      <td>737.355469</td>\n      <td>46.866074</td>\n      <td>4.627505</td>\n      <td>1525.646851</td>\n    </tr>\n  </tbody>\n</table>\n</div>"
     },
     "execution_count": 67,
     "metadata": {},
     "output_type": "execute_result"
    }
   ],
   "source": [
    "change_pop.describe()"
   ],
   "metadata": {
    "collapsed": false,
    "pycharm": {
     "name": "#%%\n"
    }
   }
  },
  {
   "cell_type": "code",
   "execution_count": 65,
   "outputs": [
    {
     "data": {
      "text/plain": "<AxesSubplot:xlabel='change_in_pop', ylabel='change_in_lights'>"
     },
     "execution_count": 65,
     "metadata": {},
     "output_type": "execute_result"
    },
    {
     "data": {
      "text/plain": "<Figure size 576x432 with 1 Axes>",
      "image/png": "[encoded data removed]"
     },
     "metadata": {
      "needs_background": "light"
     },
     "output_type": "display_data"
    }
   ],
   "source": [
    "change_pop.plot(x = 'change_in_pop', y = 'change_in_lights', kind = 'scatter', figsize = (8, 6))"
   ],
   "metadata": {
    "collapsed": false,
    "pycharm": {
     "name": "#%%\n"
    }
   }
  },
  {
   "cell_type": "code",
   "execution_count": 66,
   "outputs": [
    {
     "data": {
      "text/plain": "<AxesSubplot:xlabel='change_in_pop_per', ylabel='change_in_lights_per'>"
     },
     "execution_count": 66,
     "metadata": {},
     "output_type": "execute_result"
    },
    {
     "data": {
      "text/plain": "<Figure size 576x432 with 1 Axes>",
      "image/png": "[encoded data removed]"
     },
     "metadata": {
      "needs_background": "light"
     },
     "output_type": "display_data"
    }
   ],
   "source": [
    "change_pop.plot(x = 'change_in_pop_per', y = 'change_in_lights_per', kind = 'scatter', figsize = (8, 6))"
   ],
   "metadata": {
    "collapsed": false,
    "pycharm": {
     "name": "#%%\n"
    }
   }
  },
  {
   "cell_type": "code",
   "execution_count": null,
   "outputs": [],
   "source": [],
   "metadata": {
    "collapsed": false,
    "pycharm": {
     "name": "#%%\n"
    }
   }
  }
 ],
 "metadata": {
  "kernelspec": {
   "name": "nightlights",
   "language": "python",
   "display_name": "NightLights"
  },
  "language_info": {
   "codemirror_mode": {
    "name": "ipython",
    "version": 2
   },
   "file_extension": ".py",
   "mimetype": "text/x-python",
   "name": "python",
   "nbconvert_exporter": "python",
   "pygments_lexer": "ipython2",
   "version": "2.7.6"
  }
 },
 "nbformat": 4,
 "nbformat_minor": 0
}